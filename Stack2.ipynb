{
  "cells": [
    {
      "cell_type": "markdown",
      "source": [
        "# Intro"
      ],
      "metadata": {
        "id": "Jf0yDdEZu0sC"
      }
    },
    {
      "cell_type": "code",
      "execution_count": 1,
      "metadata": {
        "id": "-e4EuUnVn7g5"
      },
      "outputs": [],
      "source": [
        "# Data\n",
        "import os\n",
        "import numpy as np\n",
        "import pandas as pd\n",
        "\n",
        "# SkLearn\n",
        "from sklearn.model_selection import train_test_split\n",
        "from sklearn.preprocessing import MinMaxScaler\n",
        "from sklearn.model_selection import GridSearchCV\n",
        "from sklearn.neural_network import MLPRegressor\n",
        "from sklearn.metrics import mean_squared_error, mean_absolute_error, r2_score\n",
        "from sklearn.ensemble import RandomForestRegressor, GradientBoostingRegressor\n",
        "from sklearn.svm import SVR\n",
        "\n",
        "# Display\n",
        "from IPython.display import clear_output\n",
        "\n",
        "# Visualizaciones\n",
        "import matplotlib.pyplot as plt\n",
        "import seaborn as sns\n",
        "\n",
        "# Redes Neuronales\n",
        "import tensorflow as tf\n",
        "from tensorflow.keras.models import Sequential, load_model, save_model\n",
        "from tensorflow.keras.layers import Dense, Input, Dropout, Conv1D, Flatten\n",
        "from tensorflow.keras.optimizers import Adam\n",
        "from tensorflow.keras.callbacks import ModelCheckpoint, ReduceLROnPlateau, EarlyStopping\n",
        "from tensorflow.keras.regularizers import l2\n",
        "\n",
        "# Gradient Boosting\n",
        "import xgboost as xgb\n",
        "\n",
        "# Import/Export\n",
        "import pickle\n",
        "import joblib\n",
        "\n",
        "# Optimización Inversa\n",
        "from scipy.optimize import differential_evolution, minimize"
      ]
    },
    {
      "cell_type": "code",
      "execution_count": 2,
      "metadata": {
        "id": "WxV12uGMn7g9",
        "colab": {
          "base_uri": "https://localhost:8080/"
        },
        "outputId": "8a10298a-135e-44fe-e337-ca0ee3002fe1"
      },
      "outputs": [
        {
          "output_type": "stream",
          "name": "stdout",
          "text": [
            "Cloning into 'Multi-Parameter_Wireless_Network'...\n",
            "remote: Enumerating objects: 321, done.\u001b[K\n",
            "remote: Counting objects: 100% (162/162), done.\u001b[K\n",
            "remote: Compressing objects: 100% (119/119), done.\u001b[K\n",
            "remote: Total 321 (delta 104), reused 63 (delta 43), pack-reused 159\u001b[K\n",
            "Receiving objects: 100% (321/321), 25.74 MiB | 15.60 MiB/s, done.\n",
            "Resolving deltas: 100% (144/144), done.\n"
          ]
        }
      ],
      "source": [
        "REPO_NAME = \"Multi-Parameter_Wireless_Network\"\n",
        "if REPO_NAME not in os.getcwd():\n",
        "  if not os.path.exists(REPO_NAME):\n",
        "    !git clone https://github.com/MiguelMussi/{REPO_NAME}.git\n",
        "  os.chdir(REPO_NAME)"
      ]
    },
    {
      "cell_type": "markdown",
      "metadata": {
        "id": "UyIY5hcEn7g9"
      },
      "source": [
        "Establecer GPU por defecto en caso de estar disponible."
      ]
    },
    {
      "cell_type": "code",
      "execution_count": 3,
      "metadata": {
        "id": "34itNjT3n7g_",
        "outputId": "a84ea36c-9f82-4926-da46-0f0f6a1c8b64",
        "colab": {
          "base_uri": "https://localhost:8080/"
        }
      },
      "outputs": [
        {
          "output_type": "stream",
          "name": "stdout",
          "text": [
            "1 Physical GPUs, 1 Logical GPUs\n"
          ]
        }
      ],
      "source": [
        "# Configurar para que TensorFlow utilice la GPU por defecto\n",
        "gpus = tf.config.experimental.list_physical_devices('GPU')\n",
        "if gpus:\n",
        "    try:\n",
        "        # Configurar para que TensorFlow asigne memoria dinámicamente\n",
        "        for gpu in gpus:\n",
        "            tf.config.experimental.set_memory_growth(gpu, True)\n",
        "        # Especificar la GPU por defecto\n",
        "        logical_gpus = tf.config.experimental.list_logical_devices('GPU')\n",
        "        print(len(gpus), \"Physical GPUs,\", len(logical_gpus), \"Logical GPUs\")\n",
        "    except RuntimeError as e:\n",
        "        # Manejar error\n",
        "        print(e)"
      ]
    },
    {
      "cell_type": "code",
      "execution_count": 4,
      "metadata": {
        "id": "7H3hPOm1n7hA"
      },
      "outputs": [],
      "source": [
        "with open('datos.txt', 'r') as file:\n",
        "    data = file.read()\n",
        "lines = data.strip().split('\\n')\n",
        "rows = [line.split() for line in lines]\n",
        "df = pd.DataFrame(rows)\n",
        "df = df.apply(pd.to_numeric)"
      ]
    },
    {
      "cell_type": "code",
      "source": [
        "df.shape"
      ],
      "metadata": {
        "colab": {
          "base_uri": "https://localhost:8080/"
        },
        "id": "QKPkfUS9oDIi",
        "outputId": "fe62d6e1-f66a-47e9-914e-896aacda841e"
      },
      "execution_count": 5,
      "outputs": [
        {
          "output_type": "execute_result",
          "data": {
            "text/plain": [
              "(13800, 227)"
            ]
          },
          "metadata": {},
          "execution_count": 5
        }
      ]
    },
    {
      "cell_type": "markdown",
      "source": [
        "### Funciones"
      ],
      "metadata": {
        "id": "1n1SZkWgA5t3"
      }
    },
    {
      "cell_type": "code",
      "source": [
        "def renombrar_columnas(df):\n",
        "    new_col_names = []\n",
        "    for i in range(1, 57):\n",
        "        new_col_names.extend([f'{i}a', f'{i}b', f'{i}c', f'{i}d'])\n",
        "    new_col_names.extend(['R1', 'R2', 'R3'])\n",
        "    df.columns = new_col_names\n",
        "    return df"
      ],
      "metadata": {
        "id": "wv4os0_CWSjM"
      },
      "execution_count": 6,
      "outputs": []
    },
    {
      "cell_type": "code",
      "execution_count": 7,
      "metadata": {
        "id": "mmKjUxLkn7hD"
      },
      "outputs": [],
      "source": [
        "def eliminar_registros_duplicados(df):\n",
        "    df_clean = df.drop_duplicates()\n",
        "    return df_clean"
      ]
    },
    {
      "cell_type": "code",
      "execution_count": 8,
      "metadata": {
        "id": "Qi-dDdF9n7hE"
      },
      "outputs": [],
      "source": [
        "def escalar_datos(df, scaler_dict=None):\n",
        "    if scaler_dict is None:\n",
        "        scaler_dict = {}\n",
        "    for columna in df.columns:\n",
        "        if columna not in scaler_dict:\n",
        "            scaler_dict[columna] = MinMaxScaler()\n",
        "        df[columna] = scaler_dict[columna].fit_transform(df[[columna]])\n",
        "    return df, scaler_dict"
      ]
    },
    {
      "cell_type": "code",
      "source": [
        "def separar_Xy(df, columnas_target):\n",
        "    X = df.drop(columnas_target, axis=1).copy()\n",
        "    y = df[columnas_target].copy()\n",
        "    return X, y"
      ],
      "metadata": {
        "id": "1X2mUc05vg8n"
      },
      "execution_count": 9,
      "outputs": []
    },
    {
      "cell_type": "code",
      "source": [
        "def r2_ajustado(y_true, y_pred, n, p):\n",
        "    r2 = r2_score(y_true, y_pred)\n",
        "    r2_aj = 1 - ((1 - r2) * (n - 1) / (n - p - 1))\n",
        "    return r2_aj"
      ],
      "metadata": {
        "id": "wkU6nsMl3Zv3"
      },
      "execution_count": 10,
      "outputs": []
    },
    {
      "cell_type": "markdown",
      "source": [
        "### Procesamiento"
      ],
      "metadata": {
        "id": "k4httjdZA9Ve"
      }
    },
    {
      "cell_type": "code",
      "source": [
        "df = renombrar_columnas(df)\n",
        "df = eliminar_registros_duplicados(df)"
      ],
      "metadata": {
        "id": "jAokFNMhs-LY"
      },
      "execution_count": 11,
      "outputs": []
    },
    {
      "cell_type": "code",
      "execution_count": 12,
      "metadata": {
        "id": "dHmvnlDpn7hC"
      },
      "outputs": [],
      "source": [
        "df_train, df_test = train_test_split(df, test_size=0.2, random_state=123)"
      ]
    },
    {
      "cell_type": "code",
      "execution_count": 13,
      "metadata": {
        "id": "Xmkv88djn7hE"
      },
      "outputs": [],
      "source": [
        "df_train, train_scaler_dict = escalar_datos(df_train)"
      ]
    },
    {
      "cell_type": "code",
      "source": [
        "columnas_target = ['R1', 'R2', 'R3']"
      ],
      "metadata": {
        "id": "KlgLkl32vtyh"
      },
      "execution_count": 14,
      "outputs": []
    },
    {
      "cell_type": "code",
      "source": [
        "X_train, y_train = separar_Xy(df_train, columnas_target=columnas_target)"
      ],
      "metadata": {
        "id": "NMVF-Thav3pB"
      },
      "execution_count": 15,
      "outputs": []
    },
    {
      "cell_type": "code",
      "source": [
        "df_test_out = df_test.copy()\n",
        "df_test_out, _ = escalar_datos(df_test_out, train_scaler_dict)\n",
        "X_test, y_test = separar_Xy(df_test_out, columnas_target=columnas_target)"
      ],
      "metadata": {
        "id": "yTjGFLjmzBSV"
      },
      "execution_count": 16,
      "outputs": []
    },
    {
      "cell_type": "code",
      "source": [
        "X_train.shape, y_train.shape, X_test.shape, y_test.shape"
      ],
      "metadata": {
        "colab": {
          "base_uri": "https://localhost:8080/"
        },
        "id": "jpOyTPX_0_ti",
        "outputId": "9bbc9183-d966-481d-f4af-af9156db4674"
      },
      "execution_count": 17,
      "outputs": [
        {
          "output_type": "execute_result",
          "data": {
            "text/plain": [
              "((10258, 224), (10258, 3), (2565, 224), (2565, 3))"
            ]
          },
          "metadata": {},
          "execution_count": 17
        }
      ]
    },
    {
      "cell_type": "markdown",
      "source": [
        "# Ensamble"
      ],
      "metadata": {
        "id": "IL64OonMvDS-"
      }
    },
    {
      "cell_type": "markdown",
      "source": [
        "## MLP Model"
      ],
      "metadata": {
        "id": "ccjKObKJ86dy"
      }
    },
    {
      "cell_type": "code",
      "source": [
        "mlp_model = MLPRegressor(hidden_layer_sizes=(500, 200, 100, 50, 10 ), activation='relu', solver='adam', max_iter=300)\n",
        "mlp_model.fit(X_train, y_train)"
      ],
      "metadata": {
        "colab": {
          "base_uri": "https://localhost:8080/",
          "height": 75
        },
        "id": "993vP-2ZjVeV",
        "outputId": "837c93d6-2a71-45ac-b962-dd05b58e349b"
      },
      "execution_count": 18,
      "outputs": [
        {
          "output_type": "execute_result",
          "data": {
            "text/plain": [
              "MLPRegressor(hidden_layer_sizes=(500, 200, 100, 50, 10), max_iter=300)"
            ],
            "text/html": [
              "<style>#sk-container-id-1 {color: black;background-color: white;}#sk-container-id-1 pre{padding: 0;}#sk-container-id-1 div.sk-toggleable {background-color: white;}#sk-container-id-1 label.sk-toggleable__label {cursor: pointer;display: block;width: 100%;margin-bottom: 0;padding: 0.3em;box-sizing: border-box;text-align: center;}#sk-container-id-1 label.sk-toggleable__label-arrow:before {content: \"▸\";float: left;margin-right: 0.25em;color: #696969;}#sk-container-id-1 label.sk-toggleable__label-arrow:hover:before {color: black;}#sk-container-id-1 div.sk-estimator:hover label.sk-toggleable__label-arrow:before {color: black;}#sk-container-id-1 div.sk-toggleable__content {max-height: 0;max-width: 0;overflow: hidden;text-align: left;background-color: #f0f8ff;}#sk-container-id-1 div.sk-toggleable__content pre {margin: 0.2em;color: black;border-radius: 0.25em;background-color: #f0f8ff;}#sk-container-id-1 input.sk-toggleable__control:checked~div.sk-toggleable__content {max-height: 200px;max-width: 100%;overflow: auto;}#sk-container-id-1 input.sk-toggleable__control:checked~label.sk-toggleable__label-arrow:before {content: \"▾\";}#sk-container-id-1 div.sk-estimator input.sk-toggleable__control:checked~label.sk-toggleable__label {background-color: #d4ebff;}#sk-container-id-1 div.sk-label input.sk-toggleable__control:checked~label.sk-toggleable__label {background-color: #d4ebff;}#sk-container-id-1 input.sk-hidden--visually {border: 0;clip: rect(1px 1px 1px 1px);clip: rect(1px, 1px, 1px, 1px);height: 1px;margin: -1px;overflow: hidden;padding: 0;position: absolute;width: 1px;}#sk-container-id-1 div.sk-estimator {font-family: monospace;background-color: #f0f8ff;border: 1px dotted black;border-radius: 0.25em;box-sizing: border-box;margin-bottom: 0.5em;}#sk-container-id-1 div.sk-estimator:hover {background-color: #d4ebff;}#sk-container-id-1 div.sk-parallel-item::after {content: \"\";width: 100%;border-bottom: 1px solid gray;flex-grow: 1;}#sk-container-id-1 div.sk-label:hover label.sk-toggleable__label {background-color: #d4ebff;}#sk-container-id-1 div.sk-serial::before {content: \"\";position: absolute;border-left: 1px solid gray;box-sizing: border-box;top: 0;bottom: 0;left: 50%;z-index: 0;}#sk-container-id-1 div.sk-serial {display: flex;flex-direction: column;align-items: center;background-color: white;padding-right: 0.2em;padding-left: 0.2em;position: relative;}#sk-container-id-1 div.sk-item {position: relative;z-index: 1;}#sk-container-id-1 div.sk-parallel {display: flex;align-items: stretch;justify-content: center;background-color: white;position: relative;}#sk-container-id-1 div.sk-item::before, #sk-container-id-1 div.sk-parallel-item::before {content: \"\";position: absolute;border-left: 1px solid gray;box-sizing: border-box;top: 0;bottom: 0;left: 50%;z-index: -1;}#sk-container-id-1 div.sk-parallel-item {display: flex;flex-direction: column;z-index: 1;position: relative;background-color: white;}#sk-container-id-1 div.sk-parallel-item:first-child::after {align-self: flex-end;width: 50%;}#sk-container-id-1 div.sk-parallel-item:last-child::after {align-self: flex-start;width: 50%;}#sk-container-id-1 div.sk-parallel-item:only-child::after {width: 0;}#sk-container-id-1 div.sk-dashed-wrapped {border: 1px dashed gray;margin: 0 0.4em 0.5em 0.4em;box-sizing: border-box;padding-bottom: 0.4em;background-color: white;}#sk-container-id-1 div.sk-label label {font-family: monospace;font-weight: bold;display: inline-block;line-height: 1.2em;}#sk-container-id-1 div.sk-label-container {text-align: center;}#sk-container-id-1 div.sk-container {/* jupyter's `normalize.less` sets `[hidden] { display: none; }` but bootstrap.min.css set `[hidden] { display: none !important; }` so we also need the `!important` here to be able to override the default hidden behavior on the sphinx rendered scikit-learn.org. See: https://github.com/scikit-learn/scikit-learn/issues/21755 */display: inline-block !important;position: relative;}#sk-container-id-1 div.sk-text-repr-fallback {display: none;}</style><div id=\"sk-container-id-1\" class=\"sk-top-container\"><div class=\"sk-text-repr-fallback\"><pre>MLPRegressor(hidden_layer_sizes=(500, 200, 100, 50, 10), max_iter=300)</pre><b>In a Jupyter environment, please rerun this cell to show the HTML representation or trust the notebook. <br />On GitHub, the HTML representation is unable to render, please try loading this page with nbviewer.org.</b></div><div class=\"sk-container\" hidden><div class=\"sk-item\"><div class=\"sk-estimator sk-toggleable\"><input class=\"sk-toggleable__control sk-hidden--visually\" id=\"sk-estimator-id-1\" type=\"checkbox\" checked><label for=\"sk-estimator-id-1\" class=\"sk-toggleable__label sk-toggleable__label-arrow\">MLPRegressor</label><div class=\"sk-toggleable__content\"><pre>MLPRegressor(hidden_layer_sizes=(500, 200, 100, 50, 10), max_iter=300)</pre></div></div></div></div></div>"
            ]
          },
          "metadata": {},
          "execution_count": 18
        }
      ]
    },
    {
      "cell_type": "markdown",
      "source": [
        "## DNN Model"
      ],
      "metadata": {
        "id": "ywebU7aCaWFx"
      }
    },
    {
      "cell_type": "code",
      "source": [
        "# Arquitectura\n",
        "# dnn_model = Sequential([\n",
        "#     Input(shape=(X_train.shape[1],)),\n",
        "#     Dense(256, activation='relu'), Dropout(0.2),\n",
        "#     Dense(32, activation='relu'), Dropout(0.2),\n",
        "#     Dense(3, activation='linear')\n",
        "# ])\n",
        "\n",
        "dnn_model = Sequential([\n",
        "    Input(shape=(X_train.shape[1],)),\n",
        "    Dense(256, activation='relu'), Dropout(0.2),\n",
        "    Dense(512, activation='relu'), Dropout(0.2),\n",
        "    Dense(256, activation='relu'), Dropout(0.2),\n",
        "    Dense(128, activation='relu'), Dropout(0.2),\n",
        "    Dense(64, activation='relu'), Dropout(0.2),\n",
        "    Dense(32, activation='relu'), Dropout(0.2),\n",
        "    Dense(3, activation='linear')\n",
        "])\n",
        "\n",
        "# Entrenamiento\n",
        "print(\"Inicio del Entrenamiento\\n-------------------------\")\n",
        "\n",
        "# CallBacks\n",
        "early_stopping = EarlyStopping(monitor=\"val_loss\", patience=20, verbose=0, mode=\"min\")\n",
        "checkpoint_loss = ModelCheckpoint(\"model-e{epoch:02d}-loss{val_loss:.3f}\", save_best_only=True,\n",
        "    monitor=\"val_loss\", mode=\"min\")\n",
        "reduce_lr = ReduceLROnPlateau(monitor=\"loss\", factor=0.5, patience=5, verbose=1, min_delta=1e-4, mode=\"min\")\n",
        "\n",
        "callbacks=[reduce_lr]\n",
        "dnn_model.compile(optimizer=Adam(learning_rate=0.001), loss='mean_squared_error', metrics=['mean_squared_error', 'mae'])\n",
        "dnn_model.fit(X_train, y_train, epochs=200, batch_size=64, callbacks=callbacks, validation_split=0.2, verbose=1)\n",
        "clear_output(wait=True)\n",
        "print(\"-------------------------\\nFin del Entrenamiento\")"
      ],
      "metadata": {
        "colab": {
          "base_uri": "https://localhost:8080/"
        },
        "id": "9m-bL_0-aJnG",
        "outputId": "1ff6b825-8c60-4945-e06d-8f798be8e34f"
      },
      "execution_count": 20,
      "outputs": [
        {
          "output_type": "stream",
          "name": "stdout",
          "text": [
            "-------------------------\n",
            "Fin del Entrenamiento\n"
          ]
        }
      ]
    },
    {
      "cell_type": "markdown",
      "source": [
        "## RandomForest"
      ],
      "metadata": {
        "id": "V3jShyF8zl7r"
      }
    },
    {
      "cell_type": "code",
      "source": [
        "rf_model = RandomForestRegressor(n_estimators=100, random_state=42)\n",
        "rf_model.fit(X_train, y_train)"
      ],
      "metadata": {
        "id": "0gTxprw1zsYn",
        "colab": {
          "base_uri": "https://localhost:8080/",
          "height": 75
        },
        "outputId": "347a2d13-43b5-4416-e25a-bd7ba27345c0"
      },
      "execution_count": 21,
      "outputs": [
        {
          "output_type": "execute_result",
          "data": {
            "text/plain": [
              "RandomForestRegressor(random_state=42)"
            ],
            "text/html": [
              "<style>#sk-container-id-2 {color: black;background-color: white;}#sk-container-id-2 pre{padding: 0;}#sk-container-id-2 div.sk-toggleable {background-color: white;}#sk-container-id-2 label.sk-toggleable__label {cursor: pointer;display: block;width: 100%;margin-bottom: 0;padding: 0.3em;box-sizing: border-box;text-align: center;}#sk-container-id-2 label.sk-toggleable__label-arrow:before {content: \"▸\";float: left;margin-right: 0.25em;color: #696969;}#sk-container-id-2 label.sk-toggleable__label-arrow:hover:before {color: black;}#sk-container-id-2 div.sk-estimator:hover label.sk-toggleable__label-arrow:before {color: black;}#sk-container-id-2 div.sk-toggleable__content {max-height: 0;max-width: 0;overflow: hidden;text-align: left;background-color: #f0f8ff;}#sk-container-id-2 div.sk-toggleable__content pre {margin: 0.2em;color: black;border-radius: 0.25em;background-color: #f0f8ff;}#sk-container-id-2 input.sk-toggleable__control:checked~div.sk-toggleable__content {max-height: 200px;max-width: 100%;overflow: auto;}#sk-container-id-2 input.sk-toggleable__control:checked~label.sk-toggleable__label-arrow:before {content: \"▾\";}#sk-container-id-2 div.sk-estimator input.sk-toggleable__control:checked~label.sk-toggleable__label {background-color: #d4ebff;}#sk-container-id-2 div.sk-label input.sk-toggleable__control:checked~label.sk-toggleable__label {background-color: #d4ebff;}#sk-container-id-2 input.sk-hidden--visually {border: 0;clip: rect(1px 1px 1px 1px);clip: rect(1px, 1px, 1px, 1px);height: 1px;margin: -1px;overflow: hidden;padding: 0;position: absolute;width: 1px;}#sk-container-id-2 div.sk-estimator {font-family: monospace;background-color: #f0f8ff;border: 1px dotted black;border-radius: 0.25em;box-sizing: border-box;margin-bottom: 0.5em;}#sk-container-id-2 div.sk-estimator:hover {background-color: #d4ebff;}#sk-container-id-2 div.sk-parallel-item::after {content: \"\";width: 100%;border-bottom: 1px solid gray;flex-grow: 1;}#sk-container-id-2 div.sk-label:hover label.sk-toggleable__label {background-color: #d4ebff;}#sk-container-id-2 div.sk-serial::before {content: \"\";position: absolute;border-left: 1px solid gray;box-sizing: border-box;top: 0;bottom: 0;left: 50%;z-index: 0;}#sk-container-id-2 div.sk-serial {display: flex;flex-direction: column;align-items: center;background-color: white;padding-right: 0.2em;padding-left: 0.2em;position: relative;}#sk-container-id-2 div.sk-item {position: relative;z-index: 1;}#sk-container-id-2 div.sk-parallel {display: flex;align-items: stretch;justify-content: center;background-color: white;position: relative;}#sk-container-id-2 div.sk-item::before, #sk-container-id-2 div.sk-parallel-item::before {content: \"\";position: absolute;border-left: 1px solid gray;box-sizing: border-box;top: 0;bottom: 0;left: 50%;z-index: -1;}#sk-container-id-2 div.sk-parallel-item {display: flex;flex-direction: column;z-index: 1;position: relative;background-color: white;}#sk-container-id-2 div.sk-parallel-item:first-child::after {align-self: flex-end;width: 50%;}#sk-container-id-2 div.sk-parallel-item:last-child::after {align-self: flex-start;width: 50%;}#sk-container-id-2 div.sk-parallel-item:only-child::after {width: 0;}#sk-container-id-2 div.sk-dashed-wrapped {border: 1px dashed gray;margin: 0 0.4em 0.5em 0.4em;box-sizing: border-box;padding-bottom: 0.4em;background-color: white;}#sk-container-id-2 div.sk-label label {font-family: monospace;font-weight: bold;display: inline-block;line-height: 1.2em;}#sk-container-id-2 div.sk-label-container {text-align: center;}#sk-container-id-2 div.sk-container {/* jupyter's `normalize.less` sets `[hidden] { display: none; }` but bootstrap.min.css set `[hidden] { display: none !important; }` so we also need the `!important` here to be able to override the default hidden behavior on the sphinx rendered scikit-learn.org. See: https://github.com/scikit-learn/scikit-learn/issues/21755 */display: inline-block !important;position: relative;}#sk-container-id-2 div.sk-text-repr-fallback {display: none;}</style><div id=\"sk-container-id-2\" class=\"sk-top-container\"><div class=\"sk-text-repr-fallback\"><pre>RandomForestRegressor(random_state=42)</pre><b>In a Jupyter environment, please rerun this cell to show the HTML representation or trust the notebook. <br />On GitHub, the HTML representation is unable to render, please try loading this page with nbviewer.org.</b></div><div class=\"sk-container\" hidden><div class=\"sk-item\"><div class=\"sk-estimator sk-toggleable\"><input class=\"sk-toggleable__control sk-hidden--visually\" id=\"sk-estimator-id-2\" type=\"checkbox\" checked><label for=\"sk-estimator-id-2\" class=\"sk-toggleable__label sk-toggleable__label-arrow\">RandomForestRegressor</label><div class=\"sk-toggleable__content\"><pre>RandomForestRegressor(random_state=42)</pre></div></div></div></div></div>"
            ]
          },
          "metadata": {},
          "execution_count": 21
        }
      ]
    },
    {
      "cell_type": "markdown",
      "source": [
        "## Gradient Boosting"
      ],
      "metadata": {
        "id": "UEMRTted0KUF"
      }
    },
    {
      "cell_type": "code",
      "source": [
        "xgb_model = xgb.XGBRegressor(objective='reg:squarederror', n_estimators=200, learning_rate=0.1, max_depth=6, random_state=123)\n",
        "xgb_model.fit(X_train, y_train)"
      ],
      "metadata": {
        "id": "OO7SMvhH0O5O",
        "colab": {
          "base_uri": "https://localhost:8080/",
          "height": 249
        },
        "outputId": "09a22b92-2640-4032-92b6-11174f3f2fc0"
      },
      "execution_count": 22,
      "outputs": [
        {
          "output_type": "execute_result",
          "data": {
            "text/plain": [
              "XGBRegressor(base_score=None, booster=None, callbacks=None,\n",
              "             colsample_bylevel=None, colsample_bynode=None,\n",
              "             colsample_bytree=None, device=None, early_stopping_rounds=None,\n",
              "             enable_categorical=False, eval_metric=None, feature_types=None,\n",
              "             gamma=None, grow_policy=None, importance_type=None,\n",
              "             interaction_constraints=None, learning_rate=0.1, max_bin=None,\n",
              "             max_cat_threshold=None, max_cat_to_onehot=None,\n",
              "             max_delta_step=None, max_depth=6, max_leaves=None,\n",
              "             min_child_weight=None, missing=nan, monotone_constraints=None,\n",
              "             multi_strategy=None, n_estimators=200, n_jobs=None,\n",
              "             num_parallel_tree=None, random_state=123, ...)"
            ],
            "text/html": [
              "<style>#sk-container-id-3 {color: black;background-color: white;}#sk-container-id-3 pre{padding: 0;}#sk-container-id-3 div.sk-toggleable {background-color: white;}#sk-container-id-3 label.sk-toggleable__label {cursor: pointer;display: block;width: 100%;margin-bottom: 0;padding: 0.3em;box-sizing: border-box;text-align: center;}#sk-container-id-3 label.sk-toggleable__label-arrow:before {content: \"▸\";float: left;margin-right: 0.25em;color: #696969;}#sk-container-id-3 label.sk-toggleable__label-arrow:hover:before {color: black;}#sk-container-id-3 div.sk-estimator:hover label.sk-toggleable__label-arrow:before {color: black;}#sk-container-id-3 div.sk-toggleable__content {max-height: 0;max-width: 0;overflow: hidden;text-align: left;background-color: #f0f8ff;}#sk-container-id-3 div.sk-toggleable__content pre {margin: 0.2em;color: black;border-radius: 0.25em;background-color: #f0f8ff;}#sk-container-id-3 input.sk-toggleable__control:checked~div.sk-toggleable__content {max-height: 200px;max-width: 100%;overflow: auto;}#sk-container-id-3 input.sk-toggleable__control:checked~label.sk-toggleable__label-arrow:before {content: \"▾\";}#sk-container-id-3 div.sk-estimator input.sk-toggleable__control:checked~label.sk-toggleable__label {background-color: #d4ebff;}#sk-container-id-3 div.sk-label input.sk-toggleable__control:checked~label.sk-toggleable__label {background-color: #d4ebff;}#sk-container-id-3 input.sk-hidden--visually {border: 0;clip: rect(1px 1px 1px 1px);clip: rect(1px, 1px, 1px, 1px);height: 1px;margin: -1px;overflow: hidden;padding: 0;position: absolute;width: 1px;}#sk-container-id-3 div.sk-estimator {font-family: monospace;background-color: #f0f8ff;border: 1px dotted black;border-radius: 0.25em;box-sizing: border-box;margin-bottom: 0.5em;}#sk-container-id-3 div.sk-estimator:hover {background-color: #d4ebff;}#sk-container-id-3 div.sk-parallel-item::after {content: \"\";width: 100%;border-bottom: 1px solid gray;flex-grow: 1;}#sk-container-id-3 div.sk-label:hover label.sk-toggleable__label {background-color: #d4ebff;}#sk-container-id-3 div.sk-serial::before {content: \"\";position: absolute;border-left: 1px solid gray;box-sizing: border-box;top: 0;bottom: 0;left: 50%;z-index: 0;}#sk-container-id-3 div.sk-serial {display: flex;flex-direction: column;align-items: center;background-color: white;padding-right: 0.2em;padding-left: 0.2em;position: relative;}#sk-container-id-3 div.sk-item {position: relative;z-index: 1;}#sk-container-id-3 div.sk-parallel {display: flex;align-items: stretch;justify-content: center;background-color: white;position: relative;}#sk-container-id-3 div.sk-item::before, #sk-container-id-3 div.sk-parallel-item::before {content: \"\";position: absolute;border-left: 1px solid gray;box-sizing: border-box;top: 0;bottom: 0;left: 50%;z-index: -1;}#sk-container-id-3 div.sk-parallel-item {display: flex;flex-direction: column;z-index: 1;position: relative;background-color: white;}#sk-container-id-3 div.sk-parallel-item:first-child::after {align-self: flex-end;width: 50%;}#sk-container-id-3 div.sk-parallel-item:last-child::after {align-self: flex-start;width: 50%;}#sk-container-id-3 div.sk-parallel-item:only-child::after {width: 0;}#sk-container-id-3 div.sk-dashed-wrapped {border: 1px dashed gray;margin: 0 0.4em 0.5em 0.4em;box-sizing: border-box;padding-bottom: 0.4em;background-color: white;}#sk-container-id-3 div.sk-label label {font-family: monospace;font-weight: bold;display: inline-block;line-height: 1.2em;}#sk-container-id-3 div.sk-label-container {text-align: center;}#sk-container-id-3 div.sk-container {/* jupyter's `normalize.less` sets `[hidden] { display: none; }` but bootstrap.min.css set `[hidden] { display: none !important; }` so we also need the `!important` here to be able to override the default hidden behavior on the sphinx rendered scikit-learn.org. See: https://github.com/scikit-learn/scikit-learn/issues/21755 */display: inline-block !important;position: relative;}#sk-container-id-3 div.sk-text-repr-fallback {display: none;}</style><div id=\"sk-container-id-3\" class=\"sk-top-container\"><div class=\"sk-text-repr-fallback\"><pre>XGBRegressor(base_score=None, booster=None, callbacks=None,\n",
              "             colsample_bylevel=None, colsample_bynode=None,\n",
              "             colsample_bytree=None, device=None, early_stopping_rounds=None,\n",
              "             enable_categorical=False, eval_metric=None, feature_types=None,\n",
              "             gamma=None, grow_policy=None, importance_type=None,\n",
              "             interaction_constraints=None, learning_rate=0.1, max_bin=None,\n",
              "             max_cat_threshold=None, max_cat_to_onehot=None,\n",
              "             max_delta_step=None, max_depth=6, max_leaves=None,\n",
              "             min_child_weight=None, missing=nan, monotone_constraints=None,\n",
              "             multi_strategy=None, n_estimators=200, n_jobs=None,\n",
              "             num_parallel_tree=None, random_state=123, ...)</pre><b>In a Jupyter environment, please rerun this cell to show the HTML representation or trust the notebook. <br />On GitHub, the HTML representation is unable to render, please try loading this page with nbviewer.org.</b></div><div class=\"sk-container\" hidden><div class=\"sk-item\"><div class=\"sk-estimator sk-toggleable\"><input class=\"sk-toggleable__control sk-hidden--visually\" id=\"sk-estimator-id-3\" type=\"checkbox\" checked><label for=\"sk-estimator-id-3\" class=\"sk-toggleable__label sk-toggleable__label-arrow\">XGBRegressor</label><div class=\"sk-toggleable__content\"><pre>XGBRegressor(base_score=None, booster=None, callbacks=None,\n",
              "             colsample_bylevel=None, colsample_bynode=None,\n",
              "             colsample_bytree=None, device=None, early_stopping_rounds=None,\n",
              "             enable_categorical=False, eval_metric=None, feature_types=None,\n",
              "             gamma=None, grow_policy=None, importance_type=None,\n",
              "             interaction_constraints=None, learning_rate=0.1, max_bin=None,\n",
              "             max_cat_threshold=None, max_cat_to_onehot=None,\n",
              "             max_delta_step=None, max_depth=6, max_leaves=None,\n",
              "             min_child_weight=None, missing=nan, monotone_constraints=None,\n",
              "             multi_strategy=None, n_estimators=200, n_jobs=None,\n",
              "             num_parallel_tree=None, random_state=123, ...)</pre></div></div></div></div></div>"
            ]
          },
          "metadata": {},
          "execution_count": 22
        }
      ]
    },
    {
      "cell_type": "markdown",
      "source": [
        "## -- Meta Model --"
      ],
      "metadata": {
        "id": "fqmHVESnoKQM"
      }
    },
    {
      "cell_type": "markdown",
      "source": [
        "### Predicciones Modelos Base"
      ],
      "metadata": {
        "id": "1OfyPj9KTI1Z"
      }
    },
    {
      "cell_type": "code",
      "source": [
        "# Obtener predicciones del conjunto de entrenamiento\n",
        "mlp_train_preds = mlp_model.predict(X_train)\n",
        "rf_train_preds = rf_model.predict(X_train)\n",
        "xgb_train_preds = xgb_model.predict(X_train)\n",
        "dnn_train_preds = dnn_model.predict(X_train)\n",
        "\n",
        "# Concatenar todas las predicciones para formar un nuevo conjunto de características para el meta-modelo\n",
        "meta_X_train = np.concatenate((mlp_train_preds, rf_train_preds, xgb_train_preds, dnn_train_preds), axis=1)\n",
        "\n",
        "# Obtener predicciones del conjunto de prueba\n",
        "mlp_test_preds = mlp_model.predict(X_test)\n",
        "rf_test_preds = rf_model.predict(X_test)\n",
        "xgb_test_preds = xgb_model.predict(X_test)\n",
        "dnn_test_preds = dnn_model.predict(X_test)\n",
        "\n",
        "# Concatenar todas las predicciones para formar un nuevo conjunto de características para el meta-modelo\n",
        "meta_X_test = np.concatenate((mlp_test_preds, rf_test_preds, xgb_test_preds, dnn_test_preds), axis=1)"
      ],
      "metadata": {
        "id": "Uh4TXNK4oQm_",
        "outputId": "d3481dd4-bc84-4e18-8021-c2d74bd82486",
        "colab": {
          "base_uri": "https://localhost:8080/"
        }
      },
      "execution_count": 23,
      "outputs": [
        {
          "output_type": "stream",
          "name": "stdout",
          "text": [
            "321/321 [==============================] - 1s 2ms/step\n",
            "81/81 [==============================] - 0s 2ms/step\n"
          ]
        }
      ]
    },
    {
      "cell_type": "code",
      "source": [
        "mlp_test_preds.shape, rf_test_preds.shape, xgb_test_preds.shape, dnn_test_preds.shape"
      ],
      "metadata": {
        "colab": {
          "base_uri": "https://localhost:8080/"
        },
        "id": "eduoLLoN6my3",
        "outputId": "9a6750bf-9351-4279-9aa8-2c78c7a3adca"
      },
      "execution_count": 24,
      "outputs": [
        {
          "output_type": "execute_result",
          "data": {
            "text/plain": [
              "((2565, 3), (2565, 3), (2565, 3), (2565, 3))"
            ]
          },
          "metadata": {},
          "execution_count": 24
        }
      ]
    },
    {
      "cell_type": "markdown",
      "source": [
        "### RandomForest"
      ],
      "metadata": {
        "id": "6rVTWyl1aNH-"
      }
    },
    {
      "cell_type": "code",
      "source": [
        "meta_model = RandomForestRegressor(n_estimators=500, random_state=42)\n",
        "meta_model.fit(meta_X_train, y_train)\n",
        "\n",
        "# Evaluar el meta-modelo en el conjunto de prueba\n",
        "meta_predictions = meta_model.predict(meta_X_test)\n",
        "mse = mean_squared_error(y_test, meta_predictions)\n",
        "print(f'MSE - Mean Squared Error del meta-modelo: {mse}')"
      ],
      "metadata": {
        "id": "IaKtMeV7tths",
        "colab": {
          "base_uri": "https://localhost:8080/"
        },
        "outputId": "f58513ee-1c6d-4c5e-b21b-ddb03008c432"
      },
      "execution_count": 25,
      "outputs": [
        {
          "output_type": "stream",
          "name": "stdout",
          "text": [
            "MSE - Mean Squared Error del meta-modelo: 0.002270242461191553\n"
          ]
        }
      ]
    },
    {
      "cell_type": "code",
      "source": [
        "# 100 - 0.002789\n",
        "# 200 - 0.002780\n",
        "# 500 - 0.002774 / 0.002513 / 0.002770\n",
        "# 1000 - 0.002775"
      ],
      "metadata": {
        "id": "8k2Dw1E8YS_A"
      },
      "execution_count": null,
      "outputs": []
    },
    {
      "cell_type": "code",
      "source": [
        "# 0.002279"
      ],
      "metadata": {
        "id": "cODxXQN7DPl8"
      },
      "execution_count": null,
      "outputs": []
    },
    {
      "cell_type": "markdown",
      "source": [
        "### Predicciones y Métricas"
      ],
      "metadata": {
        "id": "lpmcqnZnTyMB"
      }
    },
    {
      "cell_type": "code",
      "source": [
        "predicciones = pd.DataFrame(df_test, columns=df_test.columns)\n",
        "for i, columna in enumerate(['R1', 'R2', 'R3']):\n",
        "    predicciones[f'P_{columna}'] = train_scaler_dict[columna].inverse_transform(meta_predictions[:, i].reshape(-1, 1))\n",
        "predicciones"
      ],
      "metadata": {
        "colab": {
          "base_uri": "https://localhost:8080/",
          "height": 424
        },
        "id": "Eg5kyaee9ErZ",
        "outputId": "b211c6ae-5d6e-45cc-cdd0-481d98399916"
      },
      "execution_count": 26,
      "outputs": [
        {
          "output_type": "execute_result",
          "data": {
            "text/plain": [
              "        1a  1b   1c  1d   2a  2b   2c  2d   3a  3b  ...  56a  56b  56c  56d  \\\n",
              "2628    70  11   25  25  260  11  110   6  350  -5  ...   90   13   25   12   \n",
              "8573    70  13  105   6  260  11  110   6    0   5  ...   30    7   15   12   \n",
              "4285    80  -5  110   6  280  11   15  12    0  13  ...   70   15  110   25   \n",
              "4094   120  11   25   6  270   1   15  25    0   5  ...   40    5  110   25   \n",
              "6550   130  11  105   6  280  -5   25   6   30  13  ...   30    9  105    6   \n",
              "...    ...  ..  ...  ..  ...  ..  ...  ..  ...  ..  ...  ...  ...  ...  ...   \n",
              "11732   70  -1   25  25  280  -5   45  25  340  -1  ...   30   -3  105    6   \n",
              "12595   70   5  110   6  270   1   15  25   30  -7  ...   90   -3   65   12   \n",
              "13431   90   5   45  12  260  -5   45   6  330  -5  ...   30   13  110    6   \n",
              "4530   130   3  110   6  270   3  105   6  350   7  ...   70    5   15   25   \n",
              "5563   130  -7   25  12  250   3   65  25    0   7  ...   30    7   45   12   \n",
              "\n",
              "          R1     R2     R3       P_R1      P_R2       P_R3  \n",
              "2628    4.13   3.50  10.08   4.132029  3.412359  10.453044  \n",
              "8573    5.46   5.67  13.09   5.176339  5.271208  13.543671  \n",
              "4285   20.47   8.57  24.36  21.094737  8.210898  23.998684  \n",
              "4094   19.07  11.24  25.96  19.469807  9.669238  24.057249  \n",
              "6550    6.76   8.47  17.71  11.436990  7.454134  18.094199  \n",
              "...      ...    ...    ...        ...       ...        ...  \n",
              "11732  13.46   5.92  17.95  14.633396  6.193812  19.064747  \n",
              "12595  16.69   7.10  20.25  17.382845  6.705230  20.433364  \n",
              "13431  14.80   8.15  20.76  14.337443  8.010395  20.032503  \n",
              "4530   11.98  10.71  21.51  10.106060  9.648087  20.338812  \n",
              "5563    1.13  12.42  22.56   2.197768  9.958505  20.344929  \n",
              "\n",
              "[2565 rows x 230 columns]"
            ],
            "text/html": [
              "\n",
              "  <div id=\"df-0c845b6c-1f39-4af7-a880-a963126b3d4b\" class=\"colab-df-container\">\n",
              "    <div>\n",
              "<style scoped>\n",
              "    .dataframe tbody tr th:only-of-type {\n",
              "        vertical-align: middle;\n",
              "    }\n",
              "\n",
              "    .dataframe tbody tr th {\n",
              "        vertical-align: top;\n",
              "    }\n",
              "\n",
              "    .dataframe thead th {\n",
              "        text-align: right;\n",
              "    }\n",
              "</style>\n",
              "<table border=\"1\" class=\"dataframe\">\n",
              "  <thead>\n",
              "    <tr style=\"text-align: right;\">\n",
              "      <th></th>\n",
              "      <th>1a</th>\n",
              "      <th>1b</th>\n",
              "      <th>1c</th>\n",
              "      <th>1d</th>\n",
              "      <th>2a</th>\n",
              "      <th>2b</th>\n",
              "      <th>2c</th>\n",
              "      <th>2d</th>\n",
              "      <th>3a</th>\n",
              "      <th>3b</th>\n",
              "      <th>...</th>\n",
              "      <th>56a</th>\n",
              "      <th>56b</th>\n",
              "      <th>56c</th>\n",
              "      <th>56d</th>\n",
              "      <th>R1</th>\n",
              "      <th>R2</th>\n",
              "      <th>R3</th>\n",
              "      <th>P_R1</th>\n",
              "      <th>P_R2</th>\n",
              "      <th>P_R3</th>\n",
              "    </tr>\n",
              "  </thead>\n",
              "  <tbody>\n",
              "    <tr>\n",
              "      <th>2628</th>\n",
              "      <td>70</td>\n",
              "      <td>11</td>\n",
              "      <td>25</td>\n",
              "      <td>25</td>\n",
              "      <td>260</td>\n",
              "      <td>11</td>\n",
              "      <td>110</td>\n",
              "      <td>6</td>\n",
              "      <td>350</td>\n",
              "      <td>-5</td>\n",
              "      <td>...</td>\n",
              "      <td>90</td>\n",
              "      <td>13</td>\n",
              "      <td>25</td>\n",
              "      <td>12</td>\n",
              "      <td>4.13</td>\n",
              "      <td>3.50</td>\n",
              "      <td>10.08</td>\n",
              "      <td>4.132029</td>\n",
              "      <td>3.412359</td>\n",
              "      <td>10.453044</td>\n",
              "    </tr>\n",
              "    <tr>\n",
              "      <th>8573</th>\n",
              "      <td>70</td>\n",
              "      <td>13</td>\n",
              "      <td>105</td>\n",
              "      <td>6</td>\n",
              "      <td>260</td>\n",
              "      <td>11</td>\n",
              "      <td>110</td>\n",
              "      <td>6</td>\n",
              "      <td>0</td>\n",
              "      <td>5</td>\n",
              "      <td>...</td>\n",
              "      <td>30</td>\n",
              "      <td>7</td>\n",
              "      <td>15</td>\n",
              "      <td>12</td>\n",
              "      <td>5.46</td>\n",
              "      <td>5.67</td>\n",
              "      <td>13.09</td>\n",
              "      <td>5.176339</td>\n",
              "      <td>5.271208</td>\n",
              "      <td>13.543671</td>\n",
              "    </tr>\n",
              "    <tr>\n",
              "      <th>4285</th>\n",
              "      <td>80</td>\n",
              "      <td>-5</td>\n",
              "      <td>110</td>\n",
              "      <td>6</td>\n",
              "      <td>280</td>\n",
              "      <td>11</td>\n",
              "      <td>15</td>\n",
              "      <td>12</td>\n",
              "      <td>0</td>\n",
              "      <td>13</td>\n",
              "      <td>...</td>\n",
              "      <td>70</td>\n",
              "      <td>15</td>\n",
              "      <td>110</td>\n",
              "      <td>25</td>\n",
              "      <td>20.47</td>\n",
              "      <td>8.57</td>\n",
              "      <td>24.36</td>\n",
              "      <td>21.094737</td>\n",
              "      <td>8.210898</td>\n",
              "      <td>23.998684</td>\n",
              "    </tr>\n",
              "    <tr>\n",
              "      <th>4094</th>\n",
              "      <td>120</td>\n",
              "      <td>11</td>\n",
              "      <td>25</td>\n",
              "      <td>6</td>\n",
              "      <td>270</td>\n",
              "      <td>1</td>\n",
              "      <td>15</td>\n",
              "      <td>25</td>\n",
              "      <td>0</td>\n",
              "      <td>5</td>\n",
              "      <td>...</td>\n",
              "      <td>40</td>\n",
              "      <td>5</td>\n",
              "      <td>110</td>\n",
              "      <td>25</td>\n",
              "      <td>19.07</td>\n",
              "      <td>11.24</td>\n",
              "      <td>25.96</td>\n",
              "      <td>19.469807</td>\n",
              "      <td>9.669238</td>\n",
              "      <td>24.057249</td>\n",
              "    </tr>\n",
              "    <tr>\n",
              "      <th>6550</th>\n",
              "      <td>130</td>\n",
              "      <td>11</td>\n",
              "      <td>105</td>\n",
              "      <td>6</td>\n",
              "      <td>280</td>\n",
              "      <td>-5</td>\n",
              "      <td>25</td>\n",
              "      <td>6</td>\n",
              "      <td>30</td>\n",
              "      <td>13</td>\n",
              "      <td>...</td>\n",
              "      <td>30</td>\n",
              "      <td>9</td>\n",
              "      <td>105</td>\n",
              "      <td>6</td>\n",
              "      <td>6.76</td>\n",
              "      <td>8.47</td>\n",
              "      <td>17.71</td>\n",
              "      <td>11.436990</td>\n",
              "      <td>7.454134</td>\n",
              "      <td>18.094199</td>\n",
              "    </tr>\n",
              "    <tr>\n",
              "      <th>...</th>\n",
              "      <td>...</td>\n",
              "      <td>...</td>\n",
              "      <td>...</td>\n",
              "      <td>...</td>\n",
              "      <td>...</td>\n",
              "      <td>...</td>\n",
              "      <td>...</td>\n",
              "      <td>...</td>\n",
              "      <td>...</td>\n",
              "      <td>...</td>\n",
              "      <td>...</td>\n",
              "      <td>...</td>\n",
              "      <td>...</td>\n",
              "      <td>...</td>\n",
              "      <td>...</td>\n",
              "      <td>...</td>\n",
              "      <td>...</td>\n",
              "      <td>...</td>\n",
              "      <td>...</td>\n",
              "      <td>...</td>\n",
              "      <td>...</td>\n",
              "    </tr>\n",
              "    <tr>\n",
              "      <th>11732</th>\n",
              "      <td>70</td>\n",
              "      <td>-1</td>\n",
              "      <td>25</td>\n",
              "      <td>25</td>\n",
              "      <td>280</td>\n",
              "      <td>-5</td>\n",
              "      <td>45</td>\n",
              "      <td>25</td>\n",
              "      <td>340</td>\n",
              "      <td>-1</td>\n",
              "      <td>...</td>\n",
              "      <td>30</td>\n",
              "      <td>-3</td>\n",
              "      <td>105</td>\n",
              "      <td>6</td>\n",
              "      <td>13.46</td>\n",
              "      <td>5.92</td>\n",
              "      <td>17.95</td>\n",
              "      <td>14.633396</td>\n",
              "      <td>6.193812</td>\n",
              "      <td>19.064747</td>\n",
              "    </tr>\n",
              "    <tr>\n",
              "      <th>12595</th>\n",
              "      <td>70</td>\n",
              "      <td>5</td>\n",
              "      <td>110</td>\n",
              "      <td>6</td>\n",
              "      <td>270</td>\n",
              "      <td>1</td>\n",
              "      <td>15</td>\n",
              "      <td>25</td>\n",
              "      <td>30</td>\n",
              "      <td>-7</td>\n",
              "      <td>...</td>\n",
              "      <td>90</td>\n",
              "      <td>-3</td>\n",
              "      <td>65</td>\n",
              "      <td>12</td>\n",
              "      <td>16.69</td>\n",
              "      <td>7.10</td>\n",
              "      <td>20.25</td>\n",
              "      <td>17.382845</td>\n",
              "      <td>6.705230</td>\n",
              "      <td>20.433364</td>\n",
              "    </tr>\n",
              "    <tr>\n",
              "      <th>13431</th>\n",
              "      <td>90</td>\n",
              "      <td>5</td>\n",
              "      <td>45</td>\n",
              "      <td>12</td>\n",
              "      <td>260</td>\n",
              "      <td>-5</td>\n",
              "      <td>45</td>\n",
              "      <td>6</td>\n",
              "      <td>330</td>\n",
              "      <td>-5</td>\n",
              "      <td>...</td>\n",
              "      <td>30</td>\n",
              "      <td>13</td>\n",
              "      <td>110</td>\n",
              "      <td>6</td>\n",
              "      <td>14.80</td>\n",
              "      <td>8.15</td>\n",
              "      <td>20.76</td>\n",
              "      <td>14.337443</td>\n",
              "      <td>8.010395</td>\n",
              "      <td>20.032503</td>\n",
              "    </tr>\n",
              "    <tr>\n",
              "      <th>4530</th>\n",
              "      <td>130</td>\n",
              "      <td>3</td>\n",
              "      <td>110</td>\n",
              "      <td>6</td>\n",
              "      <td>270</td>\n",
              "      <td>3</td>\n",
              "      <td>105</td>\n",
              "      <td>6</td>\n",
              "      <td>350</td>\n",
              "      <td>7</td>\n",
              "      <td>...</td>\n",
              "      <td>70</td>\n",
              "      <td>5</td>\n",
              "      <td>15</td>\n",
              "      <td>25</td>\n",
              "      <td>11.98</td>\n",
              "      <td>10.71</td>\n",
              "      <td>21.51</td>\n",
              "      <td>10.106060</td>\n",
              "      <td>9.648087</td>\n",
              "      <td>20.338812</td>\n",
              "    </tr>\n",
              "    <tr>\n",
              "      <th>5563</th>\n",
              "      <td>130</td>\n",
              "      <td>-7</td>\n",
              "      <td>25</td>\n",
              "      <td>12</td>\n",
              "      <td>250</td>\n",
              "      <td>3</td>\n",
              "      <td>65</td>\n",
              "      <td>25</td>\n",
              "      <td>0</td>\n",
              "      <td>7</td>\n",
              "      <td>...</td>\n",
              "      <td>30</td>\n",
              "      <td>7</td>\n",
              "      <td>45</td>\n",
              "      <td>12</td>\n",
              "      <td>1.13</td>\n",
              "      <td>12.42</td>\n",
              "      <td>22.56</td>\n",
              "      <td>2.197768</td>\n",
              "      <td>9.958505</td>\n",
              "      <td>20.344929</td>\n",
              "    </tr>\n",
              "  </tbody>\n",
              "</table>\n",
              "<p>2565 rows × 230 columns</p>\n",
              "</div>\n",
              "    <div class=\"colab-df-buttons\">\n",
              "\n",
              "  <div class=\"colab-df-container\">\n",
              "    <button class=\"colab-df-convert\" onclick=\"convertToInteractive('df-0c845b6c-1f39-4af7-a880-a963126b3d4b')\"\n",
              "            title=\"Convert this dataframe to an interactive table.\"\n",
              "            style=\"display:none;\">\n",
              "\n",
              "  <svg xmlns=\"http://www.w3.org/2000/svg\" height=\"24px\" viewBox=\"0 -960 960 960\">\n",
              "    <path d=\"M120-120v-720h720v720H120Zm60-500h600v-160H180v160Zm220 220h160v-160H400v160Zm0 220h160v-160H400v160ZM180-400h160v-160H180v160Zm440 0h160v-160H620v160ZM180-180h160v-160H180v160Zm440 0h160v-160H620v160Z\"/>\n",
              "  </svg>\n",
              "    </button>\n",
              "\n",
              "  <style>\n",
              "    .colab-df-container {\n",
              "      display:flex;\n",
              "      gap: 12px;\n",
              "    }\n",
              "\n",
              "    .colab-df-convert {\n",
              "      background-color: #E8F0FE;\n",
              "      border: none;\n",
              "      border-radius: 50%;\n",
              "      cursor: pointer;\n",
              "      display: none;\n",
              "      fill: #1967D2;\n",
              "      height: 32px;\n",
              "      padding: 0 0 0 0;\n",
              "      width: 32px;\n",
              "    }\n",
              "\n",
              "    .colab-df-convert:hover {\n",
              "      background-color: #E2EBFA;\n",
              "      box-shadow: 0px 1px 2px rgba(60, 64, 67, 0.3), 0px 1px 3px 1px rgba(60, 64, 67, 0.15);\n",
              "      fill: #174EA6;\n",
              "    }\n",
              "\n",
              "    .colab-df-buttons div {\n",
              "      margin-bottom: 4px;\n",
              "    }\n",
              "\n",
              "    [theme=dark] .colab-df-convert {\n",
              "      background-color: #3B4455;\n",
              "      fill: #D2E3FC;\n",
              "    }\n",
              "\n",
              "    [theme=dark] .colab-df-convert:hover {\n",
              "      background-color: #434B5C;\n",
              "      box-shadow: 0px 1px 3px 1px rgba(0, 0, 0, 0.15);\n",
              "      filter: drop-shadow(0px 1px 2px rgba(0, 0, 0, 0.3));\n",
              "      fill: #FFFFFF;\n",
              "    }\n",
              "  </style>\n",
              "\n",
              "    <script>\n",
              "      const buttonEl =\n",
              "        document.querySelector('#df-0c845b6c-1f39-4af7-a880-a963126b3d4b button.colab-df-convert');\n",
              "      buttonEl.style.display =\n",
              "        google.colab.kernel.accessAllowed ? 'block' : 'none';\n",
              "\n",
              "      async function convertToInteractive(key) {\n",
              "        const element = document.querySelector('#df-0c845b6c-1f39-4af7-a880-a963126b3d4b');\n",
              "        const dataTable =\n",
              "          await google.colab.kernel.invokeFunction('convertToInteractive',\n",
              "                                                    [key], {});\n",
              "        if (!dataTable) return;\n",
              "\n",
              "        const docLinkHtml = 'Like what you see? Visit the ' +\n",
              "          '<a target=\"_blank\" href=https://colab.research.google.com/notebooks/data_table.ipynb>data table notebook</a>'\n",
              "          + ' to learn more about interactive tables.';\n",
              "        element.innerHTML = '';\n",
              "        dataTable['output_type'] = 'display_data';\n",
              "        await google.colab.output.renderOutput(dataTable, element);\n",
              "        const docLink = document.createElement('div');\n",
              "        docLink.innerHTML = docLinkHtml;\n",
              "        element.appendChild(docLink);\n",
              "      }\n",
              "    </script>\n",
              "  </div>\n",
              "\n",
              "\n",
              "<div id=\"df-9d10e95d-db4a-485c-a072-44c8c6412a7d\">\n",
              "  <button class=\"colab-df-quickchart\" onclick=\"quickchart('df-9d10e95d-db4a-485c-a072-44c8c6412a7d')\"\n",
              "            title=\"Suggest charts\"\n",
              "            style=\"display:none;\">\n",
              "\n",
              "<svg xmlns=\"http://www.w3.org/2000/svg\" height=\"24px\"viewBox=\"0 0 24 24\"\n",
              "     width=\"24px\">\n",
              "    <g>\n",
              "        <path d=\"M19 3H5c-1.1 0-2 .9-2 2v14c0 1.1.9 2 2 2h14c1.1 0 2-.9 2-2V5c0-1.1-.9-2-2-2zM9 17H7v-7h2v7zm4 0h-2V7h2v10zm4 0h-2v-4h2v4z\"/>\n",
              "    </g>\n",
              "</svg>\n",
              "  </button>\n",
              "\n",
              "<style>\n",
              "  .colab-df-quickchart {\n",
              "      --bg-color: #E8F0FE;\n",
              "      --fill-color: #1967D2;\n",
              "      --hover-bg-color: #E2EBFA;\n",
              "      --hover-fill-color: #174EA6;\n",
              "      --disabled-fill-color: #AAA;\n",
              "      --disabled-bg-color: #DDD;\n",
              "  }\n",
              "\n",
              "  [theme=dark] .colab-df-quickchart {\n",
              "      --bg-color: #3B4455;\n",
              "      --fill-color: #D2E3FC;\n",
              "      --hover-bg-color: #434B5C;\n",
              "      --hover-fill-color: #FFFFFF;\n",
              "      --disabled-bg-color: #3B4455;\n",
              "      --disabled-fill-color: #666;\n",
              "  }\n",
              "\n",
              "  .colab-df-quickchart {\n",
              "    background-color: var(--bg-color);\n",
              "    border: none;\n",
              "    border-radius: 50%;\n",
              "    cursor: pointer;\n",
              "    display: none;\n",
              "    fill: var(--fill-color);\n",
              "    height: 32px;\n",
              "    padding: 0;\n",
              "    width: 32px;\n",
              "  }\n",
              "\n",
              "  .colab-df-quickchart:hover {\n",
              "    background-color: var(--hover-bg-color);\n",
              "    box-shadow: 0 1px 2px rgba(60, 64, 67, 0.3), 0 1px 3px 1px rgba(60, 64, 67, 0.15);\n",
              "    fill: var(--button-hover-fill-color);\n",
              "  }\n",
              "\n",
              "  .colab-df-quickchart-complete:disabled,\n",
              "  .colab-df-quickchart-complete:disabled:hover {\n",
              "    background-color: var(--disabled-bg-color);\n",
              "    fill: var(--disabled-fill-color);\n",
              "    box-shadow: none;\n",
              "  }\n",
              "\n",
              "  .colab-df-spinner {\n",
              "    border: 2px solid var(--fill-color);\n",
              "    border-color: transparent;\n",
              "    border-bottom-color: var(--fill-color);\n",
              "    animation:\n",
              "      spin 1s steps(1) infinite;\n",
              "  }\n",
              "\n",
              "  @keyframes spin {\n",
              "    0% {\n",
              "      border-color: transparent;\n",
              "      border-bottom-color: var(--fill-color);\n",
              "      border-left-color: var(--fill-color);\n",
              "    }\n",
              "    20% {\n",
              "      border-color: transparent;\n",
              "      border-left-color: var(--fill-color);\n",
              "      border-top-color: var(--fill-color);\n",
              "    }\n",
              "    30% {\n",
              "      border-color: transparent;\n",
              "      border-left-color: var(--fill-color);\n",
              "      border-top-color: var(--fill-color);\n",
              "      border-right-color: var(--fill-color);\n",
              "    }\n",
              "    40% {\n",
              "      border-color: transparent;\n",
              "      border-right-color: var(--fill-color);\n",
              "      border-top-color: var(--fill-color);\n",
              "    }\n",
              "    60% {\n",
              "      border-color: transparent;\n",
              "      border-right-color: var(--fill-color);\n",
              "    }\n",
              "    80% {\n",
              "      border-color: transparent;\n",
              "      border-right-color: var(--fill-color);\n",
              "      border-bottom-color: var(--fill-color);\n",
              "    }\n",
              "    90% {\n",
              "      border-color: transparent;\n",
              "      border-bottom-color: var(--fill-color);\n",
              "    }\n",
              "  }\n",
              "</style>\n",
              "\n",
              "  <script>\n",
              "    async function quickchart(key) {\n",
              "      const quickchartButtonEl =\n",
              "        document.querySelector('#' + key + ' button');\n",
              "      quickchartButtonEl.disabled = true;  // To prevent multiple clicks.\n",
              "      quickchartButtonEl.classList.add('colab-df-spinner');\n",
              "      try {\n",
              "        const charts = await google.colab.kernel.invokeFunction(\n",
              "            'suggestCharts', [key], {});\n",
              "      } catch (error) {\n",
              "        console.error('Error during call to suggestCharts:', error);\n",
              "      }\n",
              "      quickchartButtonEl.classList.remove('colab-df-spinner');\n",
              "      quickchartButtonEl.classList.add('colab-df-quickchart-complete');\n",
              "    }\n",
              "    (() => {\n",
              "      let quickchartButtonEl =\n",
              "        document.querySelector('#df-9d10e95d-db4a-485c-a072-44c8c6412a7d button');\n",
              "      quickchartButtonEl.style.display =\n",
              "        google.colab.kernel.accessAllowed ? 'block' : 'none';\n",
              "    })();\n",
              "  </script>\n",
              "</div>\n",
              "\n",
              "  <div id=\"id_c4dd797c-ae62-40d6-8a76-38219e4628c2\">\n",
              "    <style>\n",
              "      .colab-df-generate {\n",
              "        background-color: #E8F0FE;\n",
              "        border: none;\n",
              "        border-radius: 50%;\n",
              "        cursor: pointer;\n",
              "        display: none;\n",
              "        fill: #1967D2;\n",
              "        height: 32px;\n",
              "        padding: 0 0 0 0;\n",
              "        width: 32px;\n",
              "      }\n",
              "\n",
              "      .colab-df-generate:hover {\n",
              "        background-color: #E2EBFA;\n",
              "        box-shadow: 0px 1px 2px rgba(60, 64, 67, 0.3), 0px 1px 3px 1px rgba(60, 64, 67, 0.15);\n",
              "        fill: #174EA6;\n",
              "      }\n",
              "\n",
              "      [theme=dark] .colab-df-generate {\n",
              "        background-color: #3B4455;\n",
              "        fill: #D2E3FC;\n",
              "      }\n",
              "\n",
              "      [theme=dark] .colab-df-generate:hover {\n",
              "        background-color: #434B5C;\n",
              "        box-shadow: 0px 1px 3px 1px rgba(0, 0, 0, 0.15);\n",
              "        filter: drop-shadow(0px 1px 2px rgba(0, 0, 0, 0.3));\n",
              "        fill: #FFFFFF;\n",
              "      }\n",
              "    </style>\n",
              "    <button class=\"colab-df-generate\" onclick=\"generateWithVariable('predicciones')\"\n",
              "            title=\"Generate code using this dataframe.\"\n",
              "            style=\"display:none;\">\n",
              "\n",
              "  <svg xmlns=\"http://www.w3.org/2000/svg\" height=\"24px\"viewBox=\"0 0 24 24\"\n",
              "       width=\"24px\">\n",
              "    <path d=\"M7,19H8.4L18.45,9,17,7.55,7,17.6ZM5,21V16.75L18.45,3.32a2,2,0,0,1,2.83,0l1.4,1.43a1.91,1.91,0,0,1,.58,1.4,1.91,1.91,0,0,1-.58,1.4L9.25,21ZM18.45,9,17,7.55Zm-12,3A5.31,5.31,0,0,0,4.9,8.1,5.31,5.31,0,0,0,1,6.5,5.31,5.31,0,0,0,4.9,4.9,5.31,5.31,0,0,0,6.5,1,5.31,5.31,0,0,0,8.1,4.9,5.31,5.31,0,0,0,12,6.5,5.46,5.46,0,0,0,6.5,12Z\"/>\n",
              "  </svg>\n",
              "    </button>\n",
              "    <script>\n",
              "      (() => {\n",
              "      const buttonEl =\n",
              "        document.querySelector('#id_c4dd797c-ae62-40d6-8a76-38219e4628c2 button.colab-df-generate');\n",
              "      buttonEl.style.display =\n",
              "        google.colab.kernel.accessAllowed ? 'block' : 'none';\n",
              "\n",
              "      buttonEl.onclick = () => {\n",
              "        google.colab.notebook.generateWithVariable('predicciones');\n",
              "      }\n",
              "      })();\n",
              "    </script>\n",
              "  </div>\n",
              "\n",
              "    </div>\n",
              "  </div>\n"
            ],
            "application/vnd.google.colaboratory.intrinsic+json": {
              "type": "dataframe",
              "variable_name": "predicciones"
            }
          },
          "metadata": {},
          "execution_count": 26
        }
      ]
    },
    {
      "cell_type": "code",
      "source": [
        "# Crear subgráficos\n",
        "fig, axs = plt.subplots(1, 3, figsize=(18, 6), sharey=True)\n",
        "\n",
        "# Iterar sobre las columnas de predicción\n",
        "for i, columna in enumerate(['R1', 'R2', 'R3']):\n",
        "    # Scatter plot de los valores esperados vs. predichos para la columna actual\n",
        "    axs[i].scatter(predicciones[columna], predicciones[f'P_{columna}'], color='blue', alpha=0.5)\n",
        "    # Línea diagonal para referencia\n",
        "    axs[i].plot([predicciones[columna].min(), predicciones[columna].max()], [predicciones[columna].min(), predicciones[columna].max()], color='red', linestyle='--')\n",
        "    # Título y etiquetas de los ejes\n",
        "    axs[i].set_title(f'Predicciones vs. Valores Esperados para {columna}', fontsize=16)\n",
        "    axs[i].set_xlabel(f'Valor Esperado ({columna})', fontsize=14)\n",
        "    axs[i].set_ylabel('Valor Predicho', fontsize=14)\n",
        "    # Cuadrícula\n",
        "    axs[i].grid(True)\n",
        "\n",
        "# Mostrar el gráfico\n",
        "plt.tight_layout()\n",
        "plt.show()"
      ],
      "metadata": {
        "colab": {
          "base_uri": "https://localhost:8080/",
          "height": 405
        },
        "id": "PAfkVSs9USue",
        "outputId": "bebaac9a-4859-4a79-ed38-fc1c5728f751"
      },
      "execution_count": 27,
      "outputs": [
        {
          "output_type": "display_data",
          "data": {
            "text/plain": [
              "<Figure size 1800x600 with 3 Axes>"
            ],
            "image/png": "[encoded data removed]"
          },
          "metadata": {}
        }
      ]
    },
    {
      "cell_type": "code",
      "source": [
        "# Métricas\n",
        "print(\"-------------------------\\nMétricas\")\n",
        "y_pred = meta_predictions\n",
        "# Calcular R2 ajustado\n",
        "n = y_test.shape[0] * y_test.shape[1]  # número total de observaciones en y_test\n",
        "p = X_train.shape[1] # número de características en X_train\n",
        "r2_aj = r2_ajustado(y_test, y_pred, n, p)\n",
        "\n",
        "# Métricas de regresión\n",
        "mse = mean_squared_error(y_test, y_pred)\n",
        "mae = mean_absolute_error(y_test, y_pred)\n",
        "r2 = r2_score(y_test, y_pred)\n",
        "\n",
        "print(\"Mean Squared Error (MSE): {:.6f}\".format(mse))\n",
        "print(\"Mean Absolute Error (MAE): {:.6f}\".format(mae))\n",
        "print(\"R2 Score: {:.6f}\".format(r2))\n",
        "print(\"R2 Ajustado: {:.6f}\\n\".format(r2_aj))"
      ],
      "metadata": {
        "id": "iy-L2MRN-ufy",
        "outputId": "4b9d4357-8378-4892-8c6b-94389faaf73a",
        "colab": {
          "base_uri": "https://localhost:8080/"
        }
      },
      "execution_count": 28,
      "outputs": [
        {
          "output_type": "stream",
          "name": "stdout",
          "text": [
            "-------------------------\n",
            "Métricas\n",
            "Mean Squared Error (MSE): 0.002270\n",
            "Mean Absolute Error (MAE): 0.034446\n",
            "R2 Score: 0.936809\n",
            "R2 Ajustado: 0.934914\n",
            "\n"
          ]
        }
      ]
    },
    {
      "cell_type": "code",
      "source": [
        "from sklearn.model_selection import cross_val_score\n",
        "\n",
        "# Función para graficar la curva de aprendizaje del meta-modelo RandomForest\n",
        "def plot_learning_curve(model, X, y, cv=5):\n",
        "    \"\"\"\n",
        "    Graficar la curva de aprendizaje del modelo.\n",
        "\n",
        "    Parameters:\n",
        "    model (sklearn estimator): El modelo a evaluar.\n",
        "    X (numpy array): Conjunto de características.\n",
        "    y (numpy array): Conjunto de etiquetas.\n",
        "    cv (int): Número de pliegues para la validación cruzada.\n",
        "    \"\"\"\n",
        "    train_scores = []\n",
        "    val_scores = []\n",
        "    n_estimators_range = range(100, 501, 50)\n",
        "\n",
        "    for n_estimators in n_estimators_range:\n",
        "        model.set_params(n_estimators=n_estimators)\n",
        "        train_scores.append(np.mean(cross_val_score(model, X, y, cv=cv, scoring='neg_mean_squared_error', n_jobs=-1)))\n",
        "        val_scores.append(np.mean(cross_val_score(model, X, y, cv=cv, scoring='neg_mean_squared_error', n_jobs=-1)))\n",
        "\n",
        "    train_scores = np.array(train_scores) * -1  # Convertir a valores positivos\n",
        "    val_scores = np.array(val_scores) * -1  # Convertir a valores positivos\n",
        "\n",
        "    plt.figure(figsize=(12, 6))\n",
        "    plt.plot(n_estimators_range, train_scores, label='Training Error')\n",
        "    plt.plot(n_estimators_range, val_scores, label='Validation Error')\n",
        "    plt.xlabel('Number of Estimators')\n",
        "    plt.ylabel('Mean Squared Error')\n",
        "    plt.legend()\n",
        "    plt.title('Curva de Aprendizaje del Meta-Modelo RandomForest')\n",
        "    plt.grid(True)\n",
        "    plt.show()\n",
        "\n",
        "# Llamar a la función para graficar la curva de aprendizaje\n",
        "plot_learning_curve(meta_model, meta_X_train, y_train)\n"
      ],
      "metadata": {
        "id": "t9FeugvtJhDJ",
        "outputId": "f62bd8b0-2b79-4707-e8fd-e985d7542b93",
        "colab": {
          "base_uri": "https://localhost:8080/",
          "height": 619
        }
      },
      "execution_count": 29,
      "outputs": [
        {
          "output_type": "stream",
          "name": "stderr",
          "text": [
            "/usr/local/lib/python3.10/dist-packages/joblib/externals/loky/backend/fork_exec.py:38: RuntimeWarning: os.fork() was called. os.fork() is incompatible with multithreaded code, and JAX is multithreaded, so this will likely lead to a deadlock.\n",
            "  pid = os.fork()\n"
          ]
        },
        {
          "output_type": "display_data",
          "data": {
            "text/plain": [
              "<Figure size 1200x600 with 1 Axes>"
            ],
            "image/png": "[encoded data removed]"
          },
          "metadata": {}
        }
      ]
    },
    {
      "cell_type": "markdown",
      "source": [
        "# Import / Export de Modelos"
      ],
      "metadata": {
        "id": "kLEivSKTCurt"
      }
    },
    {
      "cell_type": "markdown",
      "source": [
        "TensorFlow"
      ],
      "metadata": {
        "id": "3DT8vXVrDu9J"
      }
    },
    {
      "cell_type": "code",
      "source": [
        "model.save('mlp_model')"
      ],
      "metadata": {
        "id": "E-6-uGOcDpSa"
      },
      "execution_count": null,
      "outputs": []
    },
    {
      "cell_type": "code",
      "source": [
        "loaded_model = tf.keras.models.load_model('mlp_model')"
      ],
      "metadata": {
        "id": "xgpTsf-rD5Jl"
      },
      "execution_count": null,
      "outputs": []
    },
    {
      "cell_type": "markdown",
      "source": [
        "Pickle"
      ],
      "metadata": {
        "id": "ZeLRD_9hDxAL"
      }
    },
    {
      "cell_type": "code",
      "source": [
        "mlp.save('mlp_model.h5')\n",
        "with open('mlp_model_pickle.pkl', 'wb') as file:\n",
        "    pickle.dump('mlp_model.h5', file)"
      ],
      "metadata": {
        "id": "5HtJueZdC4b_"
      },
      "execution_count": null,
      "outputs": []
    },
    {
      "cell_type": "code",
      "source": [
        "with open('mlp_model_pickle.pkl', 'rb') as file:\n",
        "    model_file = pickle.load(file)\n",
        "loaded_model = tf.keras.models.load_model(model_file)"
      ],
      "metadata": {
        "id": "lH785mWwC-Xq"
      },
      "execution_count": null,
      "outputs": []
    },
    {
      "cell_type": "markdown",
      "source": [
        "Joblib"
      ],
      "metadata": {
        "id": "-y5G_ZU5Finm"
      }
    },
    {
      "cell_type": "code",
      "source": [
        "joblib.dump(mlp, 'mlp_regressor_model.pkl')"
      ],
      "metadata": {
        "colab": {
          "base_uri": "https://localhost:8080/"
        },
        "id": "j6wdksb_FkGa",
        "outputId": "76eb2485-caf7-455b-8d9e-c04c775362f5"
      },
      "execution_count": null,
      "outputs": [
        {
          "output_type": "execute_result",
          "data": {
            "text/plain": [
              "['mlp_regressor_model.pkl']"
            ]
          },
          "metadata": {},
          "execution_count": 144
        }
      ]
    },
    {
      "cell_type": "code",
      "source": [
        "mlp_loaded = joblib.load('mlp_regressor_model.pkl')"
      ],
      "metadata": {
        "id": "ChrloY5BF-_N"
      },
      "execution_count": null,
      "outputs": []
    }
  ],
  "metadata": {
    "colab": {
      "provenance": [],
      "gpuType": "T4"
    },
    "kernelspec": {
      "display_name": "Python 3",
      "name": "python3"
    },
    "language_info": {
      "codemirror_mode": {
        "name": "ipython",
        "version": 3
      },
      "file_extension": ".py",
      "mimetype": "text/x-python",
      "name": "python",
      "nbconvert_exporter": "python",
      "pygments_lexer": "ipython3",
      "version": "3.11.8"
    },
    "accelerator": "GPU"
  },
  "nbformat": 4,
  "nbformat_minor": 0
}