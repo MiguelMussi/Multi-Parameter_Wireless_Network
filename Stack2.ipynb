{
  "cells": [
    {
      "cell_type": "markdown",
      "source": [
        "# Intro"
      ],
      "metadata": {
        "id": "Jf0yDdEZu0sC"
      }
    },
    {
      "cell_type": "code",
      "execution_count": 1,
      "metadata": {
        "id": "-e4EuUnVn7g5"
      },
      "outputs": [],
      "source": [
        "# Data\n",
        "import os\n",
        "import numpy as np\n",
        "import pandas as pd\n",
        "\n",
        "# SkLearn\n",
        "from sklearn.model_selection import train_test_split\n",
        "from sklearn.preprocessing import MinMaxScaler\n",
        "from sklearn.model_selection import GridSearchCV\n",
        "from sklearn.neural_network import MLPRegressor\n",
        "from sklearn.metrics import mean_squared_error, mean_absolute_error, r2_score\n",
        "from sklearn.ensemble import RandomForestRegressor, GradientBoostingRegressor\n",
        "from sklearn.svm import SVR\n",
        "\n",
        "# Display\n",
        "from IPython.display import clear_output\n",
        "\n",
        "# Visualizaciones\n",
        "import matplotlib.pyplot as plt\n",
        "import seaborn as sns\n",
        "\n",
        "# Redes Neuronales\n",
        "import tensorflow as tf\n",
        "from tensorflow.keras.models import Sequential, load_model, save_model\n",
        "from tensorflow.keras.layers import Dense, Input, Dropout, Conv1D, Flatten\n",
        "from tensorflow.keras.optimizers import Adam\n",
        "from tensorflow.keras.callbacks import ModelCheckpoint, ReduceLROnPlateau, EarlyStopping\n",
        "from tensorflow.keras.regularizers import l2\n",
        "\n",
        "# Gradient Boosting\n",
        "import xgboost as xgb\n",
        "\n",
        "# Import/Export\n",
        "import pickle\n",
        "import joblib\n",
        "\n",
        "# Optimización Inversa\n",
        "from scipy.optimize import differential_evolution, minimize"
      ]
    },
    {
      "cell_type": "code",
      "execution_count": 3,
      "metadata": {
        "id": "WxV12uGMn7g9",
        "colab": {
          "base_uri": "https://localhost:8080/"
        },
        "outputId": "ac60fdf3-beb4-4512-c3be-f87a5b2f6bd9"
      },
      "outputs": [
        {
          "output_type": "stream",
          "name": "stdout",
          "text": [
            "Cloning into 'Multi-Parameter_Wireless_Network'...\n",
            "remote: Enumerating objects: 330, done.\u001b[K\n",
            "remote: Counting objects: 100% (171/171), done.\u001b[K\n",
            "remote: Compressing objects: 100% (126/126), done.\u001b[K\n",
            "remote: Total 330 (delta 108), reused 68 (delta 45), pack-reused 159\u001b[K\n",
            "Receiving objects: 100% (330/330), 28.71 MiB | 16.09 MiB/s, done.\n",
            "Resolving deltas: 100% (148/148), done.\n"
          ]
        }
      ],
      "source": [
        "REPO_NAME = \"Multi-Parameter_Wireless_Network\"\n",
        "if REPO_NAME not in os.getcwd():\n",
        "  if not os.path.exists(REPO_NAME):\n",
        "    !git clone https://github.com/MiguelMussi/{REPO_NAME}.git\n",
        "  os.chdir(REPO_NAME)"
      ]
    },
    {
      "cell_type": "markdown",
      "metadata": {
        "id": "UyIY5hcEn7g9"
      },
      "source": [
        "Establecer GPU por defecto en caso de estar disponible."
      ]
    },
    {
      "cell_type": "code",
      "execution_count": 4,
      "metadata": {
        "id": "34itNjT3n7g_",
        "outputId": "bd18f2bd-a8fa-4d05-9223-139d1170a808",
        "colab": {
          "base_uri": "https://localhost:8080/"
        }
      },
      "outputs": [
        {
          "output_type": "stream",
          "name": "stdout",
          "text": [
            "1 Physical GPUs, 1 Logical GPUs\n"
          ]
        }
      ],
      "source": [
        "# Configurar para que TensorFlow utilice la GPU por defecto\n",
        "gpus = tf.config.experimental.list_physical_devices('GPU')\n",
        "if gpus:\n",
        "    try:\n",
        "        # Configurar para que TensorFlow asigne memoria dinámicamente\n",
        "        for gpu in gpus:\n",
        "            tf.config.experimental.set_memory_growth(gpu, True)\n",
        "        # Especificar la GPU por defecto\n",
        "        logical_gpus = tf.config.experimental.list_logical_devices('GPU')\n",
        "        print(len(gpus), \"Physical GPUs,\", len(logical_gpus), \"Logical GPUs\")\n",
        "    except RuntimeError as e:\n",
        "        # Manejar error\n",
        "        print(e)"
      ]
    },
    {
      "cell_type": "code",
      "execution_count": 5,
      "metadata": {
        "id": "7H3hPOm1n7hA"
      },
      "outputs": [],
      "source": [
        "with open('datos.txt', 'r') as file:\n",
        "    data = file.read()\n",
        "lines = data.strip().split('\\n')\n",
        "rows = [line.split() for line in lines]\n",
        "df = pd.DataFrame(rows)\n",
        "df = df.apply(pd.to_numeric)"
      ]
    },
    {
      "cell_type": "code",
      "source": [
        "df.shape"
      ],
      "metadata": {
        "colab": {
          "base_uri": "https://localhost:8080/"
        },
        "id": "QKPkfUS9oDIi",
        "outputId": "f6fb70d3-1536-44c1-c794-d835081a2f99"
      },
      "execution_count": 6,
      "outputs": [
        {
          "output_type": "execute_result",
          "data": {
            "text/plain": [
              "(27550, 227)"
            ]
          },
          "metadata": {},
          "execution_count": 6
        }
      ]
    },
    {
      "cell_type": "markdown",
      "source": [
        "### Funciones"
      ],
      "metadata": {
        "id": "1n1SZkWgA5t3"
      }
    },
    {
      "cell_type": "code",
      "source": [
        "def renombrar_columnas(df):\n",
        "    new_col_names = []\n",
        "    for i in range(1, 57):\n",
        "        new_col_names.extend([f'{i}a', f'{i}b', f'{i}c', f'{i}d'])\n",
        "    new_col_names.extend(['R1', 'R2', 'R3'])\n",
        "    df.columns = new_col_names\n",
        "    return df"
      ],
      "metadata": {
        "id": "wv4os0_CWSjM"
      },
      "execution_count": 7,
      "outputs": []
    },
    {
      "cell_type": "code",
      "execution_count": 8,
      "metadata": {
        "id": "mmKjUxLkn7hD"
      },
      "outputs": [],
      "source": [
        "def eliminar_registros_duplicados(df):\n",
        "    df_clean = df.drop_duplicates()\n",
        "    return df_clean"
      ]
    },
    {
      "cell_type": "code",
      "execution_count": 9,
      "metadata": {
        "id": "Qi-dDdF9n7hE"
      },
      "outputs": [],
      "source": [
        "def escalar_datos(df, scaler_dict=None):\n",
        "    if scaler_dict is None:\n",
        "        scaler_dict = {}\n",
        "    for columna in df.columns:\n",
        "        if columna not in scaler_dict:\n",
        "            scaler_dict[columna] = MinMaxScaler()\n",
        "        df[columna] = scaler_dict[columna].fit_transform(df[[columna]])\n",
        "    return df, scaler_dict"
      ]
    },
    {
      "cell_type": "code",
      "source": [
        "def separar_Xy(df, columnas_target):\n",
        "    X = df.drop(columnas_target, axis=1).copy()\n",
        "    y = df[columnas_target].copy()\n",
        "    return X, y"
      ],
      "metadata": {
        "id": "1X2mUc05vg8n"
      },
      "execution_count": 10,
      "outputs": []
    },
    {
      "cell_type": "code",
      "source": [
        "def r2_ajustado(y_true, y_pred, n, p):\n",
        "    r2 = r2_score(y_true, y_pred)\n",
        "    r2_aj = 1 - ((1 - r2) * (n - 1) / (n - p - 1))\n",
        "    return r2_aj"
      ],
      "metadata": {
        "id": "wkU6nsMl3Zv3"
      },
      "execution_count": 11,
      "outputs": []
    },
    {
      "cell_type": "markdown",
      "source": [
        "### Procesamiento"
      ],
      "metadata": {
        "id": "k4httjdZA9Ve"
      }
    },
    {
      "cell_type": "code",
      "source": [
        "df = renombrar_columnas(df)\n",
        "df = eliminar_registros_duplicados(df)"
      ],
      "metadata": {
        "id": "jAokFNMhs-LY"
      },
      "execution_count": 12,
      "outputs": []
    },
    {
      "cell_type": "code",
      "execution_count": 13,
      "metadata": {
        "id": "dHmvnlDpn7hC"
      },
      "outputs": [],
      "source": [
        "df_train, df_test = train_test_split(df, test_size=0.2, random_state=123)"
      ]
    },
    {
      "cell_type": "code",
      "execution_count": 15,
      "metadata": {
        "id": "Xmkv88djn7hE"
      },
      "outputs": [],
      "source": [
        "df_train, train_scaler_dict = escalar_datos(df_train)"
      ]
    },
    {
      "cell_type": "code",
      "source": [
        "columnas_target = ['R1', 'R2', 'R3']"
      ],
      "metadata": {
        "id": "KlgLkl32vtyh"
      },
      "execution_count": 16,
      "outputs": []
    },
    {
      "cell_type": "code",
      "source": [
        "X_train, y_train = separar_Xy(df_train, columnas_target=columnas_target)"
      ],
      "metadata": {
        "id": "NMVF-Thav3pB"
      },
      "execution_count": 17,
      "outputs": []
    },
    {
      "cell_type": "code",
      "source": [
        "df_test_out = df_test.copy()\n",
        "df_test_out, _ = escalar_datos(df_test_out, train_scaler_dict)\n",
        "X_test, y_test = separar_Xy(df_test_out, columnas_target=columnas_target)"
      ],
      "metadata": {
        "id": "yTjGFLjmzBSV"
      },
      "execution_count": 18,
      "outputs": []
    },
    {
      "cell_type": "code",
      "source": [
        "X_train.shape, y_train.shape, X_test.shape, y_test.shape"
      ],
      "metadata": {
        "colab": {
          "base_uri": "https://localhost:8080/"
        },
        "id": "jpOyTPX_0_ti",
        "outputId": "7c4c8684-9064-4e35-ec1c-d5a3d7c884f2"
      },
      "execution_count": 19,
      "outputs": [
        {
          "output_type": "execute_result",
          "data": {
            "text/plain": [
              "((20526, 224), (20526, 3), (5132, 224), (5132, 3))"
            ]
          },
          "metadata": {},
          "execution_count": 19
        }
      ]
    },
    {
      "cell_type": "markdown",
      "source": [
        "# Ensamble"
      ],
      "metadata": {
        "id": "IL64OonMvDS-"
      }
    },
    {
      "cell_type": "markdown",
      "source": [
        "## MLP Model"
      ],
      "metadata": {
        "id": "ccjKObKJ86dy"
      }
    },
    {
      "cell_type": "code",
      "source": [
        "mlp_model = MLPRegressor(hidden_layer_sizes=(500, 200, 100, 50, 10 ), activation='relu', solver='adam', max_iter=300)\n",
        "mlp_model.fit(X_train, y_train)"
      ],
      "metadata": {
        "colab": {
          "base_uri": "https://localhost:8080/",
          "height": 75
        },
        "id": "993vP-2ZjVeV",
        "outputId": "95744d6e-9425-461c-db14-650ee96d175f"
      },
      "execution_count": 20,
      "outputs": [
        {
          "output_type": "execute_result",
          "data": {
            "text/plain": [
              "MLPRegressor(hidden_layer_sizes=(500, 200, 100, 50, 10), max_iter=300)"
            ],
            "text/html": [
              "<style>#sk-container-id-1 {color: black;background-color: white;}#sk-container-id-1 pre{padding: 0;}#sk-container-id-1 div.sk-toggleable {background-color: white;}#sk-container-id-1 label.sk-toggleable__label {cursor: pointer;display: block;width: 100%;margin-bottom: 0;padding: 0.3em;box-sizing: border-box;text-align: center;}#sk-container-id-1 label.sk-toggleable__label-arrow:before {content: \"▸\";float: left;margin-right: 0.25em;color: #696969;}#sk-container-id-1 label.sk-toggleable__label-arrow:hover:before {color: black;}#sk-container-id-1 div.sk-estimator:hover label.sk-toggleable__label-arrow:before {color: black;}#sk-container-id-1 div.sk-toggleable__content {max-height: 0;max-width: 0;overflow: hidden;text-align: left;background-color: #f0f8ff;}#sk-container-id-1 div.sk-toggleable__content pre {margin: 0.2em;color: black;border-radius: 0.25em;background-color: #f0f8ff;}#sk-container-id-1 input.sk-toggleable__control:checked~div.sk-toggleable__content {max-height: 200px;max-width: 100%;overflow: auto;}#sk-container-id-1 input.sk-toggleable__control:checked~label.sk-toggleable__label-arrow:before {content: \"▾\";}#sk-container-id-1 div.sk-estimator input.sk-toggleable__control:checked~label.sk-toggleable__label {background-color: #d4ebff;}#sk-container-id-1 div.sk-label input.sk-toggleable__control:checked~label.sk-toggleable__label {background-color: #d4ebff;}#sk-container-id-1 input.sk-hidden--visually {border: 0;clip: rect(1px 1px 1px 1px);clip: rect(1px, 1px, 1px, 1px);height: 1px;margin: -1px;overflow: hidden;padding: 0;position: absolute;width: 1px;}#sk-container-id-1 div.sk-estimator {font-family: monospace;background-color: #f0f8ff;border: 1px dotted black;border-radius: 0.25em;box-sizing: border-box;margin-bottom: 0.5em;}#sk-container-id-1 div.sk-estimator:hover {background-color: #d4ebff;}#sk-container-id-1 div.sk-parallel-item::after {content: \"\";width: 100%;border-bottom: 1px solid gray;flex-grow: 1;}#sk-container-id-1 div.sk-label:hover label.sk-toggleable__label {background-color: #d4ebff;}#sk-container-id-1 div.sk-serial::before {content: \"\";position: absolute;border-left: 1px solid gray;box-sizing: border-box;top: 0;bottom: 0;left: 50%;z-index: 0;}#sk-container-id-1 div.sk-serial {display: flex;flex-direction: column;align-items: center;background-color: white;padding-right: 0.2em;padding-left: 0.2em;position: relative;}#sk-container-id-1 div.sk-item {position: relative;z-index: 1;}#sk-container-id-1 div.sk-parallel {display: flex;align-items: stretch;justify-content: center;background-color: white;position: relative;}#sk-container-id-1 div.sk-item::before, #sk-container-id-1 div.sk-parallel-item::before {content: \"\";position: absolute;border-left: 1px solid gray;box-sizing: border-box;top: 0;bottom: 0;left: 50%;z-index: -1;}#sk-container-id-1 div.sk-parallel-item {display: flex;flex-direction: column;z-index: 1;position: relative;background-color: white;}#sk-container-id-1 div.sk-parallel-item:first-child::after {align-self: flex-end;width: 50%;}#sk-container-id-1 div.sk-parallel-item:last-child::after {align-self: flex-start;width: 50%;}#sk-container-id-1 div.sk-parallel-item:only-child::after {width: 0;}#sk-container-id-1 div.sk-dashed-wrapped {border: 1px dashed gray;margin: 0 0.4em 0.5em 0.4em;box-sizing: border-box;padding-bottom: 0.4em;background-color: white;}#sk-container-id-1 div.sk-label label {font-family: monospace;font-weight: bold;display: inline-block;line-height: 1.2em;}#sk-container-id-1 div.sk-label-container {text-align: center;}#sk-container-id-1 div.sk-container {/* jupyter's `normalize.less` sets `[hidden] { display: none; }` but bootstrap.min.css set `[hidden] { display: none !important; }` so we also need the `!important` here to be able to override the default hidden behavior on the sphinx rendered scikit-learn.org. See: https://github.com/scikit-learn/scikit-learn/issues/21755 */display: inline-block !important;position: relative;}#sk-container-id-1 div.sk-text-repr-fallback {display: none;}</style><div id=\"sk-container-id-1\" class=\"sk-top-container\"><div class=\"sk-text-repr-fallback\"><pre>MLPRegressor(hidden_layer_sizes=(500, 200, 100, 50, 10), max_iter=300)</pre><b>In a Jupyter environment, please rerun this cell to show the HTML representation or trust the notebook. <br />On GitHub, the HTML representation is unable to render, please try loading this page with nbviewer.org.</b></div><div class=\"sk-container\" hidden><div class=\"sk-item\"><div class=\"sk-estimator sk-toggleable\"><input class=\"sk-toggleable__control sk-hidden--visually\" id=\"sk-estimator-id-1\" type=\"checkbox\" checked><label for=\"sk-estimator-id-1\" class=\"sk-toggleable__label sk-toggleable__label-arrow\">MLPRegressor</label><div class=\"sk-toggleable__content\"><pre>MLPRegressor(hidden_layer_sizes=(500, 200, 100, 50, 10), max_iter=300)</pre></div></div></div></div></div>"
            ]
          },
          "metadata": {},
          "execution_count": 20
        }
      ]
    },
    {
      "cell_type": "markdown",
      "source": [
        "## DNN Model"
      ],
      "metadata": {
        "id": "ywebU7aCaWFx"
      }
    },
    {
      "cell_type": "code",
      "source": [
        "# Arquitectura\n",
        "# dnn_model = Sequential([\n",
        "#     Input(shape=(X_train.shape[1],)),\n",
        "#     Dense(256, activation='relu'), Dropout(0.2),\n",
        "#     Dense(32, activation='relu'), Dropout(0.2),\n",
        "#     Dense(3, activation='linear')\n",
        "# ])\n",
        "\n",
        "dnn_model = Sequential([\n",
        "    Input(shape=(X_train.shape[1],)),\n",
        "    Dense(256, activation='relu'), Dropout(0.2),\n",
        "    Dense(512, activation='relu'), Dropout(0.2),\n",
        "    Dense(256, activation='relu'), Dropout(0.2),\n",
        "    Dense(128, activation='relu'), Dropout(0.2),\n",
        "    Dense(64, activation='relu'), Dropout(0.2),\n",
        "    Dense(32, activation='relu'), Dropout(0.2),\n",
        "    Dense(3, activation='linear')\n",
        "])\n",
        "\n",
        "# Entrenamiento\n",
        "print(\"Inicio del Entrenamiento\\n-------------------------\")\n",
        "\n",
        "# CallBacks\n",
        "early_stopping = EarlyStopping(monitor=\"val_loss\", patience=20, verbose=0, mode=\"min\")\n",
        "checkpoint_loss = ModelCheckpoint(\"model-e{epoch:02d}-loss{val_loss:.3f}\", save_best_only=True,\n",
        "    monitor=\"val_loss\", mode=\"min\")\n",
        "reduce_lr = ReduceLROnPlateau(monitor=\"loss\", factor=0.5, patience=5, verbose=1, min_delta=1e-4, mode=\"min\")\n",
        "\n",
        "callbacks=[reduce_lr, early_stopping]\n",
        "dnn_model.compile(optimizer=Adam(learning_rate=0.001), loss='mean_squared_error', metrics=['mean_squared_error', 'mae'])\n",
        "dnn_model.fit(X_train, y_train, epochs=200, batch_size=64, callbacks=callbacks, validation_split=0.2, verbose=1)\n",
        "clear_output(wait=True)\n",
        "print(\"-------------------------\\nFin del Entrenamiento\")"
      ],
      "metadata": {
        "colab": {
          "base_uri": "https://localhost:8080/"
        },
        "id": "9m-bL_0-aJnG",
        "outputId": "6193be37-3b0a-432f-f226-842a8c302c8b"
      },
      "execution_count": 21,
      "outputs": [
        {
          "output_type": "stream",
          "name": "stdout",
          "text": [
            "-------------------------\n",
            "Fin del Entrenamiento\n"
          ]
        }
      ]
    },
    {
      "cell_type": "markdown",
      "source": [
        "## RandomForest"
      ],
      "metadata": {
        "id": "V3jShyF8zl7r"
      }
    },
    {
      "cell_type": "code",
      "source": [
        "rf_model = RandomForestRegressor(n_estimators=100, random_state=42)\n",
        "rf_model.fit(X_train, y_train)"
      ],
      "metadata": {
        "id": "0gTxprw1zsYn",
        "colab": {
          "base_uri": "https://localhost:8080/",
          "height": 75
        },
        "outputId": "d58a641d-f62d-4669-ce1c-23027a4c8f13"
      },
      "execution_count": 22,
      "outputs": [
        {
          "output_type": "execute_result",
          "data": {
            "text/plain": [
              "RandomForestRegressor(random_state=42)"
            ],
            "text/html": [
              "<style>#sk-container-id-2 {color: black;background-color: white;}#sk-container-id-2 pre{padding: 0;}#sk-container-id-2 div.sk-toggleable {background-color: white;}#sk-container-id-2 label.sk-toggleable__label {cursor: pointer;display: block;width: 100%;margin-bottom: 0;padding: 0.3em;box-sizing: border-box;text-align: center;}#sk-container-id-2 label.sk-toggleable__label-arrow:before {content: \"▸\";float: left;margin-right: 0.25em;color: #696969;}#sk-container-id-2 label.sk-toggleable__label-arrow:hover:before {color: black;}#sk-container-id-2 div.sk-estimator:hover label.sk-toggleable__label-arrow:before {color: black;}#sk-container-id-2 div.sk-toggleable__content {max-height: 0;max-width: 0;overflow: hidden;text-align: left;background-color: #f0f8ff;}#sk-container-id-2 div.sk-toggleable__content pre {margin: 0.2em;color: black;border-radius: 0.25em;background-color: #f0f8ff;}#sk-container-id-2 input.sk-toggleable__control:checked~div.sk-toggleable__content {max-height: 200px;max-width: 100%;overflow: auto;}#sk-container-id-2 input.sk-toggleable__control:checked~label.sk-toggleable__label-arrow:before {content: \"▾\";}#sk-container-id-2 div.sk-estimator input.sk-toggleable__control:checked~label.sk-toggleable__label {background-color: #d4ebff;}#sk-container-id-2 div.sk-label input.sk-toggleable__control:checked~label.sk-toggleable__label {background-color: #d4ebff;}#sk-container-id-2 input.sk-hidden--visually {border: 0;clip: rect(1px 1px 1px 1px);clip: rect(1px, 1px, 1px, 1px);height: 1px;margin: -1px;overflow: hidden;padding: 0;position: absolute;width: 1px;}#sk-container-id-2 div.sk-estimator {font-family: monospace;background-color: #f0f8ff;border: 1px dotted black;border-radius: 0.25em;box-sizing: border-box;margin-bottom: 0.5em;}#sk-container-id-2 div.sk-estimator:hover {background-color: #d4ebff;}#sk-container-id-2 div.sk-parallel-item::after {content: \"\";width: 100%;border-bottom: 1px solid gray;flex-grow: 1;}#sk-container-id-2 div.sk-label:hover label.sk-toggleable__label {background-color: #d4ebff;}#sk-container-id-2 div.sk-serial::before {content: \"\";position: absolute;border-left: 1px solid gray;box-sizing: border-box;top: 0;bottom: 0;left: 50%;z-index: 0;}#sk-container-id-2 div.sk-serial {display: flex;flex-direction: column;align-items: center;background-color: white;padding-right: 0.2em;padding-left: 0.2em;position: relative;}#sk-container-id-2 div.sk-item {position: relative;z-index: 1;}#sk-container-id-2 div.sk-parallel {display: flex;align-items: stretch;justify-content: center;background-color: white;position: relative;}#sk-container-id-2 div.sk-item::before, #sk-container-id-2 div.sk-parallel-item::before {content: \"\";position: absolute;border-left: 1px solid gray;box-sizing: border-box;top: 0;bottom: 0;left: 50%;z-index: -1;}#sk-container-id-2 div.sk-parallel-item {display: flex;flex-direction: column;z-index: 1;position: relative;background-color: white;}#sk-container-id-2 div.sk-parallel-item:first-child::after {align-self: flex-end;width: 50%;}#sk-container-id-2 div.sk-parallel-item:last-child::after {align-self: flex-start;width: 50%;}#sk-container-id-2 div.sk-parallel-item:only-child::after {width: 0;}#sk-container-id-2 div.sk-dashed-wrapped {border: 1px dashed gray;margin: 0 0.4em 0.5em 0.4em;box-sizing: border-box;padding-bottom: 0.4em;background-color: white;}#sk-container-id-2 div.sk-label label {font-family: monospace;font-weight: bold;display: inline-block;line-height: 1.2em;}#sk-container-id-2 div.sk-label-container {text-align: center;}#sk-container-id-2 div.sk-container {/* jupyter's `normalize.less` sets `[hidden] { display: none; }` but bootstrap.min.css set `[hidden] { display: none !important; }` so we also need the `!important` here to be able to override the default hidden behavior on the sphinx rendered scikit-learn.org. See: https://github.com/scikit-learn/scikit-learn/issues/21755 */display: inline-block !important;position: relative;}#sk-container-id-2 div.sk-text-repr-fallback {display: none;}</style><div id=\"sk-container-id-2\" class=\"sk-top-container\"><div class=\"sk-text-repr-fallback\"><pre>RandomForestRegressor(random_state=42)</pre><b>In a Jupyter environment, please rerun this cell to show the HTML representation or trust the notebook. <br />On GitHub, the HTML representation is unable to render, please try loading this page with nbviewer.org.</b></div><div class=\"sk-container\" hidden><div class=\"sk-item\"><div class=\"sk-estimator sk-toggleable\"><input class=\"sk-toggleable__control sk-hidden--visually\" id=\"sk-estimator-id-2\" type=\"checkbox\" checked><label for=\"sk-estimator-id-2\" class=\"sk-toggleable__label sk-toggleable__label-arrow\">RandomForestRegressor</label><div class=\"sk-toggleable__content\"><pre>RandomForestRegressor(random_state=42)</pre></div></div></div></div></div>"
            ]
          },
          "metadata": {},
          "execution_count": 22
        }
      ]
    },
    {
      "cell_type": "markdown",
      "source": [
        "## Gradient Boosting"
      ],
      "metadata": {
        "id": "UEMRTted0KUF"
      }
    },
    {
      "cell_type": "code",
      "source": [
        "xgb_model = xgb.XGBRegressor(objective='reg:squarederror', n_estimators=200, learning_rate=0.1, max_depth=6, random_state=123)\n",
        "xgb_model.fit(X_train, y_train)"
      ],
      "metadata": {
        "id": "OO7SMvhH0O5O",
        "colab": {
          "base_uri": "https://localhost:8080/",
          "height": 249
        },
        "outputId": "8a99966c-abf8-4c92-b665-dda577440072"
      },
      "execution_count": 23,
      "outputs": [
        {
          "output_type": "execute_result",
          "data": {
            "text/plain": [
              "XGBRegressor(base_score=None, booster=None, callbacks=None,\n",
              "             colsample_bylevel=None, colsample_bynode=None,\n",
              "             colsample_bytree=None, device=None, early_stopping_rounds=None,\n",
              "             enable_categorical=False, eval_metric=None, feature_types=None,\n",
              "             gamma=None, grow_policy=None, importance_type=None,\n",
              "             interaction_constraints=None, learning_rate=0.1, max_bin=None,\n",
              "             max_cat_threshold=None, max_cat_to_onehot=None,\n",
              "             max_delta_step=None, max_depth=6, max_leaves=None,\n",
              "             min_child_weight=None, missing=nan, monotone_constraints=None,\n",
              "             multi_strategy=None, n_estimators=200, n_jobs=None,\n",
              "             num_parallel_tree=None, random_state=123, ...)"
            ],
            "text/html": [
              "<style>#sk-container-id-3 {color: black;background-color: white;}#sk-container-id-3 pre{padding: 0;}#sk-container-id-3 div.sk-toggleable {background-color: white;}#sk-container-id-3 label.sk-toggleable__label {cursor: pointer;display: block;width: 100%;margin-bottom: 0;padding: 0.3em;box-sizing: border-box;text-align: center;}#sk-container-id-3 label.sk-toggleable__label-arrow:before {content: \"▸\";float: left;margin-right: 0.25em;color: #696969;}#sk-container-id-3 label.sk-toggleable__label-arrow:hover:before {color: black;}#sk-container-id-3 div.sk-estimator:hover label.sk-toggleable__label-arrow:before {color: black;}#sk-container-id-3 div.sk-toggleable__content {max-height: 0;max-width: 0;overflow: hidden;text-align: left;background-color: #f0f8ff;}#sk-container-id-3 div.sk-toggleable__content pre {margin: 0.2em;color: black;border-radius: 0.25em;background-color: #f0f8ff;}#sk-container-id-3 input.sk-toggleable__control:checked~div.sk-toggleable__content {max-height: 200px;max-width: 100%;overflow: auto;}#sk-container-id-3 input.sk-toggleable__control:checked~label.sk-toggleable__label-arrow:before {content: \"▾\";}#sk-container-id-3 div.sk-estimator input.sk-toggleable__control:checked~label.sk-toggleable__label {background-color: #d4ebff;}#sk-container-id-3 div.sk-label input.sk-toggleable__control:checked~label.sk-toggleable__label {background-color: #d4ebff;}#sk-container-id-3 input.sk-hidden--visually {border: 0;clip: rect(1px 1px 1px 1px);clip: rect(1px, 1px, 1px, 1px);height: 1px;margin: -1px;overflow: hidden;padding: 0;position: absolute;width: 1px;}#sk-container-id-3 div.sk-estimator {font-family: monospace;background-color: #f0f8ff;border: 1px dotted black;border-radius: 0.25em;box-sizing: border-box;margin-bottom: 0.5em;}#sk-container-id-3 div.sk-estimator:hover {background-color: #d4ebff;}#sk-container-id-3 div.sk-parallel-item::after {content: \"\";width: 100%;border-bottom: 1px solid gray;flex-grow: 1;}#sk-container-id-3 div.sk-label:hover label.sk-toggleable__label {background-color: #d4ebff;}#sk-container-id-3 div.sk-serial::before {content: \"\";position: absolute;border-left: 1px solid gray;box-sizing: border-box;top: 0;bottom: 0;left: 50%;z-index: 0;}#sk-container-id-3 div.sk-serial {display: flex;flex-direction: column;align-items: center;background-color: white;padding-right: 0.2em;padding-left: 0.2em;position: relative;}#sk-container-id-3 div.sk-item {position: relative;z-index: 1;}#sk-container-id-3 div.sk-parallel {display: flex;align-items: stretch;justify-content: center;background-color: white;position: relative;}#sk-container-id-3 div.sk-item::before, #sk-container-id-3 div.sk-parallel-item::before {content: \"\";position: absolute;border-left: 1px solid gray;box-sizing: border-box;top: 0;bottom: 0;left: 50%;z-index: -1;}#sk-container-id-3 div.sk-parallel-item {display: flex;flex-direction: column;z-index: 1;position: relative;background-color: white;}#sk-container-id-3 div.sk-parallel-item:first-child::after {align-self: flex-end;width: 50%;}#sk-container-id-3 div.sk-parallel-item:last-child::after {align-self: flex-start;width: 50%;}#sk-container-id-3 div.sk-parallel-item:only-child::after {width: 0;}#sk-container-id-3 div.sk-dashed-wrapped {border: 1px dashed gray;margin: 0 0.4em 0.5em 0.4em;box-sizing: border-box;padding-bottom: 0.4em;background-color: white;}#sk-container-id-3 div.sk-label label {font-family: monospace;font-weight: bold;display: inline-block;line-height: 1.2em;}#sk-container-id-3 div.sk-label-container {text-align: center;}#sk-container-id-3 div.sk-container {/* jupyter's `normalize.less` sets `[hidden] { display: none; }` but bootstrap.min.css set `[hidden] { display: none !important; }` so we also need the `!important` here to be able to override the default hidden behavior on the sphinx rendered scikit-learn.org. See: https://github.com/scikit-learn/scikit-learn/issues/21755 */display: inline-block !important;position: relative;}#sk-container-id-3 div.sk-text-repr-fallback {display: none;}</style><div id=\"sk-container-id-3\" class=\"sk-top-container\"><div class=\"sk-text-repr-fallback\"><pre>XGBRegressor(base_score=None, booster=None, callbacks=None,\n",
              "             colsample_bylevel=None, colsample_bynode=None,\n",
              "             colsample_bytree=None, device=None, early_stopping_rounds=None,\n",
              "             enable_categorical=False, eval_metric=None, feature_types=None,\n",
              "             gamma=None, grow_policy=None, importance_type=None,\n",
              "             interaction_constraints=None, learning_rate=0.1, max_bin=None,\n",
              "             max_cat_threshold=None, max_cat_to_onehot=None,\n",
              "             max_delta_step=None, max_depth=6, max_leaves=None,\n",
              "             min_child_weight=None, missing=nan, monotone_constraints=None,\n",
              "             multi_strategy=None, n_estimators=200, n_jobs=None,\n",
              "             num_parallel_tree=None, random_state=123, ...)</pre><b>In a Jupyter environment, please rerun this cell to show the HTML representation or trust the notebook. <br />On GitHub, the HTML representation is unable to render, please try loading this page with nbviewer.org.</b></div><div class=\"sk-container\" hidden><div class=\"sk-item\"><div class=\"sk-estimator sk-toggleable\"><input class=\"sk-toggleable__control sk-hidden--visually\" id=\"sk-estimator-id-3\" type=\"checkbox\" checked><label for=\"sk-estimator-id-3\" class=\"sk-toggleable__label sk-toggleable__label-arrow\">XGBRegressor</label><div class=\"sk-toggleable__content\"><pre>XGBRegressor(base_score=None, booster=None, callbacks=None,\n",
              "             colsample_bylevel=None, colsample_bynode=None,\n",
              "             colsample_bytree=None, device=None, early_stopping_rounds=None,\n",
              "             enable_categorical=False, eval_metric=None, feature_types=None,\n",
              "             gamma=None, grow_policy=None, importance_type=None,\n",
              "             interaction_constraints=None, learning_rate=0.1, max_bin=None,\n",
              "             max_cat_threshold=None, max_cat_to_onehot=None,\n",
              "             max_delta_step=None, max_depth=6, max_leaves=None,\n",
              "             min_child_weight=None, missing=nan, monotone_constraints=None,\n",
              "             multi_strategy=None, n_estimators=200, n_jobs=None,\n",
              "             num_parallel_tree=None, random_state=123, ...)</pre></div></div></div></div></div>"
            ]
          },
          "metadata": {},
          "execution_count": 23
        }
      ]
    },
    {
      "cell_type": "markdown",
      "source": [
        "## -- Meta Model --"
      ],
      "metadata": {
        "id": "fqmHVESnoKQM"
      }
    },
    {
      "cell_type": "markdown",
      "source": [
        "### Predicciones Modelos Base"
      ],
      "metadata": {
        "id": "1OfyPj9KTI1Z"
      }
    },
    {
      "cell_type": "code",
      "source": [
        "# Obtener predicciones del conjunto de entrenamiento\n",
        "mlp_train_preds = mlp_model.predict(X_train)\n",
        "rf_train_preds = rf_model.predict(X_train)\n",
        "xgb_train_preds = xgb_model.predict(X_train)\n",
        "dnn_train_preds = dnn_model.predict(X_train)\n",
        "\n",
        "# Concatenar todas las predicciones para formar un nuevo conjunto de características para el meta-modelo\n",
        "meta_X_train = np.concatenate((mlp_train_preds, rf_train_preds, xgb_train_preds, dnn_train_preds), axis=1)\n",
        "\n",
        "# Obtener predicciones del conjunto de prueba\n",
        "mlp_test_preds = mlp_model.predict(X_test)\n",
        "rf_test_preds = rf_model.predict(X_test)\n",
        "xgb_test_preds = xgb_model.predict(X_test)\n",
        "dnn_test_preds = dnn_model.predict(X_test)\n",
        "\n",
        "# Concatenar todas las predicciones para formar un nuevo conjunto de características para el meta-modelo\n",
        "meta_X_test = np.concatenate((mlp_test_preds, rf_test_preds, xgb_test_preds, dnn_test_preds), axis=1)"
      ],
      "metadata": {
        "id": "Uh4TXNK4oQm_",
        "outputId": "73600b0a-c4f1-41b6-ac39-e87f785b73a5",
        "colab": {
          "base_uri": "https://localhost:8080/"
        }
      },
      "execution_count": 24,
      "outputs": [
        {
          "output_type": "stream",
          "name": "stdout",
          "text": [
            "642/642 [==============================] - 1s 2ms/step\n",
            "161/161 [==============================] - 0s 2ms/step\n"
          ]
        }
      ]
    },
    {
      "cell_type": "code",
      "source": [
        "mlp_test_preds.shape, rf_test_preds.shape, xgb_test_preds.shape, dnn_test_preds.shape"
      ],
      "metadata": {
        "colab": {
          "base_uri": "https://localhost:8080/"
        },
        "id": "eduoLLoN6my3",
        "outputId": "dfd828d5-d896-4e0d-c759-82bc85c891cf"
      },
      "execution_count": 25,
      "outputs": [
        {
          "output_type": "execute_result",
          "data": {
            "text/plain": [
              "((5132, 3), (5132, 3), (5132, 3), (5132, 3))"
            ]
          },
          "metadata": {},
          "execution_count": 25
        }
      ]
    },
    {
      "cell_type": "markdown",
      "source": [
        "### RandomForest"
      ],
      "metadata": {
        "id": "6rVTWyl1aNH-"
      }
    },
    {
      "cell_type": "code",
      "source": [
        "meta_model = RandomForestRegressor(n_estimators=500, random_state=42)\n",
        "meta_model.fit(meta_X_train, y_train)\n",
        "\n",
        "# Evaluar el meta-modelo en el conjunto de prueba\n",
        "meta_predictions = meta_model.predict(meta_X_test)\n",
        "mse = mean_squared_error(y_test, meta_predictions)\n",
        "print(f'MSE - Mean Squared Error del meta-modelo: {mse}')"
      ],
      "metadata": {
        "id": "IaKtMeV7tths",
        "colab": {
          "base_uri": "https://localhost:8080/"
        },
        "outputId": "b3aa3e66-6b63-4e19-90cf-b8ecdb74035f"
      },
      "execution_count": 26,
      "outputs": [
        {
          "output_type": "stream",
          "name": "stdout",
          "text": [
            "MSE - Mean Squared Error del meta-modelo: 0.001179960164920706\n"
          ]
        }
      ]
    },
    {
      "cell_type": "code",
      "source": [
        "# 100 - 0.002789\n",
        "# 200 - 0.002780\n",
        "# 500 - 0.002774 / 0.002513 / 0.002770\n",
        "# 1000 - 0.002775"
      ],
      "metadata": {
        "id": "8k2Dw1E8YS_A"
      },
      "execution_count": null,
      "outputs": []
    },
    {
      "cell_type": "code",
      "source": [
        "# 0.002279"
      ],
      "metadata": {
        "id": "cODxXQN7DPl8"
      },
      "execution_count": null,
      "outputs": []
    },
    {
      "cell_type": "code",
      "source": [
        "# 0.001179"
      ],
      "metadata": {
        "id": "XsH7I6MQ1yag"
      },
      "execution_count": null,
      "outputs": []
    },
    {
      "cell_type": "markdown",
      "source": [
        "### Predicciones y Métricas"
      ],
      "metadata": {
        "id": "lpmcqnZnTyMB"
      }
    },
    {
      "cell_type": "code",
      "source": [
        "predicciones = pd.DataFrame(df_test, columns=df_test.columns)\n",
        "for i, columna in enumerate(['R1', 'R2', 'R3']):\n",
        "    predicciones[f'P_{columna}'] = train_scaler_dict[columna].inverse_transform(meta_predictions[:, i].reshape(-1, 1))\n",
        "predicciones"
      ],
      "metadata": {
        "colab": {
          "base_uri": "https://localhost:8080/",
          "height": 424
        },
        "id": "Eg5kyaee9ErZ",
        "outputId": "47e6ad58-c0e1-45e5-8e0e-12b667dbb81d"
      },
      "execution_count": 27,
      "outputs": [
        {
          "output_type": "execute_result",
          "data": {
            "text/plain": [
              "        1a  1b   1c  1d   2a  2b   2c  2d   3a  3b  ...  56a  56b  56c  56d  \\\n",
              "11649  100  -3   15  25  300   7  110   6  350  -5  ...   80    5   45    6   \n",
              "12426  130  -7   25  12  300   7  110   6  340  -1  ...   80    3   90   12   \n",
              "10328   70  13  105   6  260  -5   45   6  350   7  ...   90   13   25   12   \n",
              "10812   70  11   25  25  250   3   65  25  350  -5  ...   90   13   25   12   \n",
              "11327   70  11   25  25  260  -5   45   6   20  -5  ...   30    7   45   12   \n",
              "...    ...  ..  ...  ..  ...  ..  ...  ..  ...  ..  ...  ...  ...  ...  ...   \n",
              "3634    70  11   25  25  260   7   25  25  350  13  ...   30    7   15   12   \n",
              "24874   70  11   25  25  250   3   65  25  330  -5  ...   60   13   25   25   \n",
              "15634   70  11   25  25  260  11  110   6    0   3  ...   90   13   25   12   \n",
              "6085    70  11   25  25  250   5   45  12    0  13  ...   30   13  110    6   \n",
              "4267   130  -7   25  12  250   3   65  25  340  -1  ...   60   -1  110   12   \n",
              "\n",
              "          R1     R2     R3       P_R1       P_R2       P_R3  \n",
              "11649  10.53   5.45  16.46  10.828762   5.518410  14.947982  \n",
              "12426  20.18  14.17  33.87  19.448997  14.468671  31.854900  \n",
              "10328   7.13   2.40   7.88   7.323594   2.310305   8.367096  \n",
              "10812   4.94   3.18   7.52   5.328262   2.954552   7.821246  \n",
              "11327   5.71   3.33   8.84   5.868674   2.877552   8.245281  \n",
              "...      ...    ...    ...        ...        ...        ...  \n",
              "3634   15.43   3.46  13.22  15.949226   3.705991  14.662446  \n",
              "24874   7.66   5.30  13.94   8.923284   5.981469  15.092634  \n",
              "15634   3.77   3.77   8.87   3.467529   3.319739   8.067538  \n",
              "6085   40.76   4.63  30.12  38.077047   4.346407  27.800850  \n",
              "4267   18.84  11.50  27.13  18.973972  11.068576  26.805900  \n",
              "\n",
              "[5132 rows x 230 columns]"
            ],
            "text/html": [
              "\n",
              "  <div id=\"df-1e5b5f72-2913-4c98-91c9-aa9870e4bb61\" class=\"colab-df-container\">\n",
              "    <div>\n",
              "<style scoped>\n",
              "    .dataframe tbody tr th:only-of-type {\n",
              "        vertical-align: middle;\n",
              "    }\n",
              "\n",
              "    .dataframe tbody tr th {\n",
              "        vertical-align: top;\n",
              "    }\n",
              "\n",
              "    .dataframe thead th {\n",
              "        text-align: right;\n",
              "    }\n",
              "</style>\n",
              "<table border=\"1\" class=\"dataframe\">\n",
              "  <thead>\n",
              "    <tr style=\"text-align: right;\">\n",
              "      <th></th>\n",
              "      <th>1a</th>\n",
              "      <th>1b</th>\n",
              "      <th>1c</th>\n",
              "      <th>1d</th>\n",
              "      <th>2a</th>\n",
              "      <th>2b</th>\n",
              "      <th>2c</th>\n",
              "      <th>2d</th>\n",
              "      <th>3a</th>\n",
              "      <th>3b</th>\n",
              "      <th>...</th>\n",
              "      <th>56a</th>\n",
              "      <th>56b</th>\n",
              "      <th>56c</th>\n",
              "      <th>56d</th>\n",
              "      <th>R1</th>\n",
              "      <th>R2</th>\n",
              "      <th>R3</th>\n",
              "      <th>P_R1</th>\n",
              "      <th>P_R2</th>\n",
              "      <th>P_R3</th>\n",
              "    </tr>\n",
              "  </thead>\n",
              "  <tbody>\n",
              "    <tr>\n",
              "      <th>11649</th>\n",
              "      <td>100</td>\n",
              "      <td>-3</td>\n",
              "      <td>15</td>\n",
              "      <td>25</td>\n",
              "      <td>300</td>\n",
              "      <td>7</td>\n",
              "      <td>110</td>\n",
              "      <td>6</td>\n",
              "      <td>350</td>\n",
              "      <td>-5</td>\n",
              "      <td>...</td>\n",
              "      <td>80</td>\n",
              "      <td>5</td>\n",
              "      <td>45</td>\n",
              "      <td>6</td>\n",
              "      <td>10.53</td>\n",
              "      <td>5.45</td>\n",
              "      <td>16.46</td>\n",
              "      <td>10.828762</td>\n",
              "      <td>5.518410</td>\n",
              "      <td>14.947982</td>\n",
              "    </tr>\n",
              "    <tr>\n",
              "      <th>12426</th>\n",
              "      <td>130</td>\n",
              "      <td>-7</td>\n",
              "      <td>25</td>\n",
              "      <td>12</td>\n",
              "      <td>300</td>\n",
              "      <td>7</td>\n",
              "      <td>110</td>\n",
              "      <td>6</td>\n",
              "      <td>340</td>\n",
              "      <td>-1</td>\n",
              "      <td>...</td>\n",
              "      <td>80</td>\n",
              "      <td>3</td>\n",
              "      <td>90</td>\n",
              "      <td>12</td>\n",
              "      <td>20.18</td>\n",
              "      <td>14.17</td>\n",
              "      <td>33.87</td>\n",
              "      <td>19.448997</td>\n",
              "      <td>14.468671</td>\n",
              "      <td>31.854900</td>\n",
              "    </tr>\n",
              "    <tr>\n",
              "      <th>10328</th>\n",
              "      <td>70</td>\n",
              "      <td>13</td>\n",
              "      <td>105</td>\n",
              "      <td>6</td>\n",
              "      <td>260</td>\n",
              "      <td>-5</td>\n",
              "      <td>45</td>\n",
              "      <td>6</td>\n",
              "      <td>350</td>\n",
              "      <td>7</td>\n",
              "      <td>...</td>\n",
              "      <td>90</td>\n",
              "      <td>13</td>\n",
              "      <td>25</td>\n",
              "      <td>12</td>\n",
              "      <td>7.13</td>\n",
              "      <td>2.40</td>\n",
              "      <td>7.88</td>\n",
              "      <td>7.323594</td>\n",
              "      <td>2.310305</td>\n",
              "      <td>8.367096</td>\n",
              "    </tr>\n",
              "    <tr>\n",
              "      <th>10812</th>\n",
              "      <td>70</td>\n",
              "      <td>11</td>\n",
              "      <td>25</td>\n",
              "      <td>25</td>\n",
              "      <td>250</td>\n",
              "      <td>3</td>\n",
              "      <td>65</td>\n",
              "      <td>25</td>\n",
              "      <td>350</td>\n",
              "      <td>-5</td>\n",
              "      <td>...</td>\n",
              "      <td>90</td>\n",
              "      <td>13</td>\n",
              "      <td>25</td>\n",
              "      <td>12</td>\n",
              "      <td>4.94</td>\n",
              "      <td>3.18</td>\n",
              "      <td>7.52</td>\n",
              "      <td>5.328262</td>\n",
              "      <td>2.954552</td>\n",
              "      <td>7.821246</td>\n",
              "    </tr>\n",
              "    <tr>\n",
              "      <th>11327</th>\n",
              "      <td>70</td>\n",
              "      <td>11</td>\n",
              "      <td>25</td>\n",
              "      <td>25</td>\n",
              "      <td>260</td>\n",
              "      <td>-5</td>\n",
              "      <td>45</td>\n",
              "      <td>6</td>\n",
              "      <td>20</td>\n",
              "      <td>-5</td>\n",
              "      <td>...</td>\n",
              "      <td>30</td>\n",
              "      <td>7</td>\n",
              "      <td>45</td>\n",
              "      <td>12</td>\n",
              "      <td>5.71</td>\n",
              "      <td>3.33</td>\n",
              "      <td>8.84</td>\n",
              "      <td>5.868674</td>\n",
              "      <td>2.877552</td>\n",
              "      <td>8.245281</td>\n",
              "    </tr>\n",
              "    <tr>\n",
              "      <th>...</th>\n",
              "      <td>...</td>\n",
              "      <td>...</td>\n",
              "      <td>...</td>\n",
              "      <td>...</td>\n",
              "      <td>...</td>\n",
              "      <td>...</td>\n",
              "      <td>...</td>\n",
              "      <td>...</td>\n",
              "      <td>...</td>\n",
              "      <td>...</td>\n",
              "      <td>...</td>\n",
              "      <td>...</td>\n",
              "      <td>...</td>\n",
              "      <td>...</td>\n",
              "      <td>...</td>\n",
              "      <td>...</td>\n",
              "      <td>...</td>\n",
              "      <td>...</td>\n",
              "      <td>...</td>\n",
              "      <td>...</td>\n",
              "      <td>...</td>\n",
              "    </tr>\n",
              "    <tr>\n",
              "      <th>3634</th>\n",
              "      <td>70</td>\n",
              "      <td>11</td>\n",
              "      <td>25</td>\n",
              "      <td>25</td>\n",
              "      <td>260</td>\n",
              "      <td>7</td>\n",
              "      <td>25</td>\n",
              "      <td>25</td>\n",
              "      <td>350</td>\n",
              "      <td>13</td>\n",
              "      <td>...</td>\n",
              "      <td>30</td>\n",
              "      <td>7</td>\n",
              "      <td>15</td>\n",
              "      <td>12</td>\n",
              "      <td>15.43</td>\n",
              "      <td>3.46</td>\n",
              "      <td>13.22</td>\n",
              "      <td>15.949226</td>\n",
              "      <td>3.705991</td>\n",
              "      <td>14.662446</td>\n",
              "    </tr>\n",
              "    <tr>\n",
              "      <th>24874</th>\n",
              "      <td>70</td>\n",
              "      <td>11</td>\n",
              "      <td>25</td>\n",
              "      <td>25</td>\n",
              "      <td>250</td>\n",
              "      <td>3</td>\n",
              "      <td>65</td>\n",
              "      <td>25</td>\n",
              "      <td>330</td>\n",
              "      <td>-5</td>\n",
              "      <td>...</td>\n",
              "      <td>60</td>\n",
              "      <td>13</td>\n",
              "      <td>25</td>\n",
              "      <td>25</td>\n",
              "      <td>7.66</td>\n",
              "      <td>5.30</td>\n",
              "      <td>13.94</td>\n",
              "      <td>8.923284</td>\n",
              "      <td>5.981469</td>\n",
              "      <td>15.092634</td>\n",
              "    </tr>\n",
              "    <tr>\n",
              "      <th>15634</th>\n",
              "      <td>70</td>\n",
              "      <td>11</td>\n",
              "      <td>25</td>\n",
              "      <td>25</td>\n",
              "      <td>260</td>\n",
              "      <td>11</td>\n",
              "      <td>110</td>\n",
              "      <td>6</td>\n",
              "      <td>0</td>\n",
              "      <td>3</td>\n",
              "      <td>...</td>\n",
              "      <td>90</td>\n",
              "      <td>13</td>\n",
              "      <td>25</td>\n",
              "      <td>12</td>\n",
              "      <td>3.77</td>\n",
              "      <td>3.77</td>\n",
              "      <td>8.87</td>\n",
              "      <td>3.467529</td>\n",
              "      <td>3.319739</td>\n",
              "      <td>8.067538</td>\n",
              "    </tr>\n",
              "    <tr>\n",
              "      <th>6085</th>\n",
              "      <td>70</td>\n",
              "      <td>11</td>\n",
              "      <td>25</td>\n",
              "      <td>25</td>\n",
              "      <td>250</td>\n",
              "      <td>5</td>\n",
              "      <td>45</td>\n",
              "      <td>12</td>\n",
              "      <td>0</td>\n",
              "      <td>13</td>\n",
              "      <td>...</td>\n",
              "      <td>30</td>\n",
              "      <td>13</td>\n",
              "      <td>110</td>\n",
              "      <td>6</td>\n",
              "      <td>40.76</td>\n",
              "      <td>4.63</td>\n",
              "      <td>30.12</td>\n",
              "      <td>38.077047</td>\n",
              "      <td>4.346407</td>\n",
              "      <td>27.800850</td>\n",
              "    </tr>\n",
              "    <tr>\n",
              "      <th>4267</th>\n",
              "      <td>130</td>\n",
              "      <td>-7</td>\n",
              "      <td>25</td>\n",
              "      <td>12</td>\n",
              "      <td>250</td>\n",
              "      <td>3</td>\n",
              "      <td>65</td>\n",
              "      <td>25</td>\n",
              "      <td>340</td>\n",
              "      <td>-1</td>\n",
              "      <td>...</td>\n",
              "      <td>60</td>\n",
              "      <td>-1</td>\n",
              "      <td>110</td>\n",
              "      <td>12</td>\n",
              "      <td>18.84</td>\n",
              "      <td>11.50</td>\n",
              "      <td>27.13</td>\n",
              "      <td>18.973972</td>\n",
              "      <td>11.068576</td>\n",
              "      <td>26.805900</td>\n",
              "    </tr>\n",
              "  </tbody>\n",
              "</table>\n",
              "<p>5132 rows × 230 columns</p>\n",
              "</div>\n",
              "    <div class=\"colab-df-buttons\">\n",
              "\n",
              "  <div class=\"colab-df-container\">\n",
              "    <button class=\"colab-df-convert\" onclick=\"convertToInteractive('df-1e5b5f72-2913-4c98-91c9-aa9870e4bb61')\"\n",
              "            title=\"Convert this dataframe to an interactive table.\"\n",
              "            style=\"display:none;\">\n",
              "\n",
              "  <svg xmlns=\"http://www.w3.org/2000/svg\" height=\"24px\" viewBox=\"0 -960 960 960\">\n",
              "    <path d=\"M120-120v-720h720v720H120Zm60-500h600v-160H180v160Zm220 220h160v-160H400v160Zm0 220h160v-160H400v160ZM180-400h160v-160H180v160Zm440 0h160v-160H620v160ZM180-180h160v-160H180v160Zm440 0h160v-160H620v160Z\"/>\n",
              "  </svg>\n",
              "    </button>\n",
              "\n",
              "  <style>\n",
              "    .colab-df-container {\n",
              "      display:flex;\n",
              "      gap: 12px;\n",
              "    }\n",
              "\n",
              "    .colab-df-convert {\n",
              "      background-color: #E8F0FE;\n",
              "      border: none;\n",
              "      border-radius: 50%;\n",
              "      cursor: pointer;\n",
              "      display: none;\n",
              "      fill: #1967D2;\n",
              "      height: 32px;\n",
              "      padding: 0 0 0 0;\n",
              "      width: 32px;\n",
              "    }\n",
              "\n",
              "    .colab-df-convert:hover {\n",
              "      background-color: #E2EBFA;\n",
              "      box-shadow: 0px 1px 2px rgba(60, 64, 67, 0.3), 0px 1px 3px 1px rgba(60, 64, 67, 0.15);\n",
              "      fill: #174EA6;\n",
              "    }\n",
              "\n",
              "    .colab-df-buttons div {\n",
              "      margin-bottom: 4px;\n",
              "    }\n",
              "\n",
              "    [theme=dark] .colab-df-convert {\n",
              "      background-color: #3B4455;\n",
              "      fill: #D2E3FC;\n",
              "    }\n",
              "\n",
              "    [theme=dark] .colab-df-convert:hover {\n",
              "      background-color: #434B5C;\n",
              "      box-shadow: 0px 1px 3px 1px rgba(0, 0, 0, 0.15);\n",
              "      filter: drop-shadow(0px 1px 2px rgba(0, 0, 0, 0.3));\n",
              "      fill: #FFFFFF;\n",
              "    }\n",
              "  </style>\n",
              "\n",
              "    <script>\n",
              "      const buttonEl =\n",
              "        document.querySelector('#df-1e5b5f72-2913-4c98-91c9-aa9870e4bb61 button.colab-df-convert');\n",
              "      buttonEl.style.display =\n",
              "        google.colab.kernel.accessAllowed ? 'block' : 'none';\n",
              "\n",
              "      async function convertToInteractive(key) {\n",
              "        const element = document.querySelector('#df-1e5b5f72-2913-4c98-91c9-aa9870e4bb61');\n",
              "        const dataTable =\n",
              "          await google.colab.kernel.invokeFunction('convertToInteractive',\n",
              "                                                    [key], {});\n",
              "        if (!dataTable) return;\n",
              "\n",
              "        const docLinkHtml = 'Like what you see? Visit the ' +\n",
              "          '<a target=\"_blank\" href=https://colab.research.google.com/notebooks/data_table.ipynb>data table notebook</a>'\n",
              "          + ' to learn more about interactive tables.';\n",
              "        element.innerHTML = '';\n",
              "        dataTable['output_type'] = 'display_data';\n",
              "        await google.colab.output.renderOutput(dataTable, element);\n",
              "        const docLink = document.createElement('div');\n",
              "        docLink.innerHTML = docLinkHtml;\n",
              "        element.appendChild(docLink);\n",
              "      }\n",
              "    </script>\n",
              "  </div>\n",
              "\n",
              "\n",
              "<div id=\"df-c32d8833-58dd-4412-8796-96b666b61c87\">\n",
              "  <button class=\"colab-df-quickchart\" onclick=\"quickchart('df-c32d8833-58dd-4412-8796-96b666b61c87')\"\n",
              "            title=\"Suggest charts\"\n",
              "            style=\"display:none;\">\n",
              "\n",
              "<svg xmlns=\"http://www.w3.org/2000/svg\" height=\"24px\"viewBox=\"0 0 24 24\"\n",
              "     width=\"24px\">\n",
              "    <g>\n",
              "        <path d=\"M19 3H5c-1.1 0-2 .9-2 2v14c0 1.1.9 2 2 2h14c1.1 0 2-.9 2-2V5c0-1.1-.9-2-2-2zM9 17H7v-7h2v7zm4 0h-2V7h2v10zm4 0h-2v-4h2v4z\"/>\n",
              "    </g>\n",
              "</svg>\n",
              "  </button>\n",
              "\n",
              "<style>\n",
              "  .colab-df-quickchart {\n",
              "      --bg-color: #E8F0FE;\n",
              "      --fill-color: #1967D2;\n",
              "      --hover-bg-color: #E2EBFA;\n",
              "      --hover-fill-color: #174EA6;\n",
              "      --disabled-fill-color: #AAA;\n",
              "      --disabled-bg-color: #DDD;\n",
              "  }\n",
              "\n",
              "  [theme=dark] .colab-df-quickchart {\n",
              "      --bg-color: #3B4455;\n",
              "      --fill-color: #D2E3FC;\n",
              "      --hover-bg-color: #434B5C;\n",
              "      --hover-fill-color: #FFFFFF;\n",
              "      --disabled-bg-color: #3B4455;\n",
              "      --disabled-fill-color: #666;\n",
              "  }\n",
              "\n",
              "  .colab-df-quickchart {\n",
              "    background-color: var(--bg-color);\n",
              "    border: none;\n",
              "    border-radius: 50%;\n",
              "    cursor: pointer;\n",
              "    display: none;\n",
              "    fill: var(--fill-color);\n",
              "    height: 32px;\n",
              "    padding: 0;\n",
              "    width: 32px;\n",
              "  }\n",
              "\n",
              "  .colab-df-quickchart:hover {\n",
              "    background-color: var(--hover-bg-color);\n",
              "    box-shadow: 0 1px 2px rgba(60, 64, 67, 0.3), 0 1px 3px 1px rgba(60, 64, 67, 0.15);\n",
              "    fill: var(--button-hover-fill-color);\n",
              "  }\n",
              "\n",
              "  .colab-df-quickchart-complete:disabled,\n",
              "  .colab-df-quickchart-complete:disabled:hover {\n",
              "    background-color: var(--disabled-bg-color);\n",
              "    fill: var(--disabled-fill-color);\n",
              "    box-shadow: none;\n",
              "  }\n",
              "\n",
              "  .colab-df-spinner {\n",
              "    border: 2px solid var(--fill-color);\n",
              "    border-color: transparent;\n",
              "    border-bottom-color: var(--fill-color);\n",
              "    animation:\n",
              "      spin 1s steps(1) infinite;\n",
              "  }\n",
              "\n",
              "  @keyframes spin {\n",
              "    0% {\n",
              "      border-color: transparent;\n",
              "      border-bottom-color: var(--fill-color);\n",
              "      border-left-color: var(--fill-color);\n",
              "    }\n",
              "    20% {\n",
              "      border-color: transparent;\n",
              "      border-left-color: var(--fill-color);\n",
              "      border-top-color: var(--fill-color);\n",
              "    }\n",
              "    30% {\n",
              "      border-color: transparent;\n",
              "      border-left-color: var(--fill-color);\n",
              "      border-top-color: var(--fill-color);\n",
              "      border-right-color: var(--fill-color);\n",
              "    }\n",
              "    40% {\n",
              "      border-color: transparent;\n",
              "      border-right-color: var(--fill-color);\n",
              "      border-top-color: var(--fill-color);\n",
              "    }\n",
              "    60% {\n",
              "      border-color: transparent;\n",
              "      border-right-color: var(--fill-color);\n",
              "    }\n",
              "    80% {\n",
              "      border-color: transparent;\n",
              "      border-right-color: var(--fill-color);\n",
              "      border-bottom-color: var(--fill-color);\n",
              "    }\n",
              "    90% {\n",
              "      border-color: transparent;\n",
              "      border-bottom-color: var(--fill-color);\n",
              "    }\n",
              "  }\n",
              "</style>\n",
              "\n",
              "  <script>\n",
              "    async function quickchart(key) {\n",
              "      const quickchartButtonEl =\n",
              "        document.querySelector('#' + key + ' button');\n",
              "      quickchartButtonEl.disabled = true;  // To prevent multiple clicks.\n",
              "      quickchartButtonEl.classList.add('colab-df-spinner');\n",
              "      try {\n",
              "        const charts = await google.colab.kernel.invokeFunction(\n",
              "            'suggestCharts', [key], {});\n",
              "      } catch (error) {\n",
              "        console.error('Error during call to suggestCharts:', error);\n",
              "      }\n",
              "      quickchartButtonEl.classList.remove('colab-df-spinner');\n",
              "      quickchartButtonEl.classList.add('colab-df-quickchart-complete');\n",
              "    }\n",
              "    (() => {\n",
              "      let quickchartButtonEl =\n",
              "        document.querySelector('#df-c32d8833-58dd-4412-8796-96b666b61c87 button');\n",
              "      quickchartButtonEl.style.display =\n",
              "        google.colab.kernel.accessAllowed ? 'block' : 'none';\n",
              "    })();\n",
              "  </script>\n",
              "</div>\n",
              "\n",
              "  <div id=\"id_86d95b9b-84e5-47d0-a235-4bdd11e8d91c\">\n",
              "    <style>\n",
              "      .colab-df-generate {\n",
              "        background-color: #E8F0FE;\n",
              "        border: none;\n",
              "        border-radius: 50%;\n",
              "        cursor: pointer;\n",
              "        display: none;\n",
              "        fill: #1967D2;\n",
              "        height: 32px;\n",
              "        padding: 0 0 0 0;\n",
              "        width: 32px;\n",
              "      }\n",
              "\n",
              "      .colab-df-generate:hover {\n",
              "        background-color: #E2EBFA;\n",
              "        box-shadow: 0px 1px 2px rgba(60, 64, 67, 0.3), 0px 1px 3px 1px rgba(60, 64, 67, 0.15);\n",
              "        fill: #174EA6;\n",
              "      }\n",
              "\n",
              "      [theme=dark] .colab-df-generate {\n",
              "        background-color: #3B4455;\n",
              "        fill: #D2E3FC;\n",
              "      }\n",
              "\n",
              "      [theme=dark] .colab-df-generate:hover {\n",
              "        background-color: #434B5C;\n",
              "        box-shadow: 0px 1px 3px 1px rgba(0, 0, 0, 0.15);\n",
              "        filter: drop-shadow(0px 1px 2px rgba(0, 0, 0, 0.3));\n",
              "        fill: #FFFFFF;\n",
              "      }\n",
              "    </style>\n",
              "    <button class=\"colab-df-generate\" onclick=\"generateWithVariable('predicciones')\"\n",
              "            title=\"Generate code using this dataframe.\"\n",
              "            style=\"display:none;\">\n",
              "\n",
              "  <svg xmlns=\"http://www.w3.org/2000/svg\" height=\"24px\"viewBox=\"0 0 24 24\"\n",
              "       width=\"24px\">\n",
              "    <path d=\"M7,19H8.4L18.45,9,17,7.55,7,17.6ZM5,21V16.75L18.45,3.32a2,2,0,0,1,2.83,0l1.4,1.43a1.91,1.91,0,0,1,.58,1.4,1.91,1.91,0,0,1-.58,1.4L9.25,21ZM18.45,9,17,7.55Zm-12,3A5.31,5.31,0,0,0,4.9,8.1,5.31,5.31,0,0,0,1,6.5,5.31,5.31,0,0,0,4.9,4.9,5.31,5.31,0,0,0,6.5,1,5.31,5.31,0,0,0,8.1,4.9,5.31,5.31,0,0,0,12,6.5,5.46,5.46,0,0,0,6.5,12Z\"/>\n",
              "  </svg>\n",
              "    </button>\n",
              "    <script>\n",
              "      (() => {\n",
              "      const buttonEl =\n",
              "        document.querySelector('#id_86d95b9b-84e5-47d0-a235-4bdd11e8d91c button.colab-df-generate');\n",
              "      buttonEl.style.display =\n",
              "        google.colab.kernel.accessAllowed ? 'block' : 'none';\n",
              "\n",
              "      buttonEl.onclick = () => {\n",
              "        google.colab.notebook.generateWithVariable('predicciones');\n",
              "      }\n",
              "      })();\n",
              "    </script>\n",
              "  </div>\n",
              "\n",
              "    </div>\n",
              "  </div>\n"
            ],
            "application/vnd.google.colaboratory.intrinsic+json": {
              "type": "dataframe",
              "variable_name": "predicciones"
            }
          },
          "metadata": {},
          "execution_count": 27
        }
      ]
    },
    {
      "cell_type": "code",
      "source": [
        "# Crear subgráficos\n",
        "fig, axs = plt.subplots(1, 3, figsize=(18, 6), sharey=True)\n",
        "\n",
        "# Iterar sobre las columnas de predicción\n",
        "for i, columna in enumerate(['R1', 'R2', 'R3']):\n",
        "    # Scatter plot de los valores esperados vs. predichos para la columna actual\n",
        "    axs[i].scatter(predicciones[columna], predicciones[f'P_{columna}'], color='blue', alpha=0.5)\n",
        "    # Línea diagonal para referencia\n",
        "    axs[i].plot([predicciones[columna].min(), predicciones[columna].max()], [predicciones[columna].min(), predicciones[columna].max()], color='red', linestyle='--')\n",
        "    # Título y etiquetas de los ejes\n",
        "    axs[i].set_title(f'Predicciones vs. Valores Esperados para {columna}', fontsize=16)\n",
        "    axs[i].set_xlabel(f'Valor Esperado ({columna})', fontsize=14)\n",
        "    axs[i].set_ylabel('Valor Predicho', fontsize=14)\n",
        "    # Cuadrícula\n",
        "    axs[i].grid(True)\n",
        "\n",
        "# Mostrar el gráfico\n",
        "plt.tight_layout()\n",
        "plt.show()"
      ],
      "metadata": {
        "colab": {
          "base_uri": "https://localhost:8080/",
          "height": 405
        },
        "id": "PAfkVSs9USue",
        "outputId": "8122e1ea-6148-417c-d610-efdf6222b1ef"
      },
      "execution_count": 28,
      "outputs": [
        {
          "output_type": "display_data",
          "data": {
            "text/plain": [
              "<Figure size 1800x600 with 3 Axes>"
            ],
            "image/png": "[encoded data removed]"
          },
          "metadata": {}
        }
      ]
    },
    {
      "cell_type": "code",
      "source": [
        "# Métricas\n",
        "print(\"-------------------------\\nMétricas\")\n",
        "y_pred = meta_predictions\n",
        "# Calcular R2 ajustado\n",
        "n = y_test.shape[0] * y_test.shape[1]  # número total de observaciones en y_test\n",
        "p = X_train.shape[1] # número de características en X_train\n",
        "r2_aj = r2_ajustado(y_test, y_pred, n, p)\n",
        "\n",
        "# Métricas de regresión\n",
        "mse = mean_squared_error(y_test, y_pred)\n",
        "mae = mean_absolute_error(y_test, y_pred)\n",
        "r2 = r2_score(y_test, y_pred)\n",
        "\n",
        "print(\"Mean Squared Error (MSE): {:.6f}\".format(mse))\n",
        "print(\"Mean Absolute Error (MAE): {:.6f}\".format(mae))\n",
        "print(\"R2 Score: {:.6f}\".format(r2))\n",
        "print(\"R2 Ajustado: {:.6f}\\n\".format(r2_aj))"
      ],
      "metadata": {
        "id": "iy-L2MRN-ufy",
        "outputId": "c67907dd-6cb3-4002-f345-39a82114dcc8",
        "colab": {
          "base_uri": "https://localhost:8080/"
        }
      },
      "execution_count": 29,
      "outputs": [
        {
          "output_type": "stream",
          "name": "stdout",
          "text": [
            "-------------------------\n",
            "Métricas\n",
            "Mean Squared Error (MSE): 0.001180\n",
            "Mean Absolute Error (MAE): 0.022851\n",
            "R2 Score: 0.966079\n",
            "R2 Ajustado: 0.965578\n",
            "\n"
          ]
        }
      ]
    },
    {
      "cell_type": "code",
      "source": [
        "from sklearn.model_selection import cross_val_score\n",
        "\n",
        "# Función para graficar la curva de aprendizaje del meta-modelo RandomForest\n",
        "def plot_learning_curve(model, X, y, cv=5):\n",
        "    \"\"\"\n",
        "    Graficar la curva de aprendizaje del modelo.\n",
        "\n",
        "    Parameters:\n",
        "    model (sklearn estimator): El modelo a evaluar.\n",
        "    X (numpy array): Conjunto de características.\n",
        "    y (numpy array): Conjunto de etiquetas.\n",
        "    cv (int): Número de pliegues para la validación cruzada.\n",
        "    \"\"\"\n",
        "    train_scores = []\n",
        "    val_scores = []\n",
        "    n_estimators_range = range(100, 501, 50)\n",
        "\n",
        "    for n_estimators in n_estimators_range:\n",
        "        model.set_params(n_estimators=n_estimators)\n",
        "        train_scores.append(np.mean(cross_val_score(model, X, y, cv=cv, scoring='neg_mean_squared_error', n_jobs=-1)))\n",
        "        val_scores.append(np.mean(cross_val_score(model, X, y, cv=cv, scoring='neg_mean_squared_error', n_jobs=-1)))\n",
        "\n",
        "    train_scores = np.array(train_scores) * -1  # Convertir a valores positivos\n",
        "    val_scores = np.array(val_scores) * -1  # Convertir a valores positivos\n",
        "\n",
        "    plt.figure(figsize=(12, 6))\n",
        "    plt.plot(n_estimators_range, train_scores, label='Training Error')\n",
        "    plt.plot(n_estimators_range, val_scores, label='Validation Error')\n",
        "    plt.xlabel('Number of Estimators')\n",
        "    plt.ylabel('Mean Squared Error')\n",
        "    plt.legend()\n",
        "    plt.title('Curva de Aprendizaje del Meta-Modelo RandomForest')\n",
        "    plt.grid(True)\n",
        "    plt.show()\n",
        "\n",
        "# Llamar a la función para graficar la curva de aprendizaje\n",
        "plot_learning_curve(meta_model, meta_X_train, y_train)\n"
      ],
      "metadata": {
        "id": "t9FeugvtJhDJ",
        "outputId": "f62bd8b0-2b79-4707-e8fd-e985d7542b93",
        "colab": {
          "base_uri": "https://localhost:8080/",
          "height": 619
        }
      },
      "execution_count": 29,
      "outputs": [
        {
          "output_type": "stream",
          "name": "stderr",
          "text": [
            "/usr/local/lib/python3.10/dist-packages/joblib/externals/loky/backend/fork_exec.py:38: RuntimeWarning: os.fork() was called. os.fork() is incompatible with multithreaded code, and JAX is multithreaded, so this will likely lead to a deadlock.\n",
            "  pid = os.fork()\n"
          ]
        },
        {
          "output_type": "display_data",
          "data": {
            "text/plain": [
              "<Figure size 1200x600 with 1 Axes>"
            ],
            "image/png": "[encoded data removed]"
          },
          "metadata": {}
        }
      ]
    },
    {
      "cell_type": "markdown",
      "source": [
        "# Import / Export de Modelos"
      ],
      "metadata": {
        "id": "kLEivSKTCurt"
      }
    },
    {
      "cell_type": "markdown",
      "source": [
        "TensorFlow"
      ],
      "metadata": {
        "id": "3DT8vXVrDu9J"
      }
    },
    {
      "cell_type": "code",
      "source": [
        "model.save('meta_model')"
      ],
      "metadata": {
        "id": "E-6-uGOcDpSa"
      },
      "execution_count": 32,
      "outputs": []
    },
    {
      "cell_type": "code",
      "source": [
        "loaded_model = tf.keras.models.load_model('mlp_model')"
      ],
      "metadata": {
        "id": "xgpTsf-rD5Jl"
      },
      "execution_count": null,
      "outputs": []
    },
    {
      "cell_type": "markdown",
      "source": [
        "Pickle"
      ],
      "metadata": {
        "id": "ZeLRD_9hDxAL"
      }
    },
    {
      "cell_type": "code",
      "source": [
        "# Guardar el modelo\n",
        "with open('meta_model.pkl', 'wb') as file:\n",
        "    pickle.dump(meta_model, file)"
      ],
      "metadata": {
        "id": "eGHRT50w3IHX"
      },
      "execution_count": 34,
      "outputs": []
    },
    {
      "cell_type": "code",
      "source": [
        "# Cargar el modelo\n",
        "with open('meta_model.pkl', 'rb') as file:\n",
        "    loaded_meta_model = pickle.load(file)"
      ],
      "metadata": {
        "id": "AUgh3caj3V_Y"
      },
      "execution_count": null,
      "outputs": []
    },
    {
      "cell_type": "code",
      "source": [
        "mlp.save('mlp_model.h5')\n",
        "with open('mlp_model_pickle.pkl', 'wb') as file:\n",
        "    pickle.dump('mlp_model.h5', file)"
      ],
      "metadata": {
        "id": "5HtJueZdC4b_"
      },
      "execution_count": null,
      "outputs": []
    },
    {
      "cell_type": "code",
      "source": [
        "with open('mlp_model_pickle.pkl', 'rb') as file:\n",
        "    model_file = pickle.load(file)\n",
        "loaded_model = tf.keras.models.load_model(model_file)"
      ],
      "metadata": {
        "id": "lH785mWwC-Xq"
      },
      "execution_count": null,
      "outputs": []
    },
    {
      "cell_type": "markdown",
      "source": [
        "Joblib"
      ],
      "metadata": {
        "id": "-y5G_ZU5Finm"
      }
    },
    {
      "cell_type": "code",
      "source": [
        "joblib.dump(mlp, 'mlp_regressor_model.pkl')"
      ],
      "metadata": {
        "colab": {
          "base_uri": "https://localhost:8080/"
        },
        "id": "j6wdksb_FkGa",
        "outputId": "76eb2485-caf7-455b-8d9e-c04c775362f5"
      },
      "execution_count": null,
      "outputs": [
        {
          "output_type": "execute_result",
          "data": {
            "text/plain": [
              "['mlp_regressor_model.pkl']"
            ]
          },
          "metadata": {},
          "execution_count": 144
        }
      ]
    },
    {
      "cell_type": "code",
      "source": [
        "mlp_loaded = joblib.load('mlp_regressor_model.pkl')"
      ],
      "metadata": {
        "id": "ChrloY5BF-_N"
      },
      "execution_count": null,
      "outputs": []
    }
  ],
  "metadata": {
    "colab": {
      "provenance": [],
      "gpuType": "T4"
    },
    "kernelspec": {
      "display_name": "Python 3",
      "name": "python3"
    },
    "language_info": {
      "codemirror_mode": {
        "name": "ipython",
        "version": 3
      },
      "file_extension": ".py",
      "mimetype": "text/x-python",
      "name": "python",
      "nbconvert_exporter": "python",
      "pygments_lexer": "ipython3",
      "version": "3.11.8"
    },
    "accelerator": "GPU"
  },
  "nbformat": 4,
  "nbformat_minor": 0
}