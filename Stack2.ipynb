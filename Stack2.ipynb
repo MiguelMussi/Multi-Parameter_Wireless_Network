{
  "cells": [
    {
      "cell_type": "markdown",
      "source": [
        "# Intro"
      ],
      "metadata": {
        "id": "Jf0yDdEZu0sC"
      }
    },
    {
      "cell_type": "code",
      "execution_count": 2,
      "metadata": {
        "id": "-e4EuUnVn7g5"
      },
      "outputs": [],
      "source": [
        "# Data\n",
        "import os\n",
        "import numpy as np\n",
        "import pandas as pd\n",
        "\n",
        "# SkLearn\n",
        "from sklearn.model_selection import train_test_split\n",
        "from sklearn.preprocessing import MinMaxScaler\n",
        "from sklearn.model_selection import GridSearchCV\n",
        "from sklearn.neural_network import MLPRegressor\n",
        "from sklearn.metrics import mean_squared_error, mean_absolute_error, r2_score\n",
        "from sklearn.ensemble import RandomForestRegressor, GradientBoostingRegressor\n",
        "from sklearn.svm import SVR\n",
        "\n",
        "# Display\n",
        "from IPython.display import clear_output\n",
        "\n",
        "# Visualizaciones\n",
        "import matplotlib.pyplot as plt\n",
        "import seaborn as sns\n",
        "\n",
        "# Redes Neuronales\n",
        "import tensorflow as tf\n",
        "from tensorflow.keras.models import Sequential, load_model, save_model\n",
        "from tensorflow.keras.layers import Dense, Input, Dropout, Conv1D, Flatten\n",
        "from tensorflow.keras.optimizers import Adam\n",
        "from tensorflow.keras.callbacks import ModelCheckpoint, ReduceLROnPlateau, EarlyStopping\n",
        "from tensorflow.keras.regularizers import l2\n",
        "\n",
        "# Gradient Boosting\n",
        "import xgboost as xgb\n",
        "\n",
        "# Import/Export\n",
        "import pickle\n",
        "import joblib\n",
        "\n",
        "# Optimización Inversa\n",
        "from scipy.optimize import differential_evolution, minimize"
      ]
    },
    {
      "cell_type": "code",
      "source": [
        "import sys\n",
        "import sklearn\n",
        "\n",
        "# Versión de Python (y por ende de pickle)\n",
        "print(\"Versión de Python:\", sys.version)\n",
        "\n",
        "# Versión de scikit-learn\n",
        "print(\"Versión de scikit-learn:\", sklearn.__version__)\n"
      ],
      "metadata": {
        "id": "flkdCKoHrgUg",
        "outputId": "a3d3c17e-bfd5-4f6a-95a5-34e74a194976",
        "colab": {
          "base_uri": "https://localhost:8080/"
        }
      },
      "execution_count": 35,
      "outputs": [
        {
          "output_type": "stream",
          "name": "stdout",
          "text": [
            "Versión de Python: 3.10.12 (main, Nov 20 2023, 15:14:05) [GCC 11.4.0]\n",
            "Versión de scikit-learn: 1.2.2\n"
          ]
        }
      ]
    },
    {
      "cell_type": "code",
      "execution_count": 3,
      "metadata": {
        "id": "WxV12uGMn7g9"
      },
      "outputs": [],
      "source": [
        "REPO_NAME = \"Multi-Parameter_Wireless_Network\"\n",
        "if REPO_NAME not in os.getcwd():\n",
        "  if not os.path.exists(REPO_NAME):\n",
        "    !git clone https://github.com/MiguelMussi/{REPO_NAME}.git\n",
        "  os.chdir(REPO_NAME)"
      ]
    },
    {
      "cell_type": "markdown",
      "metadata": {
        "id": "UyIY5hcEn7g9"
      },
      "source": [
        "Establecer GPU por defecto en caso de estar disponible."
      ]
    },
    {
      "cell_type": "code",
      "execution_count": 4,
      "metadata": {
        "id": "34itNjT3n7g_",
        "outputId": "3035e97d-9486-4857-902a-e434242035f3",
        "colab": {
          "base_uri": "https://localhost:8080/"
        }
      },
      "outputs": [
        {
          "output_type": "stream",
          "name": "stdout",
          "text": [
            "1 Physical GPUs, 1 Logical GPUs\n"
          ]
        }
      ],
      "source": [
        "# Configurar para que TensorFlow utilice la GPU por defecto\n",
        "gpus = tf.config.experimental.list_physical_devices('GPU')\n",
        "if gpus:\n",
        "    try:\n",
        "        # Configurar para que TensorFlow asigne memoria dinámicamente\n",
        "        for gpu in gpus:\n",
        "            tf.config.experimental.set_memory_growth(gpu, True)\n",
        "        # Especificar la GPU por defecto\n",
        "        logical_gpus = tf.config.experimental.list_logical_devices('GPU')\n",
        "        print(len(gpus), \"Physical GPUs,\", len(logical_gpus), \"Logical GPUs\")\n",
        "    except RuntimeError as e:\n",
        "        # Manejar error\n",
        "        print(e)"
      ]
    },
    {
      "cell_type": "code",
      "execution_count": 5,
      "metadata": {
        "id": "7H3hPOm1n7hA"
      },
      "outputs": [],
      "source": [
        "with open('datos.txt', 'r') as file:\n",
        "    data = file.read()\n",
        "lines = data.strip().split('\\n')\n",
        "rows = [line.split() for line in lines]\n",
        "df = pd.DataFrame(rows)\n",
        "df = df.apply(pd.to_numeric)"
      ]
    },
    {
      "cell_type": "code",
      "source": [
        "df.shape"
      ],
      "metadata": {
        "colab": {
          "base_uri": "https://localhost:8080/"
        },
        "id": "QKPkfUS9oDIi",
        "outputId": "2096e64f-04d6-4291-903b-4c46fa17b783"
      },
      "execution_count": 6,
      "outputs": [
        {
          "output_type": "execute_result",
          "data": {
            "text/plain": [
              "(33351, 227)"
            ]
          },
          "metadata": {},
          "execution_count": 6
        }
      ]
    },
    {
      "cell_type": "markdown",
      "source": [
        "### Funciones"
      ],
      "metadata": {
        "id": "1n1SZkWgA5t3"
      }
    },
    {
      "cell_type": "code",
      "source": [
        "def renombrar_columnas(df):\n",
        "    new_col_names = []\n",
        "    for i in range(1, 57):\n",
        "        new_col_names.extend([f'{i}a', f'{i}b', f'{i}c', f'{i}d'])\n",
        "    new_col_names.extend(['R1', 'R2', 'R3'])\n",
        "    df.columns = new_col_names\n",
        "    return df"
      ],
      "metadata": {
        "id": "wv4os0_CWSjM"
      },
      "execution_count": 7,
      "outputs": []
    },
    {
      "cell_type": "code",
      "execution_count": 8,
      "metadata": {
        "id": "mmKjUxLkn7hD"
      },
      "outputs": [],
      "source": [
        "def eliminar_registros_duplicados(df):\n",
        "    df_clean = df.drop_duplicates()\n",
        "    return df_clean"
      ]
    },
    {
      "cell_type": "code",
      "execution_count": 9,
      "metadata": {
        "id": "Qi-dDdF9n7hE"
      },
      "outputs": [],
      "source": [
        "def escalar_datos(df, scaler_dict=None):\n",
        "    if scaler_dict is None:\n",
        "        scaler_dict = {}\n",
        "    for columna in df.columns:\n",
        "        if columna not in scaler_dict:\n",
        "            scaler_dict[columna] = MinMaxScaler()\n",
        "        df[columna] = scaler_dict[columna].fit_transform(df[[columna]])\n",
        "    return df, scaler_dict"
      ]
    },
    {
      "cell_type": "code",
      "source": [
        "def separar_Xy(df, columnas_target):\n",
        "    X = df.drop(columnas_target, axis=1).copy()\n",
        "    y = df[columnas_target].copy()\n",
        "    return X, y"
      ],
      "metadata": {
        "id": "1X2mUc05vg8n"
      },
      "execution_count": 10,
      "outputs": []
    },
    {
      "cell_type": "code",
      "source": [
        "def r2_ajustado(y_true, y_pred, n, p):\n",
        "    r2 = r2_score(y_true, y_pred)\n",
        "    r2_aj = 1 - ((1 - r2) * (n - 1) / (n - p - 1))\n",
        "    return r2_aj"
      ],
      "metadata": {
        "id": "wkU6nsMl3Zv3"
      },
      "execution_count": 11,
      "outputs": []
    },
    {
      "cell_type": "markdown",
      "source": [
        "### Procesamiento"
      ],
      "metadata": {
        "id": "k4httjdZA9Ve"
      }
    },
    {
      "cell_type": "code",
      "source": [
        "df = renombrar_columnas(df)\n",
        "df = eliminar_registros_duplicados(df)"
      ],
      "metadata": {
        "id": "jAokFNMhs-LY"
      },
      "execution_count": 12,
      "outputs": []
    },
    {
      "cell_type": "code",
      "source": [
        "df"
      ],
      "metadata": {
        "id": "5uBJEzE-i7dE",
        "outputId": "327eaf26-b2f2-4081-dcac-e44e6a9585f1",
        "colab": {
          "base_uri": "https://localhost:8080/",
          "height": 424
        }
      },
      "execution_count": 13,
      "outputs": [
        {
          "output_type": "execute_result",
          "data": {
            "text/plain": [
              "        1a  1b   1c  1d   2a  2b   2c  2d   3a  3b  ...  55b  55c  55d  56a  \\\n",
              "0      100   5   15  25  250   7   45  25   20  11  ...   20  110   25   80   \n",
              "1      100   3  105   6  260   7   90   6   20  11  ...    6   25   12   30   \n",
              "2      110  -3   45  12  250   7   45  25   20   3  ...   14   65   12   30   \n",
              "3      100   3  105   6  270   3  105   6  330  13  ...   10   25   25   70   \n",
              "4      100   3  105   6  280  11   15  12  330  13  ...   10   25    6   80   \n",
              "...    ...  ..  ...  ..  ...  ..  ...  ..  ...  ..  ...  ...  ...  ...  ...   \n",
              "33346  100   3  105   6  270   3  105   6    0   3  ...   12  105    6   60   \n",
              "33347  100   3  105   6  270   3  105   6    0   3  ...   12  105    6   60   \n",
              "33348  100   3  105   6  270   3  105   6    0   3  ...   12  105    6   60   \n",
              "33349  100   3  105   6  270   3  105   6    0   3  ...   12  105    6   60   \n",
              "33350  100   3  105   6  270   3  105   6    0   3  ...   12  105    6   60   \n",
              "\n",
              "       56b  56c  56d     R1    R2     R3  \n",
              "0        3   90   12  12.42  8.52  21.36  \n",
              "1        7   45   12  18.92  6.64  21.18  \n",
              "2       13  110    6  12.63  6.59  17.89  \n",
              "3       15  110   25  11.07  9.36  22.05  \n",
              "4        3   90   12  15.78  7.42  20.80  \n",
              "...    ...  ...  ...    ...   ...    ...  \n",
              "33346    5  105    6  13.96  6.05  18.45  \n",
              "33347    5  105    6  21.56  5.56  22.13  \n",
              "33348    5  105    6  17.41  6.01  20.87  \n",
              "33349    5  105    6  15.63  6.21  19.22  \n",
              "33350    5  105    6  19.27  5.82  21.47  \n",
              "\n",
              "[30826 rows x 227 columns]"
            ],
            "text/html": [
              "\n",
              "  <div id=\"df-2c551982-487e-4e20-bdbd-7771b0d8eda9\" class=\"colab-df-container\">\n",
              "    <div>\n",
              "<style scoped>\n",
              "    .dataframe tbody tr th:only-of-type {\n",
              "        vertical-align: middle;\n",
              "    }\n",
              "\n",
              "    .dataframe tbody tr th {\n",
              "        vertical-align: top;\n",
              "    }\n",
              "\n",
              "    .dataframe thead th {\n",
              "        text-align: right;\n",
              "    }\n",
              "</style>\n",
              "<table border=\"1\" class=\"dataframe\">\n",
              "  <thead>\n",
              "    <tr style=\"text-align: right;\">\n",
              "      <th></th>\n",
              "      <th>1a</th>\n",
              "      <th>1b</th>\n",
              "      <th>1c</th>\n",
              "      <th>1d</th>\n",
              "      <th>2a</th>\n",
              "      <th>2b</th>\n",
              "      <th>2c</th>\n",
              "      <th>2d</th>\n",
              "      <th>3a</th>\n",
              "      <th>3b</th>\n",
              "      <th>...</th>\n",
              "      <th>55b</th>\n",
              "      <th>55c</th>\n",
              "      <th>55d</th>\n",
              "      <th>56a</th>\n",
              "      <th>56b</th>\n",
              "      <th>56c</th>\n",
              "      <th>56d</th>\n",
              "      <th>R1</th>\n",
              "      <th>R2</th>\n",
              "      <th>R3</th>\n",
              "    </tr>\n",
              "  </thead>\n",
              "  <tbody>\n",
              "    <tr>\n",
              "      <th>0</th>\n",
              "      <td>100</td>\n",
              "      <td>5</td>\n",
              "      <td>15</td>\n",
              "      <td>25</td>\n",
              "      <td>250</td>\n",
              "      <td>7</td>\n",
              "      <td>45</td>\n",
              "      <td>25</td>\n",
              "      <td>20</td>\n",
              "      <td>11</td>\n",
              "      <td>...</td>\n",
              "      <td>20</td>\n",
              "      <td>110</td>\n",
              "      <td>25</td>\n",
              "      <td>80</td>\n",
              "      <td>3</td>\n",
              "      <td>90</td>\n",
              "      <td>12</td>\n",
              "      <td>12.42</td>\n",
              "      <td>8.52</td>\n",
              "      <td>21.36</td>\n",
              "    </tr>\n",
              "    <tr>\n",
              "      <th>1</th>\n",
              "      <td>100</td>\n",
              "      <td>3</td>\n",
              "      <td>105</td>\n",
              "      <td>6</td>\n",
              "      <td>260</td>\n",
              "      <td>7</td>\n",
              "      <td>90</td>\n",
              "      <td>6</td>\n",
              "      <td>20</td>\n",
              "      <td>11</td>\n",
              "      <td>...</td>\n",
              "      <td>6</td>\n",
              "      <td>25</td>\n",
              "      <td>12</td>\n",
              "      <td>30</td>\n",
              "      <td>7</td>\n",
              "      <td>45</td>\n",
              "      <td>12</td>\n",
              "      <td>18.92</td>\n",
              "      <td>6.64</td>\n",
              "      <td>21.18</td>\n",
              "    </tr>\n",
              "    <tr>\n",
              "      <th>2</th>\n",
              "      <td>110</td>\n",
              "      <td>-3</td>\n",
              "      <td>45</td>\n",
              "      <td>12</td>\n",
              "      <td>250</td>\n",
              "      <td>7</td>\n",
              "      <td>45</td>\n",
              "      <td>25</td>\n",
              "      <td>20</td>\n",
              "      <td>3</td>\n",
              "      <td>...</td>\n",
              "      <td>14</td>\n",
              "      <td>65</td>\n",
              "      <td>12</td>\n",
              "      <td>30</td>\n",
              "      <td>13</td>\n",
              "      <td>110</td>\n",
              "      <td>6</td>\n",
              "      <td>12.63</td>\n",
              "      <td>6.59</td>\n",
              "      <td>17.89</td>\n",
              "    </tr>\n",
              "    <tr>\n",
              "      <th>3</th>\n",
              "      <td>100</td>\n",
              "      <td>3</td>\n",
              "      <td>105</td>\n",
              "      <td>6</td>\n",
              "      <td>270</td>\n",
              "      <td>3</td>\n",
              "      <td>105</td>\n",
              "      <td>6</td>\n",
              "      <td>330</td>\n",
              "      <td>13</td>\n",
              "      <td>...</td>\n",
              "      <td>10</td>\n",
              "      <td>25</td>\n",
              "      <td>25</td>\n",
              "      <td>70</td>\n",
              "      <td>15</td>\n",
              "      <td>110</td>\n",
              "      <td>25</td>\n",
              "      <td>11.07</td>\n",
              "      <td>9.36</td>\n",
              "      <td>22.05</td>\n",
              "    </tr>\n",
              "    <tr>\n",
              "      <th>4</th>\n",
              "      <td>100</td>\n",
              "      <td>3</td>\n",
              "      <td>105</td>\n",
              "      <td>6</td>\n",
              "      <td>280</td>\n",
              "      <td>11</td>\n",
              "      <td>15</td>\n",
              "      <td>12</td>\n",
              "      <td>330</td>\n",
              "      <td>13</td>\n",
              "      <td>...</td>\n",
              "      <td>10</td>\n",
              "      <td>25</td>\n",
              "      <td>6</td>\n",
              "      <td>80</td>\n",
              "      <td>3</td>\n",
              "      <td>90</td>\n",
              "      <td>12</td>\n",
              "      <td>15.78</td>\n",
              "      <td>7.42</td>\n",
              "      <td>20.80</td>\n",
              "    </tr>\n",
              "    <tr>\n",
              "      <th>...</th>\n",
              "      <td>...</td>\n",
              "      <td>...</td>\n",
              "      <td>...</td>\n",
              "      <td>...</td>\n",
              "      <td>...</td>\n",
              "      <td>...</td>\n",
              "      <td>...</td>\n",
              "      <td>...</td>\n",
              "      <td>...</td>\n",
              "      <td>...</td>\n",
              "      <td>...</td>\n",
              "      <td>...</td>\n",
              "      <td>...</td>\n",
              "      <td>...</td>\n",
              "      <td>...</td>\n",
              "      <td>...</td>\n",
              "      <td>...</td>\n",
              "      <td>...</td>\n",
              "      <td>...</td>\n",
              "      <td>...</td>\n",
              "      <td>...</td>\n",
              "    </tr>\n",
              "    <tr>\n",
              "      <th>33346</th>\n",
              "      <td>100</td>\n",
              "      <td>3</td>\n",
              "      <td>105</td>\n",
              "      <td>6</td>\n",
              "      <td>270</td>\n",
              "      <td>3</td>\n",
              "      <td>105</td>\n",
              "      <td>6</td>\n",
              "      <td>0</td>\n",
              "      <td>3</td>\n",
              "      <td>...</td>\n",
              "      <td>12</td>\n",
              "      <td>105</td>\n",
              "      <td>6</td>\n",
              "      <td>60</td>\n",
              "      <td>5</td>\n",
              "      <td>105</td>\n",
              "      <td>6</td>\n",
              "      <td>13.96</td>\n",
              "      <td>6.05</td>\n",
              "      <td>18.45</td>\n",
              "    </tr>\n",
              "    <tr>\n",
              "      <th>33347</th>\n",
              "      <td>100</td>\n",
              "      <td>3</td>\n",
              "      <td>105</td>\n",
              "      <td>6</td>\n",
              "      <td>270</td>\n",
              "      <td>3</td>\n",
              "      <td>105</td>\n",
              "      <td>6</td>\n",
              "      <td>0</td>\n",
              "      <td>3</td>\n",
              "      <td>...</td>\n",
              "      <td>12</td>\n",
              "      <td>105</td>\n",
              "      <td>6</td>\n",
              "      <td>60</td>\n",
              "      <td>5</td>\n",
              "      <td>105</td>\n",
              "      <td>6</td>\n",
              "      <td>21.56</td>\n",
              "      <td>5.56</td>\n",
              "      <td>22.13</td>\n",
              "    </tr>\n",
              "    <tr>\n",
              "      <th>33348</th>\n",
              "      <td>100</td>\n",
              "      <td>3</td>\n",
              "      <td>105</td>\n",
              "      <td>6</td>\n",
              "      <td>270</td>\n",
              "      <td>3</td>\n",
              "      <td>105</td>\n",
              "      <td>6</td>\n",
              "      <td>0</td>\n",
              "      <td>3</td>\n",
              "      <td>...</td>\n",
              "      <td>12</td>\n",
              "      <td>105</td>\n",
              "      <td>6</td>\n",
              "      <td>60</td>\n",
              "      <td>5</td>\n",
              "      <td>105</td>\n",
              "      <td>6</td>\n",
              "      <td>17.41</td>\n",
              "      <td>6.01</td>\n",
              "      <td>20.87</td>\n",
              "    </tr>\n",
              "    <tr>\n",
              "      <th>33349</th>\n",
              "      <td>100</td>\n",
              "      <td>3</td>\n",
              "      <td>105</td>\n",
              "      <td>6</td>\n",
              "      <td>270</td>\n",
              "      <td>3</td>\n",
              "      <td>105</td>\n",
              "      <td>6</td>\n",
              "      <td>0</td>\n",
              "      <td>3</td>\n",
              "      <td>...</td>\n",
              "      <td>12</td>\n",
              "      <td>105</td>\n",
              "      <td>6</td>\n",
              "      <td>60</td>\n",
              "      <td>5</td>\n",
              "      <td>105</td>\n",
              "      <td>6</td>\n",
              "      <td>15.63</td>\n",
              "      <td>6.21</td>\n",
              "      <td>19.22</td>\n",
              "    </tr>\n",
              "    <tr>\n",
              "      <th>33350</th>\n",
              "      <td>100</td>\n",
              "      <td>3</td>\n",
              "      <td>105</td>\n",
              "      <td>6</td>\n",
              "      <td>270</td>\n",
              "      <td>3</td>\n",
              "      <td>105</td>\n",
              "      <td>6</td>\n",
              "      <td>0</td>\n",
              "      <td>3</td>\n",
              "      <td>...</td>\n",
              "      <td>12</td>\n",
              "      <td>105</td>\n",
              "      <td>6</td>\n",
              "      <td>60</td>\n",
              "      <td>5</td>\n",
              "      <td>105</td>\n",
              "      <td>6</td>\n",
              "      <td>19.27</td>\n",
              "      <td>5.82</td>\n",
              "      <td>21.47</td>\n",
              "    </tr>\n",
              "  </tbody>\n",
              "</table>\n",
              "<p>30826 rows × 227 columns</p>\n",
              "</div>\n",
              "    <div class=\"colab-df-buttons\">\n",
              "\n",
              "  <div class=\"colab-df-container\">\n",
              "    <button class=\"colab-df-convert\" onclick=\"convertToInteractive('df-2c551982-487e-4e20-bdbd-7771b0d8eda9')\"\n",
              "            title=\"Convert this dataframe to an interactive table.\"\n",
              "            style=\"display:none;\">\n",
              "\n",
              "  <svg xmlns=\"http://www.w3.org/2000/svg\" height=\"24px\" viewBox=\"0 -960 960 960\">\n",
              "    <path d=\"M120-120v-720h720v720H120Zm60-500h600v-160H180v160Zm220 220h160v-160H400v160Zm0 220h160v-160H400v160ZM180-400h160v-160H180v160Zm440 0h160v-160H620v160ZM180-180h160v-160H180v160Zm440 0h160v-160H620v160Z\"/>\n",
              "  </svg>\n",
              "    </button>\n",
              "\n",
              "  <style>\n",
              "    .colab-df-container {\n",
              "      display:flex;\n",
              "      gap: 12px;\n",
              "    }\n",
              "\n",
              "    .colab-df-convert {\n",
              "      background-color: #E8F0FE;\n",
              "      border: none;\n",
              "      border-radius: 50%;\n",
              "      cursor: pointer;\n",
              "      display: none;\n",
              "      fill: #1967D2;\n",
              "      height: 32px;\n",
              "      padding: 0 0 0 0;\n",
              "      width: 32px;\n",
              "    }\n",
              "\n",
              "    .colab-df-convert:hover {\n",
              "      background-color: #E2EBFA;\n",
              "      box-shadow: 0px 1px 2px rgba(60, 64, 67, 0.3), 0px 1px 3px 1px rgba(60, 64, 67, 0.15);\n",
              "      fill: #174EA6;\n",
              "    }\n",
              "\n",
              "    .colab-df-buttons div {\n",
              "      margin-bottom: 4px;\n",
              "    }\n",
              "\n",
              "    [theme=dark] .colab-df-convert {\n",
              "      background-color: #3B4455;\n",
              "      fill: #D2E3FC;\n",
              "    }\n",
              "\n",
              "    [theme=dark] .colab-df-convert:hover {\n",
              "      background-color: #434B5C;\n",
              "      box-shadow: 0px 1px 3px 1px rgba(0, 0, 0, 0.15);\n",
              "      filter: drop-shadow(0px 1px 2px rgba(0, 0, 0, 0.3));\n",
              "      fill: #FFFFFF;\n",
              "    }\n",
              "  </style>\n",
              "\n",
              "    <script>\n",
              "      const buttonEl =\n",
              "        document.querySelector('#df-2c551982-487e-4e20-bdbd-7771b0d8eda9 button.colab-df-convert');\n",
              "      buttonEl.style.display =\n",
              "        google.colab.kernel.accessAllowed ? 'block' : 'none';\n",
              "\n",
              "      async function convertToInteractive(key) {\n",
              "        const element = document.querySelector('#df-2c551982-487e-4e20-bdbd-7771b0d8eda9');\n",
              "        const dataTable =\n",
              "          await google.colab.kernel.invokeFunction('convertToInteractive',\n",
              "                                                    [key], {});\n",
              "        if (!dataTable) return;\n",
              "\n",
              "        const docLinkHtml = 'Like what you see? Visit the ' +\n",
              "          '<a target=\"_blank\" href=https://colab.research.google.com/notebooks/data_table.ipynb>data table notebook</a>'\n",
              "          + ' to learn more about interactive tables.';\n",
              "        element.innerHTML = '';\n",
              "        dataTable['output_type'] = 'display_data';\n",
              "        await google.colab.output.renderOutput(dataTable, element);\n",
              "        const docLink = document.createElement('div');\n",
              "        docLink.innerHTML = docLinkHtml;\n",
              "        element.appendChild(docLink);\n",
              "      }\n",
              "    </script>\n",
              "  </div>\n",
              "\n",
              "\n",
              "<div id=\"df-03a2b8fa-437d-4cfc-ac0a-339489eb25c2\">\n",
              "  <button class=\"colab-df-quickchart\" onclick=\"quickchart('df-03a2b8fa-437d-4cfc-ac0a-339489eb25c2')\"\n",
              "            title=\"Suggest charts\"\n",
              "            style=\"display:none;\">\n",
              "\n",
              "<svg xmlns=\"http://www.w3.org/2000/svg\" height=\"24px\"viewBox=\"0 0 24 24\"\n",
              "     width=\"24px\">\n",
              "    <g>\n",
              "        <path d=\"M19 3H5c-1.1 0-2 .9-2 2v14c0 1.1.9 2 2 2h14c1.1 0 2-.9 2-2V5c0-1.1-.9-2-2-2zM9 17H7v-7h2v7zm4 0h-2V7h2v10zm4 0h-2v-4h2v4z\"/>\n",
              "    </g>\n",
              "</svg>\n",
              "  </button>\n",
              "\n",
              "<style>\n",
              "  .colab-df-quickchart {\n",
              "      --bg-color: #E8F0FE;\n",
              "      --fill-color: #1967D2;\n",
              "      --hover-bg-color: #E2EBFA;\n",
              "      --hover-fill-color: #174EA6;\n",
              "      --disabled-fill-color: #AAA;\n",
              "      --disabled-bg-color: #DDD;\n",
              "  }\n",
              "\n",
              "  [theme=dark] .colab-df-quickchart {\n",
              "      --bg-color: #3B4455;\n",
              "      --fill-color: #D2E3FC;\n",
              "      --hover-bg-color: #434B5C;\n",
              "      --hover-fill-color: #FFFFFF;\n",
              "      --disabled-bg-color: #3B4455;\n",
              "      --disabled-fill-color: #666;\n",
              "  }\n",
              "\n",
              "  .colab-df-quickchart {\n",
              "    background-color: var(--bg-color);\n",
              "    border: none;\n",
              "    border-radius: 50%;\n",
              "    cursor: pointer;\n",
              "    display: none;\n",
              "    fill: var(--fill-color);\n",
              "    height: 32px;\n",
              "    padding: 0;\n",
              "    width: 32px;\n",
              "  }\n",
              "\n",
              "  .colab-df-quickchart:hover {\n",
              "    background-color: var(--hover-bg-color);\n",
              "    box-shadow: 0 1px 2px rgba(60, 64, 67, 0.3), 0 1px 3px 1px rgba(60, 64, 67, 0.15);\n",
              "    fill: var(--button-hover-fill-color);\n",
              "  }\n",
              "\n",
              "  .colab-df-quickchart-complete:disabled,\n",
              "  .colab-df-quickchart-complete:disabled:hover {\n",
              "    background-color: var(--disabled-bg-color);\n",
              "    fill: var(--disabled-fill-color);\n",
              "    box-shadow: none;\n",
              "  }\n",
              "\n",
              "  .colab-df-spinner {\n",
              "    border: 2px solid var(--fill-color);\n",
              "    border-color: transparent;\n",
              "    border-bottom-color: var(--fill-color);\n",
              "    animation:\n",
              "      spin 1s steps(1) infinite;\n",
              "  }\n",
              "\n",
              "  @keyframes spin {\n",
              "    0% {\n",
              "      border-color: transparent;\n",
              "      border-bottom-color: var(--fill-color);\n",
              "      border-left-color: var(--fill-color);\n",
              "    }\n",
              "    20% {\n",
              "      border-color: transparent;\n",
              "      border-left-color: var(--fill-color);\n",
              "      border-top-color: var(--fill-color);\n",
              "    }\n",
              "    30% {\n",
              "      border-color: transparent;\n",
              "      border-left-color: var(--fill-color);\n",
              "      border-top-color: var(--fill-color);\n",
              "      border-right-color: var(--fill-color);\n",
              "    }\n",
              "    40% {\n",
              "      border-color: transparent;\n",
              "      border-right-color: var(--fill-color);\n",
              "      border-top-color: var(--fill-color);\n",
              "    }\n",
              "    60% {\n",
              "      border-color: transparent;\n",
              "      border-right-color: var(--fill-color);\n",
              "    }\n",
              "    80% {\n",
              "      border-color: transparent;\n",
              "      border-right-color: var(--fill-color);\n",
              "      border-bottom-color: var(--fill-color);\n",
              "    }\n",
              "    90% {\n",
              "      border-color: transparent;\n",
              "      border-bottom-color: var(--fill-color);\n",
              "    }\n",
              "  }\n",
              "</style>\n",
              "\n",
              "  <script>\n",
              "    async function quickchart(key) {\n",
              "      const quickchartButtonEl =\n",
              "        document.querySelector('#' + key + ' button');\n",
              "      quickchartButtonEl.disabled = true;  // To prevent multiple clicks.\n",
              "      quickchartButtonEl.classList.add('colab-df-spinner');\n",
              "      try {\n",
              "        const charts = await google.colab.kernel.invokeFunction(\n",
              "            'suggestCharts', [key], {});\n",
              "      } catch (error) {\n",
              "        console.error('Error during call to suggestCharts:', error);\n",
              "      }\n",
              "      quickchartButtonEl.classList.remove('colab-df-spinner');\n",
              "      quickchartButtonEl.classList.add('colab-df-quickchart-complete');\n",
              "    }\n",
              "    (() => {\n",
              "      let quickchartButtonEl =\n",
              "        document.querySelector('#df-03a2b8fa-437d-4cfc-ac0a-339489eb25c2 button');\n",
              "      quickchartButtonEl.style.display =\n",
              "        google.colab.kernel.accessAllowed ? 'block' : 'none';\n",
              "    })();\n",
              "  </script>\n",
              "</div>\n",
              "\n",
              "  <div id=\"id_3ec8c8b5-e27b-4375-8480-186520a3d4d8\">\n",
              "    <style>\n",
              "      .colab-df-generate {\n",
              "        background-color: #E8F0FE;\n",
              "        border: none;\n",
              "        border-radius: 50%;\n",
              "        cursor: pointer;\n",
              "        display: none;\n",
              "        fill: #1967D2;\n",
              "        height: 32px;\n",
              "        padding: 0 0 0 0;\n",
              "        width: 32px;\n",
              "      }\n",
              "\n",
              "      .colab-df-generate:hover {\n",
              "        background-color: #E2EBFA;\n",
              "        box-shadow: 0px 1px 2px rgba(60, 64, 67, 0.3), 0px 1px 3px 1px rgba(60, 64, 67, 0.15);\n",
              "        fill: #174EA6;\n",
              "      }\n",
              "\n",
              "      [theme=dark] .colab-df-generate {\n",
              "        background-color: #3B4455;\n",
              "        fill: #D2E3FC;\n",
              "      }\n",
              "\n",
              "      [theme=dark] .colab-df-generate:hover {\n",
              "        background-color: #434B5C;\n",
              "        box-shadow: 0px 1px 3px 1px rgba(0, 0, 0, 0.15);\n",
              "        filter: drop-shadow(0px 1px 2px rgba(0, 0, 0, 0.3));\n",
              "        fill: #FFFFFF;\n",
              "      }\n",
              "    </style>\n",
              "    <button class=\"colab-df-generate\" onclick=\"generateWithVariable('df')\"\n",
              "            title=\"Generate code using this dataframe.\"\n",
              "            style=\"display:none;\">\n",
              "\n",
              "  <svg xmlns=\"http://www.w3.org/2000/svg\" height=\"24px\"viewBox=\"0 0 24 24\"\n",
              "       width=\"24px\">\n",
              "    <path d=\"M7,19H8.4L18.45,9,17,7.55,7,17.6ZM5,21V16.75L18.45,3.32a2,2,0,0,1,2.83,0l1.4,1.43a1.91,1.91,0,0,1,.58,1.4,1.91,1.91,0,0,1-.58,1.4L9.25,21ZM18.45,9,17,7.55Zm-12,3A5.31,5.31,0,0,0,4.9,8.1,5.31,5.31,0,0,0,1,6.5,5.31,5.31,0,0,0,4.9,4.9,5.31,5.31,0,0,0,6.5,1,5.31,5.31,0,0,0,8.1,4.9,5.31,5.31,0,0,0,12,6.5,5.46,5.46,0,0,0,6.5,12Z\"/>\n",
              "  </svg>\n",
              "    </button>\n",
              "    <script>\n",
              "      (() => {\n",
              "      const buttonEl =\n",
              "        document.querySelector('#id_3ec8c8b5-e27b-4375-8480-186520a3d4d8 button.colab-df-generate');\n",
              "      buttonEl.style.display =\n",
              "        google.colab.kernel.accessAllowed ? 'block' : 'none';\n",
              "\n",
              "      buttonEl.onclick = () => {\n",
              "        google.colab.notebook.generateWithVariable('df');\n",
              "      }\n",
              "      })();\n",
              "    </script>\n",
              "  </div>\n",
              "\n",
              "    </div>\n",
              "  </div>\n"
            ],
            "application/vnd.google.colaboratory.intrinsic+json": {
              "type": "dataframe",
              "variable_name": "df"
            }
          },
          "metadata": {},
          "execution_count": 13
        }
      ]
    },
    {
      "cell_type": "code",
      "execution_count": 15,
      "metadata": {
        "id": "dHmvnlDpn7hC"
      },
      "outputs": [],
      "source": [
        "df_train, df_test = train_test_split(df, test_size=0.1, random_state=123)"
      ]
    },
    {
      "cell_type": "code",
      "execution_count": 16,
      "metadata": {
        "id": "Xmkv88djn7hE"
      },
      "outputs": [],
      "source": [
        "df_train, train_scaler_dict = escalar_datos(df_train)"
      ]
    },
    {
      "cell_type": "code",
      "source": [
        "columnas_target = ['R1', 'R2', 'R3']"
      ],
      "metadata": {
        "id": "KlgLkl32vtyh"
      },
      "execution_count": 17,
      "outputs": []
    },
    {
      "cell_type": "code",
      "source": [
        "X_train, y_train = separar_Xy(df_train, columnas_target=columnas_target)"
      ],
      "metadata": {
        "id": "NMVF-Thav3pB"
      },
      "execution_count": 18,
      "outputs": []
    },
    {
      "cell_type": "code",
      "source": [
        "df_test_out = df_test.copy()\n",
        "df_test_out, _ = escalar_datos(df_test_out, train_scaler_dict)\n",
        "X_test, y_test = separar_Xy(df_test_out, columnas_target=columnas_target)"
      ],
      "metadata": {
        "id": "yTjGFLjmzBSV"
      },
      "execution_count": 19,
      "outputs": []
    },
    {
      "cell_type": "code",
      "source": [
        "X_train.shape, y_train.shape, X_test.shape, y_test.shape"
      ],
      "metadata": {
        "colab": {
          "base_uri": "https://localhost:8080/"
        },
        "id": "jpOyTPX_0_ti",
        "outputId": "11f68fba-5f22-4085-fa06-1cddbe7b98dd"
      },
      "execution_count": 20,
      "outputs": [
        {
          "output_type": "execute_result",
          "data": {
            "text/plain": [
              "((27743, 224), (27743, 3), (3083, 224), (3083, 3))"
            ]
          },
          "metadata": {},
          "execution_count": 20
        }
      ]
    },
    {
      "cell_type": "markdown",
      "source": [
        "# Ensamble"
      ],
      "metadata": {
        "id": "IL64OonMvDS-"
      }
    },
    {
      "cell_type": "markdown",
      "source": [
        "## MLP Model"
      ],
      "metadata": {
        "id": "ccjKObKJ86dy"
      }
    },
    {
      "cell_type": "code",
      "source": [
        "mlp_model = MLPRegressor(hidden_layer_sizes=(500, 200, 100, 50, 10 ), activation='relu', solver='adam', max_iter=300)\n",
        "mlp_model.fit(X_train, y_train)"
      ],
      "metadata": {
        "colab": {
          "base_uri": "https://localhost:8080/",
          "height": 75
        },
        "id": "993vP-2ZjVeV",
        "outputId": "fc4f6fa0-c122-4d5e-e2cd-1aa55b0455cf"
      },
      "execution_count": 21,
      "outputs": [
        {
          "output_type": "execute_result",
          "data": {
            "text/plain": [
              "MLPRegressor(hidden_layer_sizes=(500, 200, 100, 50, 10), max_iter=300)"
            ],
            "text/html": [
              "<style>#sk-container-id-1 {color: black;background-color: white;}#sk-container-id-1 pre{padding: 0;}#sk-container-id-1 div.sk-toggleable {background-color: white;}#sk-container-id-1 label.sk-toggleable__label {cursor: pointer;display: block;width: 100%;margin-bottom: 0;padding: 0.3em;box-sizing: border-box;text-align: center;}#sk-container-id-1 label.sk-toggleable__label-arrow:before {content: \"▸\";float: left;margin-right: 0.25em;color: #696969;}#sk-container-id-1 label.sk-toggleable__label-arrow:hover:before {color: black;}#sk-container-id-1 div.sk-estimator:hover label.sk-toggleable__label-arrow:before {color: black;}#sk-container-id-1 div.sk-toggleable__content {max-height: 0;max-width: 0;overflow: hidden;text-align: left;background-color: #f0f8ff;}#sk-container-id-1 div.sk-toggleable__content pre {margin: 0.2em;color: black;border-radius: 0.25em;background-color: #f0f8ff;}#sk-container-id-1 input.sk-toggleable__control:checked~div.sk-toggleable__content {max-height: 200px;max-width: 100%;overflow: auto;}#sk-container-id-1 input.sk-toggleable__control:checked~label.sk-toggleable__label-arrow:before {content: \"▾\";}#sk-container-id-1 div.sk-estimator input.sk-toggleable__control:checked~label.sk-toggleable__label {background-color: #d4ebff;}#sk-container-id-1 div.sk-label input.sk-toggleable__control:checked~label.sk-toggleable__label {background-color: #d4ebff;}#sk-container-id-1 input.sk-hidden--visually {border: 0;clip: rect(1px 1px 1px 1px);clip: rect(1px, 1px, 1px, 1px);height: 1px;margin: -1px;overflow: hidden;padding: 0;position: absolute;width: 1px;}#sk-container-id-1 div.sk-estimator {font-family: monospace;background-color: #f0f8ff;border: 1px dotted black;border-radius: 0.25em;box-sizing: border-box;margin-bottom: 0.5em;}#sk-container-id-1 div.sk-estimator:hover {background-color: #d4ebff;}#sk-container-id-1 div.sk-parallel-item::after {content: \"\";width: 100%;border-bottom: 1px solid gray;flex-grow: 1;}#sk-container-id-1 div.sk-label:hover label.sk-toggleable__label {background-color: #d4ebff;}#sk-container-id-1 div.sk-serial::before {content: \"\";position: absolute;border-left: 1px solid gray;box-sizing: border-box;top: 0;bottom: 0;left: 50%;z-index: 0;}#sk-container-id-1 div.sk-serial {display: flex;flex-direction: column;align-items: center;background-color: white;padding-right: 0.2em;padding-left: 0.2em;position: relative;}#sk-container-id-1 div.sk-item {position: relative;z-index: 1;}#sk-container-id-1 div.sk-parallel {display: flex;align-items: stretch;justify-content: center;background-color: white;position: relative;}#sk-container-id-1 div.sk-item::before, #sk-container-id-1 div.sk-parallel-item::before {content: \"\";position: absolute;border-left: 1px solid gray;box-sizing: border-box;top: 0;bottom: 0;left: 50%;z-index: -1;}#sk-container-id-1 div.sk-parallel-item {display: flex;flex-direction: column;z-index: 1;position: relative;background-color: white;}#sk-container-id-1 div.sk-parallel-item:first-child::after {align-self: flex-end;width: 50%;}#sk-container-id-1 div.sk-parallel-item:last-child::after {align-self: flex-start;width: 50%;}#sk-container-id-1 div.sk-parallel-item:only-child::after {width: 0;}#sk-container-id-1 div.sk-dashed-wrapped {border: 1px dashed gray;margin: 0 0.4em 0.5em 0.4em;box-sizing: border-box;padding-bottom: 0.4em;background-color: white;}#sk-container-id-1 div.sk-label label {font-family: monospace;font-weight: bold;display: inline-block;line-height: 1.2em;}#sk-container-id-1 div.sk-label-container {text-align: center;}#sk-container-id-1 div.sk-container {/* jupyter's `normalize.less` sets `[hidden] { display: none; }` but bootstrap.min.css set `[hidden] { display: none !important; }` so we also need the `!important` here to be able to override the default hidden behavior on the sphinx rendered scikit-learn.org. See: https://github.com/scikit-learn/scikit-learn/issues/21755 */display: inline-block !important;position: relative;}#sk-container-id-1 div.sk-text-repr-fallback {display: none;}</style><div id=\"sk-container-id-1\" class=\"sk-top-container\"><div class=\"sk-text-repr-fallback\"><pre>MLPRegressor(hidden_layer_sizes=(500, 200, 100, 50, 10), max_iter=300)</pre><b>In a Jupyter environment, please rerun this cell to show the HTML representation or trust the notebook. <br />On GitHub, the HTML representation is unable to render, please try loading this page with nbviewer.org.</b></div><div class=\"sk-container\" hidden><div class=\"sk-item\"><div class=\"sk-estimator sk-toggleable\"><input class=\"sk-toggleable__control sk-hidden--visually\" id=\"sk-estimator-id-1\" type=\"checkbox\" checked><label for=\"sk-estimator-id-1\" class=\"sk-toggleable__label sk-toggleable__label-arrow\">MLPRegressor</label><div class=\"sk-toggleable__content\"><pre>MLPRegressor(hidden_layer_sizes=(500, 200, 100, 50, 10), max_iter=300)</pre></div></div></div></div></div>"
            ]
          },
          "metadata": {},
          "execution_count": 21
        }
      ]
    },
    {
      "cell_type": "markdown",
      "source": [
        "## DNN Model"
      ],
      "metadata": {
        "id": "ywebU7aCaWFx"
      }
    },
    {
      "cell_type": "code",
      "source": [
        "# Arquitectura\n",
        "# dnn_model = Sequential([\n",
        "#     Input(shape=(X_train.shape[1],)),\n",
        "#     Dense(256, activation='relu'), Dropout(0.2),\n",
        "#     Dense(32, activation='relu'), Dropout(0.2),\n",
        "#     Dense(3, activation='linear')\n",
        "# ])\n",
        "\n",
        "dnn_model = Sequential([\n",
        "    Input(shape=(X_train.shape[1],)),\n",
        "    Dense(256, activation='relu'), Dropout(0.2),\n",
        "    Dense(512, activation='relu'), Dropout(0.2),\n",
        "    Dense(256, activation='relu'), Dropout(0.2),\n",
        "    Dense(128, activation='relu'), Dropout(0.2),\n",
        "    Dense(64, activation='relu'), Dropout(0.2),\n",
        "    Dense(32, activation='relu'), Dropout(0.2),\n",
        "    Dense(3, activation='linear')\n",
        "])\n",
        "\n",
        "# Entrenamiento\n",
        "print(\"Inicio del Entrenamiento\\n-------------------------\")\n",
        "\n",
        "# CallBacks\n",
        "early_stopping = EarlyStopping(monitor=\"val_loss\", patience=20, verbose=0, mode=\"min\")\n",
        "checkpoint_loss = ModelCheckpoint(\"model-e{epoch:02d}-loss{val_loss:.3f}\", save_best_only=True,\n",
        "    monitor=\"val_loss\", mode=\"min\")\n",
        "reduce_lr = ReduceLROnPlateau(monitor=\"loss\", factor=0.5, patience=5, verbose=1, min_delta=1e-4, mode=\"min\")\n",
        "\n",
        "callbacks=[reduce_lr, early_stopping]\n",
        "dnn_model.compile(optimizer=Adam(learning_rate=0.001), loss='mean_squared_error', metrics=['mean_squared_error', 'mae'])\n",
        "dnn_model.fit(X_train, y_train, epochs=200, batch_size=64, callbacks=callbacks, validation_split=0.2, verbose=1)\n",
        "clear_output(wait=True)\n",
        "print(\"-------------------------\\nFin del Entrenamiento\")"
      ],
      "metadata": {
        "colab": {
          "base_uri": "https://localhost:8080/"
        },
        "id": "9m-bL_0-aJnG",
        "outputId": "8f7404ac-d6ec-4d07-c8aa-b9bf066f4f91"
      },
      "execution_count": 22,
      "outputs": [
        {
          "output_type": "stream",
          "name": "stdout",
          "text": [
            "-------------------------\n",
            "Fin del Entrenamiento\n"
          ]
        }
      ]
    },
    {
      "cell_type": "markdown",
      "source": [
        "## RandomForest"
      ],
      "metadata": {
        "id": "V3jShyF8zl7r"
      }
    },
    {
      "cell_type": "code",
      "source": [
        "rf_model = RandomForestRegressor(n_estimators=100, random_state=42)\n",
        "rf_model.fit(X_train, y_train)"
      ],
      "metadata": {
        "id": "0gTxprw1zsYn",
        "colab": {
          "base_uri": "https://localhost:8080/",
          "height": 75
        },
        "outputId": "55146bdd-2889-41bc-ef84-276f10ceeb4e"
      },
      "execution_count": 23,
      "outputs": [
        {
          "output_type": "execute_result",
          "data": {
            "text/plain": [
              "RandomForestRegressor(random_state=42)"
            ],
            "text/html": [
              "<style>#sk-container-id-2 {color: black;background-color: white;}#sk-container-id-2 pre{padding: 0;}#sk-container-id-2 div.sk-toggleable {background-color: white;}#sk-container-id-2 label.sk-toggleable__label {cursor: pointer;display: block;width: 100%;margin-bottom: 0;padding: 0.3em;box-sizing: border-box;text-align: center;}#sk-container-id-2 label.sk-toggleable__label-arrow:before {content: \"▸\";float: left;margin-right: 0.25em;color: #696969;}#sk-container-id-2 label.sk-toggleable__label-arrow:hover:before {color: black;}#sk-container-id-2 div.sk-estimator:hover label.sk-toggleable__label-arrow:before {color: black;}#sk-container-id-2 div.sk-toggleable__content {max-height: 0;max-width: 0;overflow: hidden;text-align: left;background-color: #f0f8ff;}#sk-container-id-2 div.sk-toggleable__content pre {margin: 0.2em;color: black;border-radius: 0.25em;background-color: #f0f8ff;}#sk-container-id-2 input.sk-toggleable__control:checked~div.sk-toggleable__content {max-height: 200px;max-width: 100%;overflow: auto;}#sk-container-id-2 input.sk-toggleable__control:checked~label.sk-toggleable__label-arrow:before {content: \"▾\";}#sk-container-id-2 div.sk-estimator input.sk-toggleable__control:checked~label.sk-toggleable__label {background-color: #d4ebff;}#sk-container-id-2 div.sk-label input.sk-toggleable__control:checked~label.sk-toggleable__label {background-color: #d4ebff;}#sk-container-id-2 input.sk-hidden--visually {border: 0;clip: rect(1px 1px 1px 1px);clip: rect(1px, 1px, 1px, 1px);height: 1px;margin: -1px;overflow: hidden;padding: 0;position: absolute;width: 1px;}#sk-container-id-2 div.sk-estimator {font-family: monospace;background-color: #f0f8ff;border: 1px dotted black;border-radius: 0.25em;box-sizing: border-box;margin-bottom: 0.5em;}#sk-container-id-2 div.sk-estimator:hover {background-color: #d4ebff;}#sk-container-id-2 div.sk-parallel-item::after {content: \"\";width: 100%;border-bottom: 1px solid gray;flex-grow: 1;}#sk-container-id-2 div.sk-label:hover label.sk-toggleable__label {background-color: #d4ebff;}#sk-container-id-2 div.sk-serial::before {content: \"\";position: absolute;border-left: 1px solid gray;box-sizing: border-box;top: 0;bottom: 0;left: 50%;z-index: 0;}#sk-container-id-2 div.sk-serial {display: flex;flex-direction: column;align-items: center;background-color: white;padding-right: 0.2em;padding-left: 0.2em;position: relative;}#sk-container-id-2 div.sk-item {position: relative;z-index: 1;}#sk-container-id-2 div.sk-parallel {display: flex;align-items: stretch;justify-content: center;background-color: white;position: relative;}#sk-container-id-2 div.sk-item::before, #sk-container-id-2 div.sk-parallel-item::before {content: \"\";position: absolute;border-left: 1px solid gray;box-sizing: border-box;top: 0;bottom: 0;left: 50%;z-index: -1;}#sk-container-id-2 div.sk-parallel-item {display: flex;flex-direction: column;z-index: 1;position: relative;background-color: white;}#sk-container-id-2 div.sk-parallel-item:first-child::after {align-self: flex-end;width: 50%;}#sk-container-id-2 div.sk-parallel-item:last-child::after {align-self: flex-start;width: 50%;}#sk-container-id-2 div.sk-parallel-item:only-child::after {width: 0;}#sk-container-id-2 div.sk-dashed-wrapped {border: 1px dashed gray;margin: 0 0.4em 0.5em 0.4em;box-sizing: border-box;padding-bottom: 0.4em;background-color: white;}#sk-container-id-2 div.sk-label label {font-family: monospace;font-weight: bold;display: inline-block;line-height: 1.2em;}#sk-container-id-2 div.sk-label-container {text-align: center;}#sk-container-id-2 div.sk-container {/* jupyter's `normalize.less` sets `[hidden] { display: none; }` but bootstrap.min.css set `[hidden] { display: none !important; }` so we also need the `!important` here to be able to override the default hidden behavior on the sphinx rendered scikit-learn.org. See: https://github.com/scikit-learn/scikit-learn/issues/21755 */display: inline-block !important;position: relative;}#sk-container-id-2 div.sk-text-repr-fallback {display: none;}</style><div id=\"sk-container-id-2\" class=\"sk-top-container\"><div class=\"sk-text-repr-fallback\"><pre>RandomForestRegressor(random_state=42)</pre><b>In a Jupyter environment, please rerun this cell to show the HTML representation or trust the notebook. <br />On GitHub, the HTML representation is unable to render, please try loading this page with nbviewer.org.</b></div><div class=\"sk-container\" hidden><div class=\"sk-item\"><div class=\"sk-estimator sk-toggleable\"><input class=\"sk-toggleable__control sk-hidden--visually\" id=\"sk-estimator-id-2\" type=\"checkbox\" checked><label for=\"sk-estimator-id-2\" class=\"sk-toggleable__label sk-toggleable__label-arrow\">RandomForestRegressor</label><div class=\"sk-toggleable__content\"><pre>RandomForestRegressor(random_state=42)</pre></div></div></div></div></div>"
            ]
          },
          "metadata": {},
          "execution_count": 23
        }
      ]
    },
    {
      "cell_type": "markdown",
      "source": [
        "## Gradient Boosting"
      ],
      "metadata": {
        "id": "UEMRTted0KUF"
      }
    },
    {
      "cell_type": "code",
      "source": [
        "xgb_model = xgb.XGBRegressor(objective='reg:squarederror', n_estimators=200, learning_rate=0.1, max_depth=6, random_state=123)\n",
        "xgb_model.fit(X_train, y_train)"
      ],
      "metadata": {
        "id": "OO7SMvhH0O5O",
        "colab": {
          "base_uri": "https://localhost:8080/",
          "height": 249
        },
        "outputId": "c4939b46-04e0-405d-f36d-9464249701ef"
      },
      "execution_count": 24,
      "outputs": [
        {
          "output_type": "execute_result",
          "data": {
            "text/plain": [
              "XGBRegressor(base_score=None, booster=None, callbacks=None,\n",
              "             colsample_bylevel=None, colsample_bynode=None,\n",
              "             colsample_bytree=None, device=None, early_stopping_rounds=None,\n",
              "             enable_categorical=False, eval_metric=None, feature_types=None,\n",
              "             gamma=None, grow_policy=None, importance_type=None,\n",
              "             interaction_constraints=None, learning_rate=0.1, max_bin=None,\n",
              "             max_cat_threshold=None, max_cat_to_onehot=None,\n",
              "             max_delta_step=None, max_depth=6, max_leaves=None,\n",
              "             min_child_weight=None, missing=nan, monotone_constraints=None,\n",
              "             multi_strategy=None, n_estimators=200, n_jobs=None,\n",
              "             num_parallel_tree=None, random_state=123, ...)"
            ],
            "text/html": [
              "<style>#sk-container-id-3 {color: black;background-color: white;}#sk-container-id-3 pre{padding: 0;}#sk-container-id-3 div.sk-toggleable {background-color: white;}#sk-container-id-3 label.sk-toggleable__label {cursor: pointer;display: block;width: 100%;margin-bottom: 0;padding: 0.3em;box-sizing: border-box;text-align: center;}#sk-container-id-3 label.sk-toggleable__label-arrow:before {content: \"▸\";float: left;margin-right: 0.25em;color: #696969;}#sk-container-id-3 label.sk-toggleable__label-arrow:hover:before {color: black;}#sk-container-id-3 div.sk-estimator:hover label.sk-toggleable__label-arrow:before {color: black;}#sk-container-id-3 div.sk-toggleable__content {max-height: 0;max-width: 0;overflow: hidden;text-align: left;background-color: #f0f8ff;}#sk-container-id-3 div.sk-toggleable__content pre {margin: 0.2em;color: black;border-radius: 0.25em;background-color: #f0f8ff;}#sk-container-id-3 input.sk-toggleable__control:checked~div.sk-toggleable__content {max-height: 200px;max-width: 100%;overflow: auto;}#sk-container-id-3 input.sk-toggleable__control:checked~label.sk-toggleable__label-arrow:before {content: \"▾\";}#sk-container-id-3 div.sk-estimator input.sk-toggleable__control:checked~label.sk-toggleable__label {background-color: #d4ebff;}#sk-container-id-3 div.sk-label input.sk-toggleable__control:checked~label.sk-toggleable__label {background-color: #d4ebff;}#sk-container-id-3 input.sk-hidden--visually {border: 0;clip: rect(1px 1px 1px 1px);clip: rect(1px, 1px, 1px, 1px);height: 1px;margin: -1px;overflow: hidden;padding: 0;position: absolute;width: 1px;}#sk-container-id-3 div.sk-estimator {font-family: monospace;background-color: #f0f8ff;border: 1px dotted black;border-radius: 0.25em;box-sizing: border-box;margin-bottom: 0.5em;}#sk-container-id-3 div.sk-estimator:hover {background-color: #d4ebff;}#sk-container-id-3 div.sk-parallel-item::after {content: \"\";width: 100%;border-bottom: 1px solid gray;flex-grow: 1;}#sk-container-id-3 div.sk-label:hover label.sk-toggleable__label {background-color: #d4ebff;}#sk-container-id-3 div.sk-serial::before {content: \"\";position: absolute;border-left: 1px solid gray;box-sizing: border-box;top: 0;bottom: 0;left: 50%;z-index: 0;}#sk-container-id-3 div.sk-serial {display: flex;flex-direction: column;align-items: center;background-color: white;padding-right: 0.2em;padding-left: 0.2em;position: relative;}#sk-container-id-3 div.sk-item {position: relative;z-index: 1;}#sk-container-id-3 div.sk-parallel {display: flex;align-items: stretch;justify-content: center;background-color: white;position: relative;}#sk-container-id-3 div.sk-item::before, #sk-container-id-3 div.sk-parallel-item::before {content: \"\";position: absolute;border-left: 1px solid gray;box-sizing: border-box;top: 0;bottom: 0;left: 50%;z-index: -1;}#sk-container-id-3 div.sk-parallel-item {display: flex;flex-direction: column;z-index: 1;position: relative;background-color: white;}#sk-container-id-3 div.sk-parallel-item:first-child::after {align-self: flex-end;width: 50%;}#sk-container-id-3 div.sk-parallel-item:last-child::after {align-self: flex-start;width: 50%;}#sk-container-id-3 div.sk-parallel-item:only-child::after {width: 0;}#sk-container-id-3 div.sk-dashed-wrapped {border: 1px dashed gray;margin: 0 0.4em 0.5em 0.4em;box-sizing: border-box;padding-bottom: 0.4em;background-color: white;}#sk-container-id-3 div.sk-label label {font-family: monospace;font-weight: bold;display: inline-block;line-height: 1.2em;}#sk-container-id-3 div.sk-label-container {text-align: center;}#sk-container-id-3 div.sk-container {/* jupyter's `normalize.less` sets `[hidden] { display: none; }` but bootstrap.min.css set `[hidden] { display: none !important; }` so we also need the `!important` here to be able to override the default hidden behavior on the sphinx rendered scikit-learn.org. See: https://github.com/scikit-learn/scikit-learn/issues/21755 */display: inline-block !important;position: relative;}#sk-container-id-3 div.sk-text-repr-fallback {display: none;}</style><div id=\"sk-container-id-3\" class=\"sk-top-container\"><div class=\"sk-text-repr-fallback\"><pre>XGBRegressor(base_score=None, booster=None, callbacks=None,\n",
              "             colsample_bylevel=None, colsample_bynode=None,\n",
              "             colsample_bytree=None, device=None, early_stopping_rounds=None,\n",
              "             enable_categorical=False, eval_metric=None, feature_types=None,\n",
              "             gamma=None, grow_policy=None, importance_type=None,\n",
              "             interaction_constraints=None, learning_rate=0.1, max_bin=None,\n",
              "             max_cat_threshold=None, max_cat_to_onehot=None,\n",
              "             max_delta_step=None, max_depth=6, max_leaves=None,\n",
              "             min_child_weight=None, missing=nan, monotone_constraints=None,\n",
              "             multi_strategy=None, n_estimators=200, n_jobs=None,\n",
              "             num_parallel_tree=None, random_state=123, ...)</pre><b>In a Jupyter environment, please rerun this cell to show the HTML representation or trust the notebook. <br />On GitHub, the HTML representation is unable to render, please try loading this page with nbviewer.org.</b></div><div class=\"sk-container\" hidden><div class=\"sk-item\"><div class=\"sk-estimator sk-toggleable\"><input class=\"sk-toggleable__control sk-hidden--visually\" id=\"sk-estimator-id-3\" type=\"checkbox\" checked><label for=\"sk-estimator-id-3\" class=\"sk-toggleable__label sk-toggleable__label-arrow\">XGBRegressor</label><div class=\"sk-toggleable__content\"><pre>XGBRegressor(base_score=None, booster=None, callbacks=None,\n",
              "             colsample_bylevel=None, colsample_bynode=None,\n",
              "             colsample_bytree=None, device=None, early_stopping_rounds=None,\n",
              "             enable_categorical=False, eval_metric=None, feature_types=None,\n",
              "             gamma=None, grow_policy=None, importance_type=None,\n",
              "             interaction_constraints=None, learning_rate=0.1, max_bin=None,\n",
              "             max_cat_threshold=None, max_cat_to_onehot=None,\n",
              "             max_delta_step=None, max_depth=6, max_leaves=None,\n",
              "             min_child_weight=None, missing=nan, monotone_constraints=None,\n",
              "             multi_strategy=None, n_estimators=200, n_jobs=None,\n",
              "             num_parallel_tree=None, random_state=123, ...)</pre></div></div></div></div></div>"
            ]
          },
          "metadata": {},
          "execution_count": 24
        }
      ]
    },
    {
      "cell_type": "markdown",
      "source": [
        "## -- Meta Model --"
      ],
      "metadata": {
        "id": "fqmHVESnoKQM"
      }
    },
    {
      "cell_type": "markdown",
      "source": [
        "### Predicciones Modelos Base"
      ],
      "metadata": {
        "id": "1OfyPj9KTI1Z"
      }
    },
    {
      "cell_type": "code",
      "source": [
        "# Obtener predicciones del conjunto de entrenamiento\n",
        "mlp_train_preds = mlp_model.predict(X_train)\n",
        "rf_train_preds = rf_model.predict(X_train)\n",
        "xgb_train_preds = xgb_model.predict(X_train)\n",
        "dnn_train_preds = dnn_model.predict(X_train)\n",
        "\n",
        "# Concatenar todas las predicciones para formar un nuevo conjunto de características para el meta-modelo\n",
        "meta_X_train = np.concatenate((mlp_train_preds, rf_train_preds, xgb_train_preds, dnn_train_preds), axis=1)\n",
        "\n",
        "# Obtener predicciones del conjunto de prueba\n",
        "mlp_test_preds = mlp_model.predict(X_test)\n",
        "rf_test_preds = rf_model.predict(X_test)\n",
        "xgb_test_preds = xgb_model.predict(X_test)\n",
        "dnn_test_preds = dnn_model.predict(X_test)\n",
        "\n",
        "# Concatenar todas las predicciones para formar un nuevo conjunto de características para el meta-modelo\n",
        "meta_X_test = np.concatenate((mlp_test_preds, rf_test_preds, xgb_test_preds, dnn_test_preds), axis=1)"
      ],
      "metadata": {
        "id": "Uh4TXNK4oQm_",
        "outputId": "6aa99f8f-6b09-404c-fef2-a5d293f7dc1f",
        "colab": {
          "base_uri": "https://localhost:8080/"
        }
      },
      "execution_count": 25,
      "outputs": [
        {
          "output_type": "stream",
          "name": "stdout",
          "text": [
            "867/867 [==============================] - 2s 2ms/step\n",
            "97/97 [==============================] - 0s 2ms/step\n"
          ]
        }
      ]
    },
    {
      "cell_type": "code",
      "source": [
        "mlp_test_preds.shape, rf_test_preds.shape, xgb_test_preds.shape, dnn_test_preds.shape"
      ],
      "metadata": {
        "colab": {
          "base_uri": "https://localhost:8080/"
        },
        "id": "eduoLLoN6my3",
        "outputId": "4a09ab7c-6ea8-41e8-d373-b1883a85077a"
      },
      "execution_count": 26,
      "outputs": [
        {
          "output_type": "execute_result",
          "data": {
            "text/plain": [
              "((3083, 3), (3083, 3), (3083, 3), (3083, 3))"
            ]
          },
          "metadata": {},
          "execution_count": 26
        }
      ]
    },
    {
      "cell_type": "markdown",
      "source": [
        "### RandomForest"
      ],
      "metadata": {
        "id": "6rVTWyl1aNH-"
      }
    },
    {
      "cell_type": "code",
      "source": [
        "meta_model = RandomForestRegressor(n_estimators=500, random_state=42)\n",
        "meta_model.fit(meta_X_train, y_train)\n",
        "\n",
        "# Evaluar el meta-modelo en el conjunto de prueba\n",
        "meta_predictions = meta_model.predict(meta_X_test)\n",
        "mse = mean_squared_error(y_test, meta_predictions)\n",
        "print(f'MSE - Mean Squared Error del meta-modelo: {mse}')"
      ],
      "metadata": {
        "id": "IaKtMeV7tths",
        "colab": {
          "base_uri": "https://localhost:8080/"
        },
        "outputId": "ebf1a8b3-9b16-4d81-a341-068af7d1db10"
      },
      "execution_count": 29,
      "outputs": [
        {
          "output_type": "stream",
          "name": "stdout",
          "text": [
            "MSE - Mean Squared Error del meta-modelo: 0.0012705096078655274\n"
          ]
        }
      ]
    },
    {
      "cell_type": "code",
      "source": [
        "meta_X_test.shape"
      ],
      "metadata": {
        "id": "xZwInziJv4aU",
        "outputId": "cc711484-4fbd-46a0-df77-0c3878836157",
        "colab": {
          "base_uri": "https://localhost:8080/"
        }
      },
      "execution_count": 38,
      "outputs": [
        {
          "output_type": "execute_result",
          "data": {
            "text/plain": [
              "(3083, 12)"
            ]
          },
          "metadata": {},
          "execution_count": 38
        }
      ]
    },
    {
      "cell_type": "code",
      "source": [
        "# 100 - 0.002789\n",
        "# 200 - 0.002780\n",
        "# 500 - 0.002774 / 0.002513 / 0.002770\n",
        "# 1000 - 0.002775"
      ],
      "metadata": {
        "id": "8k2Dw1E8YS_A"
      },
      "execution_count": null,
      "outputs": []
    },
    {
      "cell_type": "code",
      "source": [
        "# 0.002279"
      ],
      "metadata": {
        "id": "cODxXQN7DPl8"
      },
      "execution_count": null,
      "outputs": []
    },
    {
      "cell_type": "code",
      "source": [
        "# 0.001270 Set de Datos 33351"
      ],
      "metadata": {
        "id": "AJFgSbQmnfFL"
      },
      "execution_count": null,
      "outputs": []
    },
    {
      "cell_type": "code",
      "source": [
        "# 0.001179 Set de Datos 25000"
      ],
      "metadata": {
        "id": "XsH7I6MQ1yag"
      },
      "execution_count": null,
      "outputs": []
    },
    {
      "cell_type": "markdown",
      "source": [
        "### Predicciones y Métricas"
      ],
      "metadata": {
        "id": "lpmcqnZnTyMB"
      }
    },
    {
      "cell_type": "code",
      "source": [
        "predicciones = pd.DataFrame(df_test, columns=df_test.columns)\n",
        "for i, columna in enumerate(['R1', 'R2', 'R3']):\n",
        "    predicciones[f'P_{columna}'] = train_scaler_dict[columna].inverse_transform(meta_predictions[:, i].reshape(-1, 1))\n",
        "predicciones"
      ],
      "metadata": {
        "colab": {
          "base_uri": "https://localhost:8080/",
          "height": 424
        },
        "id": "Eg5kyaee9ErZ",
        "outputId": "296cc502-608c-4b51-806f-aeae50151c1e"
      },
      "execution_count": 30,
      "outputs": [
        {
          "output_type": "execute_result",
          "data": {
            "text/plain": [
              "        1a  1b   1c  1d   2a  2b   2c  2d   3a  3b  ...  56a  56b  56c  56d  \\\n",
              "26513   70   1   65  25  250   7   45  25  350   7  ...   70   15  110   25   \n",
              "33307  100   3  105   6  270   3  105   6    0   3  ...   60    5  105    6   \n",
              "13019   70  13  105   6  280  11   15  12  330  13  ...   30   13  110    6   \n",
              "19010  100   3  105   6  280  11   15  12  350   7  ...   70   15  110   25   \n",
              "8977   110  -3   45  12  250   3   65  25    0   5  ...   30    7   45   12   \n",
              "...    ...  ..  ...  ..  ...  ..  ...  ..  ...  ..  ...  ...  ...  ...  ...   \n",
              "28096  100   5   15  25  250   7   45  25  350   7  ...   70   15  110   25   \n",
              "33297  100   3  105   6  270   3  105   6    0   3  ...   60    5  105    6   \n",
              "23928   70  -1   25  25  250   3   65  25    0   3  ...   40    5  110   25   \n",
              "23786  100   5   15  25  300  13  110  12  330  13  ...   70    5   15   25   \n",
              "11884   70  11   25  25  260   7   25  25    0   3  ...   30   13  110    6   \n",
              "\n",
              "          R1    R2     R3       P_R1      P_R2       P_R3  \n",
              "26513   3.92  1.30   4.24   3.866342  1.286222   4.159678  \n",
              "33307  21.13  5.52  21.95  21.151508  5.351185  21.253827  \n",
              "13019  31.85  4.79  24.63  31.772095  4.616325  25.262694  \n",
              "19010   3.76  1.25   4.24   3.819529  1.297546   4.215673  \n",
              "8977    6.29  8.26  17.56   5.950371  7.509828  16.965384  \n",
              "...      ...   ...    ...        ...       ...        ...  \n",
              "28096   2.67  1.31   4.36   2.655245  1.362503   4.382482  \n",
              "33297  20.54  5.52  22.76  20.066925  5.417196  21.904111  \n",
              "23928  12.43  5.24  16.32  10.459630  5.604184  14.710847  \n",
              "23786  21.23  5.38  20.18  20.961101  5.912489  21.026616  \n",
              "11884   9.66  3.41  11.42   6.860713  2.837999   8.791111  \n",
              "\n",
              "[3083 rows x 230 columns]"
            ],
            "text/html": [
              "\n",
              "  <div id=\"df-44cfe277-eea6-423d-b42c-63365bfbabe1\" class=\"colab-df-container\">\n",
              "    <div>\n",
              "<style scoped>\n",
              "    .dataframe tbody tr th:only-of-type {\n",
              "        vertical-align: middle;\n",
              "    }\n",
              "\n",
              "    .dataframe tbody tr th {\n",
              "        vertical-align: top;\n",
              "    }\n",
              "\n",
              "    .dataframe thead th {\n",
              "        text-align: right;\n",
              "    }\n",
              "</style>\n",
              "<table border=\"1\" class=\"dataframe\">\n",
              "  <thead>\n",
              "    <tr style=\"text-align: right;\">\n",
              "      <th></th>\n",
              "      <th>1a</th>\n",
              "      <th>1b</th>\n",
              "      <th>1c</th>\n",
              "      <th>1d</th>\n",
              "      <th>2a</th>\n",
              "      <th>2b</th>\n",
              "      <th>2c</th>\n",
              "      <th>2d</th>\n",
              "      <th>3a</th>\n",
              "      <th>3b</th>\n",
              "      <th>...</th>\n",
              "      <th>56a</th>\n",
              "      <th>56b</th>\n",
              "      <th>56c</th>\n",
              "      <th>56d</th>\n",
              "      <th>R1</th>\n",
              "      <th>R2</th>\n",
              "      <th>R3</th>\n",
              "      <th>P_R1</th>\n",
              "      <th>P_R2</th>\n",
              "      <th>P_R3</th>\n",
              "    </tr>\n",
              "  </thead>\n",
              "  <tbody>\n",
              "    <tr>\n",
              "      <th>26513</th>\n",
              "      <td>70</td>\n",
              "      <td>1</td>\n",
              "      <td>65</td>\n",
              "      <td>25</td>\n",
              "      <td>250</td>\n",
              "      <td>7</td>\n",
              "      <td>45</td>\n",
              "      <td>25</td>\n",
              "      <td>350</td>\n",
              "      <td>7</td>\n",
              "      <td>...</td>\n",
              "      <td>70</td>\n",
              "      <td>15</td>\n",
              "      <td>110</td>\n",
              "      <td>25</td>\n",
              "      <td>3.92</td>\n",
              "      <td>1.30</td>\n",
              "      <td>4.24</td>\n",
              "      <td>3.866342</td>\n",
              "      <td>1.286222</td>\n",
              "      <td>4.159678</td>\n",
              "    </tr>\n",
              "    <tr>\n",
              "      <th>33307</th>\n",
              "      <td>100</td>\n",
              "      <td>3</td>\n",
              "      <td>105</td>\n",
              "      <td>6</td>\n",
              "      <td>270</td>\n",
              "      <td>3</td>\n",
              "      <td>105</td>\n",
              "      <td>6</td>\n",
              "      <td>0</td>\n",
              "      <td>3</td>\n",
              "      <td>...</td>\n",
              "      <td>60</td>\n",
              "      <td>5</td>\n",
              "      <td>105</td>\n",
              "      <td>6</td>\n",
              "      <td>21.13</td>\n",
              "      <td>5.52</td>\n",
              "      <td>21.95</td>\n",
              "      <td>21.151508</td>\n",
              "      <td>5.351185</td>\n",
              "      <td>21.253827</td>\n",
              "    </tr>\n",
              "    <tr>\n",
              "      <th>13019</th>\n",
              "      <td>70</td>\n",
              "      <td>13</td>\n",
              "      <td>105</td>\n",
              "      <td>6</td>\n",
              "      <td>280</td>\n",
              "      <td>11</td>\n",
              "      <td>15</td>\n",
              "      <td>12</td>\n",
              "      <td>330</td>\n",
              "      <td>13</td>\n",
              "      <td>...</td>\n",
              "      <td>30</td>\n",
              "      <td>13</td>\n",
              "      <td>110</td>\n",
              "      <td>6</td>\n",
              "      <td>31.85</td>\n",
              "      <td>4.79</td>\n",
              "      <td>24.63</td>\n",
              "      <td>31.772095</td>\n",
              "      <td>4.616325</td>\n",
              "      <td>25.262694</td>\n",
              "    </tr>\n",
              "    <tr>\n",
              "      <th>19010</th>\n",
              "      <td>100</td>\n",
              "      <td>3</td>\n",
              "      <td>105</td>\n",
              "      <td>6</td>\n",
              "      <td>280</td>\n",
              "      <td>11</td>\n",
              "      <td>15</td>\n",
              "      <td>12</td>\n",
              "      <td>350</td>\n",
              "      <td>7</td>\n",
              "      <td>...</td>\n",
              "      <td>70</td>\n",
              "      <td>15</td>\n",
              "      <td>110</td>\n",
              "      <td>25</td>\n",
              "      <td>3.76</td>\n",
              "      <td>1.25</td>\n",
              "      <td>4.24</td>\n",
              "      <td>3.819529</td>\n",
              "      <td>1.297546</td>\n",
              "      <td>4.215673</td>\n",
              "    </tr>\n",
              "    <tr>\n",
              "      <th>8977</th>\n",
              "      <td>110</td>\n",
              "      <td>-3</td>\n",
              "      <td>45</td>\n",
              "      <td>12</td>\n",
              "      <td>250</td>\n",
              "      <td>3</td>\n",
              "      <td>65</td>\n",
              "      <td>25</td>\n",
              "      <td>0</td>\n",
              "      <td>5</td>\n",
              "      <td>...</td>\n",
              "      <td>30</td>\n",
              "      <td>7</td>\n",
              "      <td>45</td>\n",
              "      <td>12</td>\n",
              "      <td>6.29</td>\n",
              "      <td>8.26</td>\n",
              "      <td>17.56</td>\n",
              "      <td>5.950371</td>\n",
              "      <td>7.509828</td>\n",
              "      <td>16.965384</td>\n",
              "    </tr>\n",
              "    <tr>\n",
              "      <th>...</th>\n",
              "      <td>...</td>\n",
              "      <td>...</td>\n",
              "      <td>...</td>\n",
              "      <td>...</td>\n",
              "      <td>...</td>\n",
              "      <td>...</td>\n",
              "      <td>...</td>\n",
              "      <td>...</td>\n",
              "      <td>...</td>\n",
              "      <td>...</td>\n",
              "      <td>...</td>\n",
              "      <td>...</td>\n",
              "      <td>...</td>\n",
              "      <td>...</td>\n",
              "      <td>...</td>\n",
              "      <td>...</td>\n",
              "      <td>...</td>\n",
              "      <td>...</td>\n",
              "      <td>...</td>\n",
              "      <td>...</td>\n",
              "      <td>...</td>\n",
              "    </tr>\n",
              "    <tr>\n",
              "      <th>28096</th>\n",
              "      <td>100</td>\n",
              "      <td>5</td>\n",
              "      <td>15</td>\n",
              "      <td>25</td>\n",
              "      <td>250</td>\n",
              "      <td>7</td>\n",
              "      <td>45</td>\n",
              "      <td>25</td>\n",
              "      <td>350</td>\n",
              "      <td>7</td>\n",
              "      <td>...</td>\n",
              "      <td>70</td>\n",
              "      <td>15</td>\n",
              "      <td>110</td>\n",
              "      <td>25</td>\n",
              "      <td>2.67</td>\n",
              "      <td>1.31</td>\n",
              "      <td>4.36</td>\n",
              "      <td>2.655245</td>\n",
              "      <td>1.362503</td>\n",
              "      <td>4.382482</td>\n",
              "    </tr>\n",
              "    <tr>\n",
              "      <th>33297</th>\n",
              "      <td>100</td>\n",
              "      <td>3</td>\n",
              "      <td>105</td>\n",
              "      <td>6</td>\n",
              "      <td>270</td>\n",
              "      <td>3</td>\n",
              "      <td>105</td>\n",
              "      <td>6</td>\n",
              "      <td>0</td>\n",
              "      <td>3</td>\n",
              "      <td>...</td>\n",
              "      <td>60</td>\n",
              "      <td>5</td>\n",
              "      <td>105</td>\n",
              "      <td>6</td>\n",
              "      <td>20.54</td>\n",
              "      <td>5.52</td>\n",
              "      <td>22.76</td>\n",
              "      <td>20.066925</td>\n",
              "      <td>5.417196</td>\n",
              "      <td>21.904111</td>\n",
              "    </tr>\n",
              "    <tr>\n",
              "      <th>23928</th>\n",
              "      <td>70</td>\n",
              "      <td>-1</td>\n",
              "      <td>25</td>\n",
              "      <td>25</td>\n",
              "      <td>250</td>\n",
              "      <td>3</td>\n",
              "      <td>65</td>\n",
              "      <td>25</td>\n",
              "      <td>0</td>\n",
              "      <td>3</td>\n",
              "      <td>...</td>\n",
              "      <td>40</td>\n",
              "      <td>5</td>\n",
              "      <td>110</td>\n",
              "      <td>25</td>\n",
              "      <td>12.43</td>\n",
              "      <td>5.24</td>\n",
              "      <td>16.32</td>\n",
              "      <td>10.459630</td>\n",
              "      <td>5.604184</td>\n",
              "      <td>14.710847</td>\n",
              "    </tr>\n",
              "    <tr>\n",
              "      <th>23786</th>\n",
              "      <td>100</td>\n",
              "      <td>5</td>\n",
              "      <td>15</td>\n",
              "      <td>25</td>\n",
              "      <td>300</td>\n",
              "      <td>13</td>\n",
              "      <td>110</td>\n",
              "      <td>12</td>\n",
              "      <td>330</td>\n",
              "      <td>13</td>\n",
              "      <td>...</td>\n",
              "      <td>70</td>\n",
              "      <td>5</td>\n",
              "      <td>15</td>\n",
              "      <td>25</td>\n",
              "      <td>21.23</td>\n",
              "      <td>5.38</td>\n",
              "      <td>20.18</td>\n",
              "      <td>20.961101</td>\n",
              "      <td>5.912489</td>\n",
              "      <td>21.026616</td>\n",
              "    </tr>\n",
              "    <tr>\n",
              "      <th>11884</th>\n",
              "      <td>70</td>\n",
              "      <td>11</td>\n",
              "      <td>25</td>\n",
              "      <td>25</td>\n",
              "      <td>260</td>\n",
              "      <td>7</td>\n",
              "      <td>25</td>\n",
              "      <td>25</td>\n",
              "      <td>0</td>\n",
              "      <td>3</td>\n",
              "      <td>...</td>\n",
              "      <td>30</td>\n",
              "      <td>13</td>\n",
              "      <td>110</td>\n",
              "      <td>6</td>\n",
              "      <td>9.66</td>\n",
              "      <td>3.41</td>\n",
              "      <td>11.42</td>\n",
              "      <td>6.860713</td>\n",
              "      <td>2.837999</td>\n",
              "      <td>8.791111</td>\n",
              "    </tr>\n",
              "  </tbody>\n",
              "</table>\n",
              "<p>3083 rows × 230 columns</p>\n",
              "</div>\n",
              "    <div class=\"colab-df-buttons\">\n",
              "\n",
              "  <div class=\"colab-df-container\">\n",
              "    <button class=\"colab-df-convert\" onclick=\"convertToInteractive('df-44cfe277-eea6-423d-b42c-63365bfbabe1')\"\n",
              "            title=\"Convert this dataframe to an interactive table.\"\n",
              "            style=\"display:none;\">\n",
              "\n",
              "  <svg xmlns=\"http://www.w3.org/2000/svg\" height=\"24px\" viewBox=\"0 -960 960 960\">\n",
              "    <path d=\"M120-120v-720h720v720H120Zm60-500h600v-160H180v160Zm220 220h160v-160H400v160Zm0 220h160v-160H400v160ZM180-400h160v-160H180v160Zm440 0h160v-160H620v160ZM180-180h160v-160H180v160Zm440 0h160v-160H620v160Z\"/>\n",
              "  </svg>\n",
              "    </button>\n",
              "\n",
              "  <style>\n",
              "    .colab-df-container {\n",
              "      display:flex;\n",
              "      gap: 12px;\n",
              "    }\n",
              "\n",
              "    .colab-df-convert {\n",
              "      background-color: #E8F0FE;\n",
              "      border: none;\n",
              "      border-radius: 50%;\n",
              "      cursor: pointer;\n",
              "      display: none;\n",
              "      fill: #1967D2;\n",
              "      height: 32px;\n",
              "      padding: 0 0 0 0;\n",
              "      width: 32px;\n",
              "    }\n",
              "\n",
              "    .colab-df-convert:hover {\n",
              "      background-color: #E2EBFA;\n",
              "      box-shadow: 0px 1px 2px rgba(60, 64, 67, 0.3), 0px 1px 3px 1px rgba(60, 64, 67, 0.15);\n",
              "      fill: #174EA6;\n",
              "    }\n",
              "\n",
              "    .colab-df-buttons div {\n",
              "      margin-bottom: 4px;\n",
              "    }\n",
              "\n",
              "    [theme=dark] .colab-df-convert {\n",
              "      background-color: #3B4455;\n",
              "      fill: #D2E3FC;\n",
              "    }\n",
              "\n",
              "    [theme=dark] .colab-df-convert:hover {\n",
              "      background-color: #434B5C;\n",
              "      box-shadow: 0px 1px 3px 1px rgba(0, 0, 0, 0.15);\n",
              "      filter: drop-shadow(0px 1px 2px rgba(0, 0, 0, 0.3));\n",
              "      fill: #FFFFFF;\n",
              "    }\n",
              "  </style>\n",
              "\n",
              "    <script>\n",
              "      const buttonEl =\n",
              "        document.querySelector('#df-44cfe277-eea6-423d-b42c-63365bfbabe1 button.colab-df-convert');\n",
              "      buttonEl.style.display =\n",
              "        google.colab.kernel.accessAllowed ? 'block' : 'none';\n",
              "\n",
              "      async function convertToInteractive(key) {\n",
              "        const element = document.querySelector('#df-44cfe277-eea6-423d-b42c-63365bfbabe1');\n",
              "        const dataTable =\n",
              "          await google.colab.kernel.invokeFunction('convertToInteractive',\n",
              "                                                    [key], {});\n",
              "        if (!dataTable) return;\n",
              "\n",
              "        const docLinkHtml = 'Like what you see? Visit the ' +\n",
              "          '<a target=\"_blank\" href=https://colab.research.google.com/notebooks/data_table.ipynb>data table notebook</a>'\n",
              "          + ' to learn more about interactive tables.';\n",
              "        element.innerHTML = '';\n",
              "        dataTable['output_type'] = 'display_data';\n",
              "        await google.colab.output.renderOutput(dataTable, element);\n",
              "        const docLink = document.createElement('div');\n",
              "        docLink.innerHTML = docLinkHtml;\n",
              "        element.appendChild(docLink);\n",
              "      }\n",
              "    </script>\n",
              "  </div>\n",
              "\n",
              "\n",
              "<div id=\"df-3e77c00a-3b1c-4d1b-ac92-8df245e6aa8a\">\n",
              "  <button class=\"colab-df-quickchart\" onclick=\"quickchart('df-3e77c00a-3b1c-4d1b-ac92-8df245e6aa8a')\"\n",
              "            title=\"Suggest charts\"\n",
              "            style=\"display:none;\">\n",
              "\n",
              "<svg xmlns=\"http://www.w3.org/2000/svg\" height=\"24px\"viewBox=\"0 0 24 24\"\n",
              "     width=\"24px\">\n",
              "    <g>\n",
              "        <path d=\"M19 3H5c-1.1 0-2 .9-2 2v14c0 1.1.9 2 2 2h14c1.1 0 2-.9 2-2V5c0-1.1-.9-2-2-2zM9 17H7v-7h2v7zm4 0h-2V7h2v10zm4 0h-2v-4h2v4z\"/>\n",
              "    </g>\n",
              "</svg>\n",
              "  </button>\n",
              "\n",
              "<style>\n",
              "  .colab-df-quickchart {\n",
              "      --bg-color: #E8F0FE;\n",
              "      --fill-color: #1967D2;\n",
              "      --hover-bg-color: #E2EBFA;\n",
              "      --hover-fill-color: #174EA6;\n",
              "      --disabled-fill-color: #AAA;\n",
              "      --disabled-bg-color: #DDD;\n",
              "  }\n",
              "\n",
              "  [theme=dark] .colab-df-quickchart {\n",
              "      --bg-color: #3B4455;\n",
              "      --fill-color: #D2E3FC;\n",
              "      --hover-bg-color: #434B5C;\n",
              "      --hover-fill-color: #FFFFFF;\n",
              "      --disabled-bg-color: #3B4455;\n",
              "      --disabled-fill-color: #666;\n",
              "  }\n",
              "\n",
              "  .colab-df-quickchart {\n",
              "    background-color: var(--bg-color);\n",
              "    border: none;\n",
              "    border-radius: 50%;\n",
              "    cursor: pointer;\n",
              "    display: none;\n",
              "    fill: var(--fill-color);\n",
              "    height: 32px;\n",
              "    padding: 0;\n",
              "    width: 32px;\n",
              "  }\n",
              "\n",
              "  .colab-df-quickchart:hover {\n",
              "    background-color: var(--hover-bg-color);\n",
              "    box-shadow: 0 1px 2px rgba(60, 64, 67, 0.3), 0 1px 3px 1px rgba(60, 64, 67, 0.15);\n",
              "    fill: var(--button-hover-fill-color);\n",
              "  }\n",
              "\n",
              "  .colab-df-quickchart-complete:disabled,\n",
              "  .colab-df-quickchart-complete:disabled:hover {\n",
              "    background-color: var(--disabled-bg-color);\n",
              "    fill: var(--disabled-fill-color);\n",
              "    box-shadow: none;\n",
              "  }\n",
              "\n",
              "  .colab-df-spinner {\n",
              "    border: 2px solid var(--fill-color);\n",
              "    border-color: transparent;\n",
              "    border-bottom-color: var(--fill-color);\n",
              "    animation:\n",
              "      spin 1s steps(1) infinite;\n",
              "  }\n",
              "\n",
              "  @keyframes spin {\n",
              "    0% {\n",
              "      border-color: transparent;\n",
              "      border-bottom-color: var(--fill-color);\n",
              "      border-left-color: var(--fill-color);\n",
              "    }\n",
              "    20% {\n",
              "      border-color: transparent;\n",
              "      border-left-color: var(--fill-color);\n",
              "      border-top-color: var(--fill-color);\n",
              "    }\n",
              "    30% {\n",
              "      border-color: transparent;\n",
              "      border-left-color: var(--fill-color);\n",
              "      border-top-color: var(--fill-color);\n",
              "      border-right-color: var(--fill-color);\n",
              "    }\n",
              "    40% {\n",
              "      border-color: transparent;\n",
              "      border-right-color: var(--fill-color);\n",
              "      border-top-color: var(--fill-color);\n",
              "    }\n",
              "    60% {\n",
              "      border-color: transparent;\n",
              "      border-right-color: var(--fill-color);\n",
              "    }\n",
              "    80% {\n",
              "      border-color: transparent;\n",
              "      border-right-color: var(--fill-color);\n",
              "      border-bottom-color: var(--fill-color);\n",
              "    }\n",
              "    90% {\n",
              "      border-color: transparent;\n",
              "      border-bottom-color: var(--fill-color);\n",
              "    }\n",
              "  }\n",
              "</style>\n",
              "\n",
              "  <script>\n",
              "    async function quickchart(key) {\n",
              "      const quickchartButtonEl =\n",
              "        document.querySelector('#' + key + ' button');\n",
              "      quickchartButtonEl.disabled = true;  // To prevent multiple clicks.\n",
              "      quickchartButtonEl.classList.add('colab-df-spinner');\n",
              "      try {\n",
              "        const charts = await google.colab.kernel.invokeFunction(\n",
              "            'suggestCharts', [key], {});\n",
              "      } catch (error) {\n",
              "        console.error('Error during call to suggestCharts:', error);\n",
              "      }\n",
              "      quickchartButtonEl.classList.remove('colab-df-spinner');\n",
              "      quickchartButtonEl.classList.add('colab-df-quickchart-complete');\n",
              "    }\n",
              "    (() => {\n",
              "      let quickchartButtonEl =\n",
              "        document.querySelector('#df-3e77c00a-3b1c-4d1b-ac92-8df245e6aa8a button');\n",
              "      quickchartButtonEl.style.display =\n",
              "        google.colab.kernel.accessAllowed ? 'block' : 'none';\n",
              "    })();\n",
              "  </script>\n",
              "</div>\n",
              "\n",
              "  <div id=\"id_d9169de7-9fcb-4471-b850-06a4bafe8793\">\n",
              "    <style>\n",
              "      .colab-df-generate {\n",
              "        background-color: #E8F0FE;\n",
              "        border: none;\n",
              "        border-radius: 50%;\n",
              "        cursor: pointer;\n",
              "        display: none;\n",
              "        fill: #1967D2;\n",
              "        height: 32px;\n",
              "        padding: 0 0 0 0;\n",
              "        width: 32px;\n",
              "      }\n",
              "\n",
              "      .colab-df-generate:hover {\n",
              "        background-color: #E2EBFA;\n",
              "        box-shadow: 0px 1px 2px rgba(60, 64, 67, 0.3), 0px 1px 3px 1px rgba(60, 64, 67, 0.15);\n",
              "        fill: #174EA6;\n",
              "      }\n",
              "\n",
              "      [theme=dark] .colab-df-generate {\n",
              "        background-color: #3B4455;\n",
              "        fill: #D2E3FC;\n",
              "      }\n",
              "\n",
              "      [theme=dark] .colab-df-generate:hover {\n",
              "        background-color: #434B5C;\n",
              "        box-shadow: 0px 1px 3px 1px rgba(0, 0, 0, 0.15);\n",
              "        filter: drop-shadow(0px 1px 2px rgba(0, 0, 0, 0.3));\n",
              "        fill: #FFFFFF;\n",
              "      }\n",
              "    </style>\n",
              "    <button class=\"colab-df-generate\" onclick=\"generateWithVariable('predicciones')\"\n",
              "            title=\"Generate code using this dataframe.\"\n",
              "            style=\"display:none;\">\n",
              "\n",
              "  <svg xmlns=\"http://www.w3.org/2000/svg\" height=\"24px\"viewBox=\"0 0 24 24\"\n",
              "       width=\"24px\">\n",
              "    <path d=\"M7,19H8.4L18.45,9,17,7.55,7,17.6ZM5,21V16.75L18.45,3.32a2,2,0,0,1,2.83,0l1.4,1.43a1.91,1.91,0,0,1,.58,1.4,1.91,1.91,0,0,1-.58,1.4L9.25,21ZM18.45,9,17,7.55Zm-12,3A5.31,5.31,0,0,0,4.9,8.1,5.31,5.31,0,0,0,1,6.5,5.31,5.31,0,0,0,4.9,4.9,5.31,5.31,0,0,0,6.5,1,5.31,5.31,0,0,0,8.1,4.9,5.31,5.31,0,0,0,12,6.5,5.46,5.46,0,0,0,6.5,12Z\"/>\n",
              "  </svg>\n",
              "    </button>\n",
              "    <script>\n",
              "      (() => {\n",
              "      const buttonEl =\n",
              "        document.querySelector('#id_d9169de7-9fcb-4471-b850-06a4bafe8793 button.colab-df-generate');\n",
              "      buttonEl.style.display =\n",
              "        google.colab.kernel.accessAllowed ? 'block' : 'none';\n",
              "\n",
              "      buttonEl.onclick = () => {\n",
              "        google.colab.notebook.generateWithVariable('predicciones');\n",
              "      }\n",
              "      })();\n",
              "    </script>\n",
              "  </div>\n",
              "\n",
              "    </div>\n",
              "  </div>\n"
            ],
            "application/vnd.google.colaboratory.intrinsic+json": {
              "type": "dataframe",
              "variable_name": "predicciones"
            }
          },
          "metadata": {},
          "execution_count": 30
        }
      ]
    },
    {
      "cell_type": "code",
      "source": [
        "# Crear subgráficos\n",
        "fig, axs = plt.subplots(1, 3, figsize=(18, 6), sharey=True)\n",
        "\n",
        "# Iterar sobre las columnas de predicción\n",
        "for i, columna in enumerate(['R1', 'R2', 'R3']):\n",
        "    # Scatter plot de los valores esperados vs. predichos para la columna actual\n",
        "    axs[i].scatter(predicciones[columna], predicciones[f'P_{columna}'], color='blue', alpha=0.5)\n",
        "    # Línea diagonal para referencia\n",
        "    axs[i].plot([predicciones[columna].min(), predicciones[columna].max()], [predicciones[columna].min(), predicciones[columna].max()], color='red', linestyle='--')\n",
        "    # Título y etiquetas de los ejes\n",
        "    axs[i].set_title(f'Predicciones vs. Valores Esperados para {columna}', fontsize=16)\n",
        "    axs[i].set_xlabel(f'Valor Esperado ({columna})', fontsize=14)\n",
        "    axs[i].set_ylabel('Valor Predicho', fontsize=14)\n",
        "    # Cuadrícula\n",
        "    axs[i].grid(True)\n",
        "\n",
        "# Mostrar el gráfico\n",
        "plt.tight_layout()\n",
        "plt.show()"
      ],
      "metadata": {
        "colab": {
          "base_uri": "https://localhost:8080/",
          "height": 405
        },
        "id": "PAfkVSs9USue",
        "outputId": "242017f8-db64-4662-c390-31da3078c218"
      },
      "execution_count": 32,
      "outputs": [
        {
          "output_type": "display_data",
          "data": {
            "text/plain": [
              "<Figure size 1800x600 with 3 Axes>"
            ],
            "image/png": "[encoded data removed]"
          },
          "metadata": {}
        }
      ]
    },
    {
      "cell_type": "code",
      "source": [
        "# Métricas\n",
        "print(\"-------------------------\\nMétricas\")\n",
        "y_pred = meta_predictions\n",
        "# Calcular R2 ajustado\n",
        "n = y_test.shape[0] * y_test.shape[1]  # número total de observaciones en y_test\n",
        "p = X_train.shape[1] # número de características en X_train\n",
        "r2_aj = r2_ajustado(y_test, y_pred, n, p)\n",
        "\n",
        "# Métricas de regresión\n",
        "mse = mean_squared_error(y_test, y_pred)\n",
        "mae = mean_absolute_error(y_test, y_pred)\n",
        "r2 = r2_score(y_test, y_pred)\n",
        "\n",
        "print(\"Mean Squared Error (MSE): {:.6f}\".format(mse))\n",
        "print(\"Mean Absolute Error (MAE): {:.6f}\".format(mae))\n",
        "print(\"R2 Score: {:.6f}\".format(r2))\n",
        "print(\"R2 Ajustado: {:.6f}\\n\".format(r2_aj))"
      ],
      "metadata": {
        "id": "iy-L2MRN-ufy",
        "outputId": "479ee9de-de7f-4bc6-ac55-b4fb4b0904e3",
        "colab": {
          "base_uri": "https://localhost:8080/"
        }
      },
      "execution_count": 34,
      "outputs": [
        {
          "output_type": "stream",
          "name": "stdout",
          "text": [
            "-------------------------\n",
            "Métricas\n",
            "Mean Squared Error (MSE): 0.001271\n",
            "Mean Absolute Error (MAE): 0.022589\n",
            "R2 Score: 0.963742\n",
            "R2 Ajustado: 0.962842\n",
            "\n"
          ]
        }
      ]
    },
    {
      "cell_type": "code",
      "source": [
        "from sklearn.model_selection import cross_val_score\n",
        "\n",
        "# Función para graficar la curva de aprendizaje del meta-modelo RandomForest\n",
        "def plot_learning_curve(model, X, y, cv=5):\n",
        "    \"\"\"\n",
        "    Graficar la curva de aprendizaje del modelo.\n",
        "\n",
        "    Parameters:\n",
        "    model (sklearn estimator): El modelo a evaluar.\n",
        "    X (numpy array): Conjunto de características.\n",
        "    y (numpy array): Conjunto de etiquetas.\n",
        "    cv (int): Número de pliegues para la validación cruzada.\n",
        "    \"\"\"\n",
        "    train_scores = []\n",
        "    val_scores = []\n",
        "    n_estimators_range = range(100, 501, 50)\n",
        "\n",
        "    for n_estimators in n_estimators_range:\n",
        "        model.set_params(n_estimators=n_estimators)\n",
        "        train_scores.append(np.mean(cross_val_score(model, X, y, cv=cv, scoring='neg_mean_squared_error', n_jobs=-1)))\n",
        "        val_scores.append(np.mean(cross_val_score(model, X, y, cv=cv, scoring='neg_mean_squared_error', n_jobs=-1)))\n",
        "\n",
        "    train_scores = np.array(train_scores) * -1  # Convertir a valores positivos\n",
        "    val_scores = np.array(val_scores) * -1  # Convertir a valores positivos\n",
        "\n",
        "    plt.figure(figsize=(12, 6))\n",
        "    plt.plot(n_estimators_range, train_scores, label='Training Error')\n",
        "    plt.plot(n_estimators_range, val_scores, label='Validation Error')\n",
        "    plt.xlabel('Number of Estimators')\n",
        "    plt.ylabel('Mean Squared Error')\n",
        "    plt.legend()\n",
        "    plt.title('Curva de Aprendizaje del Meta-Modelo RandomForest')\n",
        "    plt.grid(True)\n",
        "    plt.show()\n",
        "\n",
        "# Llamar a la función para graficar la curva de aprendizaje\n",
        "plot_learning_curve(meta_model, meta_X_train, y_train)\n"
      ],
      "metadata": {
        "id": "t9FeugvtJhDJ",
        "outputId": "f62bd8b0-2b79-4707-e8fd-e985d7542b93",
        "colab": {
          "base_uri": "https://localhost:8080/",
          "height": 619
        }
      },
      "execution_count": null,
      "outputs": [
        {
          "output_type": "stream",
          "name": "stderr",
          "text": [
            "/usr/local/lib/python3.10/dist-packages/joblib/externals/loky/backend/fork_exec.py:38: RuntimeWarning: os.fork() was called. os.fork() is incompatible with multithreaded code, and JAX is multithreaded, so this will likely lead to a deadlock.\n",
            "  pid = os.fork()\n"
          ]
        },
        {
          "output_type": "display_data",
          "data": {
            "text/plain": [
              "<Figure size 1200x600 with 1 Axes>"
            ],
            "image/png": "[encoded data removed]"
          },
          "metadata": {}
        }
      ]
    },
    {
      "cell_type": "markdown",
      "source": [
        "# Import / Export de Modelos"
      ],
      "metadata": {
        "id": "kLEivSKTCurt"
      }
    },
    {
      "cell_type": "markdown",
      "source": [
        "TensorFlow"
      ],
      "metadata": {
        "id": "3DT8vXVrDu9J"
      }
    },
    {
      "cell_type": "code",
      "source": [
        "model.save('meta_model')"
      ],
      "metadata": {
        "id": "E-6-uGOcDpSa"
      },
      "execution_count": null,
      "outputs": []
    },
    {
      "cell_type": "code",
      "source": [
        "loaded_model = tf.keras.models.load_model('mlp_model')"
      ],
      "metadata": {
        "id": "xgpTsf-rD5Jl"
      },
      "execution_count": null,
      "outputs": []
    },
    {
      "cell_type": "markdown",
      "source": [
        "Pickle"
      ],
      "metadata": {
        "id": "ZeLRD_9hDxAL"
      }
    },
    {
      "cell_type": "code",
      "source": [
        "# Guardar el modelo\n",
        "with open('meta_model.pkl', 'wb') as file:\n",
        "    pickle.dump(meta_model, file)"
      ],
      "metadata": {
        "id": "eGHRT50w3IHX"
      },
      "execution_count": null,
      "outputs": []
    },
    {
      "cell_type": "code",
      "source": [
        "# Cargar el modelo\n",
        "with open('meta_model.pkl', 'rb') as file:\n",
        "    loaded_meta_model = pickle.load(file)"
      ],
      "metadata": {
        "id": "AUgh3caj3V_Y"
      },
      "execution_count": null,
      "outputs": []
    },
    {
      "cell_type": "code",
      "source": [
        "mlp.save('mlp_model.h5')\n",
        "with open('mlp_model_pickle.pkl', 'wb') as file:\n",
        "    pickle.dump('mlp_model.h5', file)"
      ],
      "metadata": {
        "id": "5HtJueZdC4b_"
      },
      "execution_count": null,
      "outputs": []
    },
    {
      "cell_type": "code",
      "source": [
        "with open('mlp_model_pickle.pkl', 'rb') as file:\n",
        "    model_file = pickle.load(file)\n",
        "loaded_model = tf.keras.models.load_model(model_file)"
      ],
      "metadata": {
        "id": "lH785mWwC-Xq"
      },
      "execution_count": null,
      "outputs": []
    },
    {
      "cell_type": "markdown",
      "source": [
        "Joblib"
      ],
      "metadata": {
        "id": "-y5G_ZU5Finm"
      }
    },
    {
      "cell_type": "code",
      "source": [
        "joblib.dump(mlp, 'mlp_regressor_model.pkl')"
      ],
      "metadata": {
        "colab": {
          "base_uri": "https://localhost:8080/"
        },
        "id": "j6wdksb_FkGa",
        "outputId": "76eb2485-caf7-455b-8d9e-c04c775362f5"
      },
      "execution_count": null,
      "outputs": [
        {
          "output_type": "execute_result",
          "data": {
            "text/plain": [
              "['mlp_regressor_model.pkl']"
            ]
          },
          "metadata": {},
          "execution_count": 144
        }
      ]
    },
    {
      "cell_type": "code",
      "source": [
        "mlp_loaded = joblib.load('mlp_regressor_model.pkl')"
      ],
      "metadata": {
        "id": "ChrloY5BF-_N"
      },
      "execution_count": null,
      "outputs": []
    },
    {
      "cell_type": "markdown",
      "source": [
        "# Sección nueva"
      ],
      "metadata": {
        "id": "FwZ4Svg0vF8G"
      }
    },
    {
      "cell_type": "code",
      "source": [
        "def meta_predict(input):\n",
        "    input = np.array(input).reshape(1, -1)\n",
        "\n",
        "    mlp_meta_preds = mlp_model.predict(input)\n",
        "    rf_meta_preds = rf_model.predict(input)\n",
        "    xgb_meta_preds = xgb_model.predict(input)\n",
        "    dnn_meta_preds = dnn_model.predict(input)\n",
        "\n",
        "    meta_input = np.hstack((mlp_meta_preds, rf_meta_preds, xgb_meta_preds, dnn_meta_preds))\n",
        "    meta_predictions = meta_model.predict(meta_input)\n",
        "\n",
        "    R1, R2, R3 = meta_predictions[0], meta_predictions[1], meta_predictions[2]\n",
        "    return R1, R2, R3\n"
      ],
      "metadata": {
        "id": "MocOwtdqw3dL"
      },
      "execution_count": null,
      "outputs": []
    },
    {
      "cell_type": "code",
      "source": [
        "from typing import List, Tuple, Dict\n",
        "import random\n",
        "import numpy as np\n",
        "import pickle\n",
        "import time\n",
        "\n",
        "N_INPUT_x_ANTENNA = 4\n",
        "def temp_schedule_lineal(t0,tf,pje):\n",
        "    t = t0 + (tf-t0)*pje\n",
        "    return t\n",
        "\n",
        "def temp_schedule_exp(t0,tf,pje):\n",
        "    return t0 * pow(tf/t0,pje)\n",
        "\n",
        "def calc_score(R1:float,R2:float,R3:float):\n",
        "    u1=100.-max(R1,R2,R3)\n",
        "    u2=100.-(R1+R2+R3)/3.\n",
        "    score1 = (u1 - u10) * invu10\n",
        "    score2 = (u2 - u20) * invu20\n",
        "    score = (score1 + score2) * score_scale\n",
        "    return score\n",
        "\n",
        "# def get_prediction(values)->float:\n",
        "#     val  = np.array(values)\n",
        "#     val = val.reshape(1,-1)\n",
        "#     R1,R2,R3 = model.predict(val)[0]\n",
        "#     return calc_score(R1,R2,R3)\n",
        "\n",
        "def get_prediction(values):\n",
        "    # Obtén las predicciones parciales y finales\n",
        "    R1, R2, R3 = meta_predict(values)\n",
        "    return calc_score(R1, R2, R3)\n",
        "\n",
        "class State:\n",
        "    def __init__(self,case:int,parameters:List[List[int]]):\n",
        "        self.case: int = case\n",
        "        self.indices: List[int] = []\n",
        "        self.values: List[int] = []\n",
        "        self.parameters: List[List[int]] = parameters\n",
        "        self.next_state_ants:List[int] = [0,0,0]\n",
        "        self.next_state_old_idxs:List[int] = [0,0,0]\n",
        "        self.next_tipo:int\n",
        "        self.sitios = [[0,1,2],[3,4,5],[6,7,8],[9,10],[11,12,13],[14,15,16],[17,18],[19,20,21],[22,23,24],[25,26,27],[28,29],[30,31,32],[33,34,35],[36,37,38],[39,40,41],[42,43],[44,45,46],[47,48,49],[53,54,55]]\n",
        "\n",
        "    def gen_inicial(self):\n",
        "        self.indices = [0]*56\n",
        "        for ant in range(56):\n",
        "            for j in range(N_INPUT_x_ANTENNA):\n",
        "                self.values.append(self.parameters[ant*20 + self.indices[ant]][j])\n",
        "\n",
        "    def gen_best(self):\n",
        "        indices_caso = [[7,15,6,19,11,12,5,11,11,1,5,12,18,18,13,6,17,8,19,7,17,5,14,8,1,13,13,6,19,19,15,16,11,6,2,4,3,10,16,8,14,2,10,10,6,7,10,2,3,16,19,6,17,2,6,10],\n",
        "                                  [1,16,12,16,14,11,14,8,6,2,12,18,16,3,14,10,19,15,17,3,6,3,1,14,19,13,3,1,1,19,5,5,8,12,4,0,13,4,15,8,12,11,8,6,6,1,19,15,12,17,13,8,1,17,12,3],\n",
        "                                   [5,14,14,10,1,10,4,19,6,8,9,9,3,15,10,2,12,0,6,16,2,16,13,1,19,2,11,16,1,6,13,8,13,18,8,0,1,1,12,0,10,4,3,12,12,9,11,10,3,7,1,11,7,8,1,7],\n",
        "                            [12,0,1,16,10,7,15,2,7,3,0,12,10,14,14,10,14,12,14,8,4,9,10,16,8,15,1,13,14,10,17,16,4,3,16,0,14,8,2,4,18,4,7,5,9,4,9,5,3,3,6,14,14,2,15,14],\n",
        "                            [16,11,1,12,9,0,15,16,7,17,10,2,11,14,12,4,0,3,10,17,19,12,12,10,5,1,15,13,9,6,19,5,11,13,12,12,5,13,15,9,9,14,19,8,3,8,3,8,7,18,5,8,14,18,12,14],\n",
        "                            [14,12,19,10,13,5,3,11,1,2,7,6,5,4,10,9,0,9,3,2,9,0,1,6,8,2,6,16,7,2,2,14,9,4,9,0,17,4,13,9,14,7,17,11,13,5,12,14,7,16,8,5,11,14,8,13]]\n",
        "\n",
        "\n",
        "        self.indices = indices_caso[self.case]\n",
        "        self.values = []\n",
        "        for ant in range(56):\n",
        "            for j in range(N_INPUT_x_ANTENNA):\n",
        "                self.values.append(self.parameters[ant * 20 + self.indices[ant]][j])\n",
        "        print(self.values)\n",
        "\n",
        "    def gen_subrandom(self):\n",
        "        self.indices = [random.randint(0,19) for _ in range(56)]\n",
        "        self.indices[6] = 8\n",
        "        self.indices[7] = 14 # 10\n",
        "        self.indices[8] =  18 # 17\n",
        "        self.indices[9] =  12\n",
        "        self.indices[10] = 2\n",
        "        self.indices[11] =  11\n",
        "        self.indices[12] =  17 # 9\n",
        "        self.indices[13] =  13\n",
        "        self.indices[14] =  8 #0\n",
        "        self.values = []\n",
        "        for ant in range(56):\n",
        "            for j in range(N_INPUT_x_ANTENNA):\n",
        "                self.values.append(self.parameters[ant*20 + self.indices[ant]][j])\n",
        "\n",
        "    def gen_random(self):\n",
        "        self.indices = [random.randint(0,19) for _ in range(56)]\n",
        "        self.values = []\n",
        "        for ant in range(56):\n",
        "            for j in range(N_INPUT_x_ANTENNA):\n",
        "                self.values.append(self.parameters[ant*20 + self.indices[ant]][j])\n",
        "\n",
        "    def upd_all_values(self):\n",
        "        for ant in range(56):\n",
        "            self.upd_values(ant)\n",
        "\n",
        "\n",
        "    def upd_values(self,antenna:int):\n",
        "        self.values[antenna*N_INPUT_x_ANTENNA:antenna*N_INPUT_x_ANTENNA+N_INPUT_x_ANTENNA] = self.parameters[antenna*20 + self.indices[antenna]][:]\n",
        "\n",
        "\n",
        "    def next_state(self):\n",
        "        self.next_tipo = np.random.randint(3)\n",
        "\n",
        "        if self.next_tipo==2:\n",
        "            sitio = np.random.randint(19)\n",
        "            self.next_tipo = len(self.sitios[sitio])-1\n",
        "            for i in range(self.next_tipo+1):\n",
        "                ant = self.sitios[sitio][i]\n",
        "                self.next_state_ants[i] = ant\n",
        "                self.next_state_old_idxs[i] = self.indices[ant]\n",
        "                self.indices[ant] = np.random.randint(20)\n",
        "                self.upd_values(ant)\n",
        "        else:\n",
        "            self.next_state_ants[0] = np.random.randint(56)\n",
        "            self.next_state_old_idxs[0] = self.indices[self.next_state_ants[0]]\n",
        "            self.indices[self.next_state_ants[0]] = np.random.randint(20)\n",
        "            while self.next_state_old_idxs[0]==self.indices[self.next_state_ants[0]]:\n",
        "                self.indices[self.next_state_ants[0]] = np.random.randint(20)\n",
        "            self.upd_values(self.next_state_ants[0])\n",
        "\n",
        "            if self.next_tipo == 1:\n",
        "                self.next_state_ants[1] = np.random.randint(56)\n",
        "                while self.next_state_ants[1]==self.next_state_ants[0]:\n",
        "                    self.next_state_ants[1] = np.random.randint(56)\n",
        "                self.next_state_old_idxs[1] = self.indices[self.next_state_ants[1]]\n",
        "                self.indices[self.next_state_ants[1]] = np.random.randint(20)\n",
        "                while self.next_state_old_idxs[1]==self.indices[self.next_state_ants[1]]:\n",
        "                    self.indices[self.next_state_ants[1]] = np.random.randint(20)\n",
        "                self.upd_values(self.next_state_ants[1])\n",
        "\n",
        "\n",
        "        return self.calc_state_score()\n",
        "\n",
        "\n",
        "    def undo_next_state(self):\n",
        "        for i in range(self.next_tipo+1):\n",
        "            self.indices[self.next_state_ants[i]] = self.next_state_old_idxs[i]\n",
        "            self.upd_values(self.next_state_ants[i])\n",
        "\n",
        "\n",
        "    def calc_state_score(self):\n",
        "        return get_prediction(self.values)\n",
        "\n",
        "def sa(state:State,score:float,iters:int):\n",
        "    best_score = score\n",
        "    best_indices = state.indices.copy()\n",
        "    t0 = 10\n",
        "    tf = .1\n",
        "    loop_iters = 20\n",
        "    iters //= loop_iters\n",
        "    for it in range(iters):\n",
        "        if divmod(it,4095)[1] == 0:\n",
        "            print(it,score)\n",
        "        temp = temp_schedule_exp(t0,tf,it/iters)\n",
        "        for _ in range(loop_iters):\n",
        "            new_score = state.next_state()\n",
        "            if new_score<score and (score - new_score>20 or np.exp((new_score-score)/temp)) < np.random.uniform():\n",
        "                state.undo_next_state()\n",
        "                continue\n",
        "            score = new_score\n",
        "            if score > best_score:\n",
        "                best_score=score\n",
        "                best_indices = state.indices.copy()\n",
        "\n",
        "    return best_score,best_indices\n",
        "\n",
        "def HC(state:State,score:float,iters:int):\n",
        "    for it in range(iters):\n",
        "        new_score = state.next_state()\n",
        "        if new_score<score:\n",
        "            state.undo_next_state()\n",
        "            continue\n",
        "        score=new_score\n",
        "\n",
        "    indices = state.indices.copy()\n",
        "    return score,indices\n",
        "\n",
        "def HC_less(state:State,score:float,iters:int):\n",
        "    for it in range(iters):\n",
        "        new_score = state.next_state()\n",
        "        if new_score>score:\n",
        "            state.undo_next_state()\n",
        "            continue\n",
        "        score=new_score\n",
        "\n",
        "    indices = state.indices.copy()\n",
        "    return score,indices\n",
        "\n",
        "def LAHC(state:State,score:float,iters:int):\n",
        "    MEMORY_SZ = 20\n",
        "    best_score = score\n",
        "    best_indices = state.indices.copy()\n",
        "    score_memory = np.full(MEMORY_SZ,best_score)\n",
        "    idx = 0\n",
        "    for it in range(iters):\n",
        "        alt_score = state.next_state()\n",
        "        if alt_score>=score or alt_score>=score_memory[idx]:\n",
        "            score = alt_score\n",
        "            if score > best_score:\n",
        "                best_score = score\n",
        "                best_indices = state.indices.copy()\n",
        "        else:\n",
        "            state.undo_next_state()\n",
        "\n",
        "        score_memory[idx] = score\n",
        "        idx += 1\n",
        "        if idx==MEMORY_SZ: idx=0\n",
        "    return score,best_indices\n",
        "\n",
        "def load_predictor():\n",
        "    with open(\"Models_saves/Meta_Models/meta_model.pkl\",\"rb\") as f:\n",
        "        model = pickle.load(f)\n",
        "    return model\n",
        "\n",
        "def load_patterns():\n",
        "    patterns=[]\n",
        "    filename = \"attachment_info/patterns.csv\"\n",
        "    with open(filename,\"r\") as f:\n",
        "        head = f.readline().strip()\n",
        "        for p in range(17):\n",
        "            este = f.readline().strip().split()[1:]\n",
        "            este = [int(i) for i in este]\n",
        "            patterns.append(este)\n",
        "    return patterns\n",
        "\n",
        "def load_cases():\n",
        "    case_parameters:List[List[List[int]]]=[]\n",
        "    for case in range(6):\n",
        "        filename = \"attachment_info/CASE_\" + str(case) + \".csv\"\n",
        "        with open(filename,\"r\") as f:\n",
        "            head = f.readline().strip()\n",
        "            este = [f.readline().strip().split(\",\")[2:] for _ in range(20 * 56)]\n",
        "            este = [[int(i) for i in j] for j in este]\n",
        "            for e in este:\n",
        "                pat = PATTERNS[e[-1]]\n",
        "                e[-1] = pat[0]\n",
        "                e.append(pat[1])\n",
        "\n",
        "            case_parameters.append(este)\n",
        "    return case_parameters\n",
        "\n",
        "def load_indices_usados():\n",
        "    used=[]\n",
        "    for caso in range(6):\n",
        "        used.append(set())\n",
        "        filename = \"indices_usados_\" + str(caso) + \".txt\"\n",
        "        try:\n",
        "            with open(filename,\"r\") as f:\n",
        "                for line in f:\n",
        "                    integers = tuple(int(x) for x in line.strip().split())\n",
        "                    used[caso].add(integers)\n",
        "        except Exception:\n",
        "            pass\n",
        "\n",
        "\n",
        "    return used\n",
        "\n",
        "PATTERNS = load_patterns()\n",
        "case_parameters = load_cases()\n",
        "# model = load_predictor()\n",
        "model = meta_model\n",
        "u10 = 77.368574063\n",
        "u20 = 83.907946914\n",
        "invu10 = 10./(100. - u10)\n",
        "invu20 = 1./(100 - u20)\n",
        "score_scale = 100./11.\n",
        "\n",
        "#indices_usados = load_indices_usados()\n",
        "random.seed(time.time())\n",
        "\n",
        "\n",
        "for ran in range(10):\n",
        "    filename = \"nuevos_indices_\" + str(ran) + \".txt\"\n",
        "    with open(filename,\"w\") as f:\n",
        "        f.write(\"[\")\n",
        "        for caso in range(6):\n",
        "            iters = 5000 if caso==0 else 100\n",
        "            scores = set()\n",
        "            for t in range(50):\n",
        "                state = State(caso,case_parameters[caso])\n",
        "                state.gen_best()\n",
        "                score = state.calc_state_score()\n",
        "                if t:\n",
        "                    score,best_indices = HC(state,score,iters)\n",
        "                    if score in scores:\n",
        "                        t -= 1\n",
        "                        continue\n",
        "                else:\n",
        "                    best_indices = state.indices.copy()\n",
        "                #\tif best_indices in indices_usados[caso]: continue\n",
        "                scores.add(score)\n",
        "                print(\"caso:\",caso,\" len:\",len(scores),\" score:\",score)\n",
        "                #\tindices_usados[caso].add(best_indices)\n",
        "                f.write('[')\n",
        "                f.write(','.join(map(str,best_indices)))\n",
        "                if caso!=5 or t+1<50:\n",
        "                    f.write(\"],\\n\")\n",
        "                else:\n",
        "                    f.write(\"]\")\n",
        "                if len(scores)==50: break\n",
        "            f.flush()\n",
        "        f.write(']')\n",
        "\n",
        "\n",
        "#\n",
        "# for caso in range(6):\n",
        "# \tfilename = \"indices_usados_\" + str(caso) + \".txt\"\n",
        "# \twith open(filename,\"w\") as f:\n",
        "# \t\tfor line in indices_usados[caso]:\n",
        "# \t\t\tf.write(' '.join(map(str,line)))\n",
        "# \t\t\tf.write('\\n')\n"
      ],
      "metadata": {
        "id": "MLdoScZWvFI2",
        "outputId": "5e746aa6-8354-44df-fa7f-af6c906460c1",
        "colab": {
          "base_uri": "https://localhost:8080/",
          "height": 394
        }
      },
      "execution_count": 36,
      "outputs": [
        {
          "output_type": "stream",
          "name": "stdout",
          "text": [
            "[90, 13, 25, 6, 250, 7, 45, 25, 350, 7, 90, 12, 335, 13, 110, 25, 135, 16, 90, 6, 205, 7, 110, 6, 160, -7, 25, 25, 10, 5, 25, 25, 240, 13, 25, 25, 80, 11, 25, 12, 330, 7, 110, 6, 325, 18, 25, 12, 160, 11, 45, 25, 105, 6, 110, 12, 230, -7, 65, 12, 160, -3, 90, 12, 330, 13, 65, 6, 110, 9, 25, 12, 330, 13, 25, 12, 165, 18, 15, 12, 40, 8, 15, 25, 310, 10, 25, 12, 210, 20, 45, 6, 350, 14, 15, 12, 80, 20, 15, 12, 160, 5, 45, 6, 30, 11, 25, 25, 280, 1, 65, 12, 270, 10, 25, 6, 110, -8, 105, 6, 275, 22, 15, 25, 20, 14, 15, 25, 145, 19, 45, 12, 130, -8, 105, 6, 210, 2, 25, 25, 30, -8, 110, 25, 160, 14, 110, 25, 220, 2, 25, 6, 320, 18, 65, 6, 280, -5, 45, 25, 170, -7, 65, 12, 0, 13, 45, 25, 200, -5, 25, 25, 10, 3, 25, 6, 160, 13, 25, 12, 25, 13, 25, 6, 245, 11, 65, 6, 310, 13, 45, 12, 220, 1, 110, 25, 100, -7, 110, 12, 240, 17, 25, 6, 130, 14, 15, 12, 10, 17, 25, 6, 280, 25, 45, 6, 150, 16, 25, 6, 70, 15, 110, 25]\n"
          ]
        },
        {
          "output_type": "error",
          "ename": "ValueError",
          "evalue": "X has 224 features, but RandomForestRegressor is expecting 12 features as input.",
          "traceback": [
            "\u001b[0;31m---------------------------------------------------------------------------\u001b[0m",
            "\u001b[0;31mValueError\u001b[0m                                Traceback (most recent call last)",
            "\u001b[0;32m<ipython-input-36-bcc0641172c4>\u001b[0m in \u001b[0;36m<cell line: 265>\u001b[0;34m()\u001b[0m\n\u001b[1;32m    273\u001b[0m                 \u001b[0mstate\u001b[0m \u001b[0;34m=\u001b[0m \u001b[0mState\u001b[0m\u001b[0;34m(\u001b[0m\u001b[0mcaso\u001b[0m\u001b[0;34m,\u001b[0m\u001b[0mcase_parameters\u001b[0m\u001b[0;34m[\u001b[0m\u001b[0mcaso\u001b[0m\u001b[0;34m]\u001b[0m\u001b[0;34m)\u001b[0m\u001b[0;34m\u001b[0m\u001b[0;34m\u001b[0m\u001b[0m\n\u001b[1;32m    274\u001b[0m                 \u001b[0mstate\u001b[0m\u001b[0;34m.\u001b[0m\u001b[0mgen_best\u001b[0m\u001b[0;34m(\u001b[0m\u001b[0;34m)\u001b[0m\u001b[0;34m\u001b[0m\u001b[0;34m\u001b[0m\u001b[0m\n\u001b[0;32m--> 275\u001b[0;31m                 \u001b[0mscore\u001b[0m \u001b[0;34m=\u001b[0m \u001b[0mstate\u001b[0m\u001b[0;34m.\u001b[0m\u001b[0mcalc_state_score\u001b[0m\u001b[0;34m(\u001b[0m\u001b[0;34m)\u001b[0m\u001b[0;34m\u001b[0m\u001b[0;34m\u001b[0m\u001b[0m\n\u001b[0m\u001b[1;32m    276\u001b[0m                 \u001b[0;32mif\u001b[0m \u001b[0mt\u001b[0m\u001b[0;34m:\u001b[0m\u001b[0;34m\u001b[0m\u001b[0;34m\u001b[0m\u001b[0m\n\u001b[1;32m    277\u001b[0m                     \u001b[0mscore\u001b[0m\u001b[0;34m,\u001b[0m\u001b[0mbest_indices\u001b[0m \u001b[0;34m=\u001b[0m \u001b[0mHC\u001b[0m\u001b[0;34m(\u001b[0m\u001b[0mstate\u001b[0m\u001b[0;34m,\u001b[0m\u001b[0mscore\u001b[0m\u001b[0;34m,\u001b[0m\u001b[0miters\u001b[0m\u001b[0;34m)\u001b[0m\u001b[0;34m\u001b[0m\u001b[0;34m\u001b[0m\u001b[0m\n",
            "\u001b[0;32m<ipython-input-36-bcc0641172c4>\u001b[0m in \u001b[0;36mcalc_state_score\u001b[0;34m(self)\u001b[0m\n\u001b[1;32m    133\u001b[0m \u001b[0;34m\u001b[0m\u001b[0m\n\u001b[1;32m    134\u001b[0m     \u001b[0;32mdef\u001b[0m \u001b[0mcalc_state_score\u001b[0m\u001b[0;34m(\u001b[0m\u001b[0mself\u001b[0m\u001b[0;34m)\u001b[0m\u001b[0;34m:\u001b[0m\u001b[0;34m\u001b[0m\u001b[0;34m\u001b[0m\u001b[0m\n\u001b[0;32m--> 135\u001b[0;31m         \u001b[0;32mreturn\u001b[0m \u001b[0mget_prediction\u001b[0m\u001b[0;34m(\u001b[0m\u001b[0mself\u001b[0m\u001b[0;34m.\u001b[0m\u001b[0mvalues\u001b[0m\u001b[0;34m)\u001b[0m\u001b[0;34m\u001b[0m\u001b[0;34m\u001b[0m\u001b[0m\n\u001b[0m\u001b[1;32m    136\u001b[0m \u001b[0;34m\u001b[0m\u001b[0m\n\u001b[1;32m    137\u001b[0m \u001b[0;32mdef\u001b[0m \u001b[0msa\u001b[0m\u001b[0;34m(\u001b[0m\u001b[0mstate\u001b[0m\u001b[0;34m:\u001b[0m\u001b[0mState\u001b[0m\u001b[0;34m,\u001b[0m\u001b[0mscore\u001b[0m\u001b[0;34m:\u001b[0m\u001b[0mfloat\u001b[0m\u001b[0;34m,\u001b[0m\u001b[0miters\u001b[0m\u001b[0;34m:\u001b[0m\u001b[0mint\u001b[0m\u001b[0;34m)\u001b[0m\u001b[0;34m:\u001b[0m\u001b[0;34m\u001b[0m\u001b[0;34m\u001b[0m\u001b[0m\n",
            "\u001b[0;32m<ipython-input-36-bcc0641172c4>\u001b[0m in \u001b[0;36mget_prediction\u001b[0;34m(values)\u001b[0m\n\u001b[1;32m     24\u001b[0m     \u001b[0mval\u001b[0m  \u001b[0;34m=\u001b[0m \u001b[0mnp\u001b[0m\u001b[0;34m.\u001b[0m\u001b[0marray\u001b[0m\u001b[0;34m(\u001b[0m\u001b[0mvalues\u001b[0m\u001b[0;34m)\u001b[0m\u001b[0;34m\u001b[0m\u001b[0;34m\u001b[0m\u001b[0m\n\u001b[1;32m     25\u001b[0m     \u001b[0mval\u001b[0m \u001b[0;34m=\u001b[0m \u001b[0mval\u001b[0m\u001b[0;34m.\u001b[0m\u001b[0mreshape\u001b[0m\u001b[0;34m(\u001b[0m\u001b[0;36m1\u001b[0m\u001b[0;34m,\u001b[0m\u001b[0;34m-\u001b[0m\u001b[0;36m1\u001b[0m\u001b[0;34m)\u001b[0m\u001b[0;34m\u001b[0m\u001b[0;34m\u001b[0m\u001b[0m\n\u001b[0;32m---> 26\u001b[0;31m     \u001b[0mR1\u001b[0m\u001b[0;34m,\u001b[0m\u001b[0mR2\u001b[0m\u001b[0;34m,\u001b[0m\u001b[0mR3\u001b[0m \u001b[0;34m=\u001b[0m \u001b[0mmodel\u001b[0m\u001b[0;34m.\u001b[0m\u001b[0mpredict\u001b[0m\u001b[0;34m(\u001b[0m\u001b[0mval\u001b[0m\u001b[0;34m)\u001b[0m\u001b[0;34m[\u001b[0m\u001b[0;36m0\u001b[0m\u001b[0;34m]\u001b[0m\u001b[0;34m\u001b[0m\u001b[0;34m\u001b[0m\u001b[0m\n\u001b[0m\u001b[1;32m     27\u001b[0m     \u001b[0;32mreturn\u001b[0m \u001b[0mcalc_score\u001b[0m\u001b[0;34m(\u001b[0m\u001b[0mR1\u001b[0m\u001b[0;34m,\u001b[0m\u001b[0mR2\u001b[0m\u001b[0;34m,\u001b[0m\u001b[0mR3\u001b[0m\u001b[0;34m)\u001b[0m\u001b[0;34m\u001b[0m\u001b[0;34m\u001b[0m\u001b[0m\n\u001b[1;32m     28\u001b[0m \u001b[0;34m\u001b[0m\u001b[0m\n",
            "\u001b[0;32m/usr/local/lib/python3.10/dist-packages/sklearn/ensemble/_forest.py\u001b[0m in \u001b[0;36mpredict\u001b[0;34m(self, X)\u001b[0m\n\u001b[1;32m    979\u001b[0m         \u001b[0mcheck_is_fitted\u001b[0m\u001b[0;34m(\u001b[0m\u001b[0mself\u001b[0m\u001b[0;34m)\u001b[0m\u001b[0;34m\u001b[0m\u001b[0;34m\u001b[0m\u001b[0m\n\u001b[1;32m    980\u001b[0m         \u001b[0;31m# Check data\u001b[0m\u001b[0;34m\u001b[0m\u001b[0;34m\u001b[0m\u001b[0m\n\u001b[0;32m--> 981\u001b[0;31m         \u001b[0mX\u001b[0m \u001b[0;34m=\u001b[0m \u001b[0mself\u001b[0m\u001b[0;34m.\u001b[0m\u001b[0m_validate_X_predict\u001b[0m\u001b[0;34m(\u001b[0m\u001b[0mX\u001b[0m\u001b[0;34m)\u001b[0m\u001b[0;34m\u001b[0m\u001b[0;34m\u001b[0m\u001b[0m\n\u001b[0m\u001b[1;32m    982\u001b[0m \u001b[0;34m\u001b[0m\u001b[0m\n\u001b[1;32m    983\u001b[0m         \u001b[0;31m# Assign chunk of trees to jobs\u001b[0m\u001b[0;34m\u001b[0m\u001b[0;34m\u001b[0m\u001b[0m\n",
            "\u001b[0;32m/usr/local/lib/python3.10/dist-packages/sklearn/ensemble/_forest.py\u001b[0m in \u001b[0;36m_validate_X_predict\u001b[0;34m(self, X)\u001b[0m\n\u001b[1;32m    600\u001b[0m         Validate X whenever one tries to predict, apply, predict_proba.\"\"\"\n\u001b[1;32m    601\u001b[0m         \u001b[0mcheck_is_fitted\u001b[0m\u001b[0;34m(\u001b[0m\u001b[0mself\u001b[0m\u001b[0;34m)\u001b[0m\u001b[0;34m\u001b[0m\u001b[0;34m\u001b[0m\u001b[0m\n\u001b[0;32m--> 602\u001b[0;31m         \u001b[0mX\u001b[0m \u001b[0;34m=\u001b[0m \u001b[0mself\u001b[0m\u001b[0;34m.\u001b[0m\u001b[0m_validate_data\u001b[0m\u001b[0;34m(\u001b[0m\u001b[0mX\u001b[0m\u001b[0;34m,\u001b[0m \u001b[0mdtype\u001b[0m\u001b[0;34m=\u001b[0m\u001b[0mDTYPE\u001b[0m\u001b[0;34m,\u001b[0m \u001b[0maccept_sparse\u001b[0m\u001b[0;34m=\u001b[0m\u001b[0;34m\"csr\"\u001b[0m\u001b[0;34m,\u001b[0m \u001b[0mreset\u001b[0m\u001b[0;34m=\u001b[0m\u001b[0;32mFalse\u001b[0m\u001b[0;34m)\u001b[0m\u001b[0;34m\u001b[0m\u001b[0;34m\u001b[0m\u001b[0m\n\u001b[0m\u001b[1;32m    603\u001b[0m         \u001b[0;32mif\u001b[0m \u001b[0missparse\u001b[0m\u001b[0;34m(\u001b[0m\u001b[0mX\u001b[0m\u001b[0;34m)\u001b[0m \u001b[0;32mand\u001b[0m \u001b[0;34m(\u001b[0m\u001b[0mX\u001b[0m\u001b[0;34m.\u001b[0m\u001b[0mindices\u001b[0m\u001b[0;34m.\u001b[0m\u001b[0mdtype\u001b[0m \u001b[0;34m!=\u001b[0m \u001b[0mnp\u001b[0m\u001b[0;34m.\u001b[0m\u001b[0mintc\u001b[0m \u001b[0;32mor\u001b[0m \u001b[0mX\u001b[0m\u001b[0;34m.\u001b[0m\u001b[0mindptr\u001b[0m\u001b[0;34m.\u001b[0m\u001b[0mdtype\u001b[0m \u001b[0;34m!=\u001b[0m \u001b[0mnp\u001b[0m\u001b[0;34m.\u001b[0m\u001b[0mintc\u001b[0m\u001b[0;34m)\u001b[0m\u001b[0;34m:\u001b[0m\u001b[0;34m\u001b[0m\u001b[0;34m\u001b[0m\u001b[0m\n\u001b[1;32m    604\u001b[0m             \u001b[0;32mraise\u001b[0m \u001b[0mValueError\u001b[0m\u001b[0;34m(\u001b[0m\u001b[0;34m\"No support for np.int64 index based sparse matrices\"\u001b[0m\u001b[0;34m)\u001b[0m\u001b[0;34m\u001b[0m\u001b[0;34m\u001b[0m\u001b[0m\n",
            "\u001b[0;32m/usr/local/lib/python3.10/dist-packages/sklearn/base.py\u001b[0m in \u001b[0;36m_validate_data\u001b[0;34m(self, X, y, reset, validate_separately, **check_params)\u001b[0m\n\u001b[1;32m    586\u001b[0m \u001b[0;34m\u001b[0m\u001b[0m\n\u001b[1;32m    587\u001b[0m         \u001b[0;32mif\u001b[0m \u001b[0;32mnot\u001b[0m \u001b[0mno_val_X\u001b[0m \u001b[0;32mand\u001b[0m \u001b[0mcheck_params\u001b[0m\u001b[0;34m.\u001b[0m\u001b[0mget\u001b[0m\u001b[0;34m(\u001b[0m\u001b[0;34m\"ensure_2d\"\u001b[0m\u001b[0;34m,\u001b[0m \u001b[0;32mTrue\u001b[0m\u001b[0;34m)\u001b[0m\u001b[0;34m:\u001b[0m\u001b[0;34m\u001b[0m\u001b[0;34m\u001b[0m\u001b[0m\n\u001b[0;32m--> 588\u001b[0;31m             \u001b[0mself\u001b[0m\u001b[0;34m.\u001b[0m\u001b[0m_check_n_features\u001b[0m\u001b[0;34m(\u001b[0m\u001b[0mX\u001b[0m\u001b[0;34m,\u001b[0m \u001b[0mreset\u001b[0m\u001b[0;34m=\u001b[0m\u001b[0mreset\u001b[0m\u001b[0;34m)\u001b[0m\u001b[0;34m\u001b[0m\u001b[0;34m\u001b[0m\u001b[0m\n\u001b[0m\u001b[1;32m    589\u001b[0m \u001b[0;34m\u001b[0m\u001b[0m\n\u001b[1;32m    590\u001b[0m         \u001b[0;32mreturn\u001b[0m \u001b[0mout\u001b[0m\u001b[0;34m\u001b[0m\u001b[0;34m\u001b[0m\u001b[0m\n",
            "\u001b[0;32m/usr/local/lib/python3.10/dist-packages/sklearn/base.py\u001b[0m in \u001b[0;36m_check_n_features\u001b[0;34m(self, X, reset)\u001b[0m\n\u001b[1;32m    387\u001b[0m \u001b[0;34m\u001b[0m\u001b[0m\n\u001b[1;32m    388\u001b[0m         \u001b[0;32mif\u001b[0m \u001b[0mn_features\u001b[0m \u001b[0;34m!=\u001b[0m \u001b[0mself\u001b[0m\u001b[0;34m.\u001b[0m\u001b[0mn_features_in_\u001b[0m\u001b[0;34m:\u001b[0m\u001b[0;34m\u001b[0m\u001b[0;34m\u001b[0m\u001b[0m\n\u001b[0;32m--> 389\u001b[0;31m             raise ValueError(\n\u001b[0m\u001b[1;32m    390\u001b[0m                 \u001b[0;34mf\"X has {n_features} features, but {self.__class__.__name__} \"\u001b[0m\u001b[0;34m\u001b[0m\u001b[0;34m\u001b[0m\u001b[0m\n\u001b[1;32m    391\u001b[0m                 \u001b[0;34mf\"is expecting {self.n_features_in_} features as input.\"\u001b[0m\u001b[0;34m\u001b[0m\u001b[0;34m\u001b[0m\u001b[0m\n",
            "\u001b[0;31mValueError\u001b[0m: X has 224 features, but RandomForestRegressor is expecting 12 features as input."
          ]
        }
      ]
    },
    {
      "cell_type": "code",
      "source": [
        "val"
      ],
      "metadata": {
        "id": "-SM3rooexh_4",
        "outputId": "03efbddf-4851-4a4c-d045-3fd68c998bb6",
        "colab": {
          "base_uri": "https://localhost:8080/",
          "height": 141
        }
      },
      "execution_count": 40,
      "outputs": [
        {
          "output_type": "error",
          "ename": "NameError",
          "evalue": "name 'val' is not defined",
          "traceback": [
            "\u001b[0;31m---------------------------------------------------------------------------\u001b[0m",
            "\u001b[0;31mNameError\u001b[0m                                 Traceback (most recent call last)",
            "\u001b[0;32m<ipython-input-40-22e33626e689>\u001b[0m in \u001b[0;36m<cell line: 1>\u001b[0;34m()\u001b[0m\n\u001b[0;32m----> 1\u001b[0;31m \u001b[0mval\u001b[0m\u001b[0;34m\u001b[0m\u001b[0;34m\u001b[0m\u001b[0m\n\u001b[0m",
            "\u001b[0;31mNameError\u001b[0m: name 'val' is not defined"
          ]
        }
      ]
    }
  ],
  "metadata": {
    "colab": {
      "provenance": [],
      "gpuType": "T4"
    },
    "kernelspec": {
      "display_name": "Python 3",
      "name": "python3"
    },
    "language_info": {
      "codemirror_mode": {
        "name": "ipython",
        "version": 3
      },
      "file_extension": ".py",
      "mimetype": "text/x-python",
      "name": "python",
      "nbconvert_exporter": "python",
      "pygments_lexer": "ipython3",
      "version": "3.11.8"
    },
    "accelerator": "GPU"
  },
  "nbformat": 4,
  "nbformat_minor": 0
}