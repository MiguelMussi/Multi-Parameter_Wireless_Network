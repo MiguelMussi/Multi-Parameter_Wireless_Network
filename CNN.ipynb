{
  "nbformat": 4,
  "nbformat_minor": 0,
  "metadata": {
    "colab": {
      "provenance": []
    },
    "kernelspec": {
      "name": "python3",
      "display_name": "Python 3"
    },
    "language_info": {
      "name": "python"
    }
  },
  "cells": [
    {
      "cell_type": "markdown",
      "source": [
        "# Intro"
      ],
      "metadata": {
        "id": "3fcNZawl79Ot"
      }
    },
    {
      "cell_type": "markdown",
      "source": [
        "## Librerías"
      ],
      "metadata": {
        "id": "suHpURwM7_ZF"
      }
    },
    {
      "cell_type": "code",
      "source": [
        "# Data\n",
        "import cv2\n",
        "import numpy as np\n",
        "import math\n",
        "from google.colab.patches import cv2_imshow\n",
        "\n",
        "# Redes Neuronales\n",
        "import tensorflow as tf\n",
        "from tensorflow.keras.models import Model\n",
        "from tensorflow.keras.layers import Input, Conv2D, MaxPooling2D, Flatten, Dense, Dropout, BatchNormalization\n",
        "\n",
        "# Import/Export\n",
        "import pickle\n",
        "import joblib"
      ],
      "metadata": {
        "id": "99nt9KiL8Dod"
      },
      "execution_count": 1,
      "outputs": []
    },
    {
      "cell_type": "markdown",
      "source": [
        "## Representación Gráfica"
      ],
      "metadata": {
        "id": "-MvhNQFU8F4N"
      }
    },
    {
      "cell_type": "markdown",
      "source": [
        "### Pruebas"
      ],
      "metadata": {
        "id": "chu9-ZN-8NLV"
      }
    },
    {
      "cell_type": "code",
      "execution_count": 2,
      "metadata": {
        "colab": {
          "base_uri": "https://localhost:8080/",
          "height": 197
        },
        "id": "TvoLS3KJ2aDP",
        "outputId": "7d3b4aa2-7ad8-4438-c0c9-a712e46054c0"
      },
      "outputs": [
        {
          "output_type": "display_data",
          "data": {
            "text/plain": [
              "<PIL.Image.Image image mode=L size=180x180>"
            ],
            "image/png": "[encoded data removed]"
          },
          "metadata": {}
        }
      ],
      "source": [
        "def draw_antennas(image, antennas, attenuation):\n",
        "    # Convertir la imagen a escala de grises\n",
        "    gray_image = cv2.cvtColor(image, cv2.COLOR_BGR2GRAY)\n",
        "\n",
        "    # Iterar sobre las coordenadas de las antenas\n",
        "    for (x, y), azimuth in antennas:\n",
        "        # Origen del vector\n",
        "        origin = (x, y)\n",
        "\n",
        "        # Calcular el desplazamiento en x e y basado en el ángulo y la atenuación\n",
        "        dx = math.cos(math.radians(azimuth))\n",
        "        dy = math.sin(math.radians(azimuth))\n",
        "\n",
        "        # Dibujar el vector desde la antena hasta el límite definido por la atenuación\n",
        "        for i in range(attenuation):\n",
        "            # Calcular las coordenadas del punto a lo largo del vector\n",
        "            px = int(x + dx * i)\n",
        "            py = int(y + dy * i)\n",
        "\n",
        "            # Asegurarse de que las coordenadas estén dentro de la imagen\n",
        "            if 0 <= px < image.shape[1] and 0 <= py < image.shape[0]:\n",
        "                # Colorear el píxel en escala de grises\n",
        "                gray_image[py, px] = 0  # Negro\n",
        "                # Puedes ajustar el valor (0) para obtener diferentes tonos de gris\n",
        "\n",
        "    return gray_image\n",
        "\n",
        "# Definir las coordenadas de las antenas y sus direcciones de azimuth\n",
        "antennas = [((50, 50), 45), ((100, 100), 135), ((150, 50), 225)]\n",
        "\n",
        "# Tamaño de la imagen\n",
        "image_size = (180, 180)\n",
        "\n",
        "# Crear una imagen en blanco\n",
        "image = np.ones((image_size[0], image_size[1], 3), dtype=np.uint8) * 255\n",
        "\n",
        "# Definir la atenuación\n",
        "attenuation = 20  # Puedes ajustar este valor según sea necesario\n",
        "\n",
        "# Dibujar las antenas en la imagen\n",
        "result_image = draw_antennas(image, antennas, attenuation)\n",
        "\n",
        "# Mostrar la imagen resultante\n",
        "cv2_imshow(result_image)\n"
      ]
    },
    {
      "cell_type": "code",
      "source": [
        "def draw_antennas(image, antennas, attenuation):\n",
        "    # Convertir la imagen a escala de grises\n",
        "    gray_image = cv2.cvtColor(image, cv2.COLOR_BGR2GRAY)\n",
        "\n",
        "    # Iterar sobre las coordenadas de las antenas\n",
        "    for (x, y), azimuth in antennas:\n",
        "        # Origen del vector\n",
        "        origin = (x, y)\n",
        "\n",
        "        # Calcular el desplazamiento en x e y basado en el ángulo y la atenuación\n",
        "        dx = math.cos(math.radians(azimuth))\n",
        "        dy = math.sin(math.radians(azimuth))\n",
        "\n",
        "        # Dibujar el vector desde la antena hasta el límite definido por la atenuación\n",
        "        for i in range(attenuation):\n",
        "            # Calcular las coordenadas del punto a lo largo del vector\n",
        "            px = int(x + dx * i)\n",
        "            py = int(y + dy * i)\n",
        "\n",
        "            # Asegurarse de que las coordenadas estén dentro de la imagen\n",
        "            if 0 <= px < image.shape[1] and 0 <= py < image.shape[0]:\n",
        "                # Calcular la intensidad del píxel basada en la distancia al origen de la antena\n",
        "                intensity = int(255 * (1 - i / attenuation))  # Atenuación gradual\n",
        "\n",
        "                # Colorear el píxel en escala de grises\n",
        "                gray_image[py, px] = intensity\n",
        "\n",
        "    return gray_image\n",
        "\n",
        "# Definir las coordenadas de las antenas y sus direcciones de azimuth\n",
        "\n",
        "antennas = [\n",
        "    ((20, 30), 45),   # Antena 1\n",
        "    ((50, 70), 90),   # Antena 2\n",
        "    ((80, 110), 135), # Antena 3\n",
        "    ((110, 150), 180),# Antena 4\n",
        "    ((140, 30), 225), # Antena 5\n",
        "    ((170, 70), 270), # Antena 6\n",
        "    ((200, 110), 315),# Antena 7\n",
        "    ((230, 150), 0),  # Antena 8\n",
        "    ((100, 60), 45),  # Antena 9\n",
        "    ((180, 120), 180) # Antena 10\n",
        "]\n",
        "\n",
        "# Tamaño de la imagen\n",
        "image_size = (180, 180)\n",
        "\n",
        "# Crear una imagen en blanco\n",
        "image = np.ones((image_size[0], image_size[1], 3), dtype=np.uint8) * 255\n",
        "\n",
        "# Definir la atenuación\n",
        "attenuation = 50  # Puedes ajustar este valor según sea necesario\n",
        "\n",
        "# Dibujar las antenas en la imagen\n",
        "result_image = draw_antennas(image, antennas, attenuation)\n",
        "\n",
        "# Mostrar la imagen resultante\n",
        "cv2_imshow(result_image)\n"
      ],
      "metadata": {
        "colab": {
          "base_uri": "https://localhost:8080/",
          "height": 197
        },
        "id": "Pjyca5tx3Mqy",
        "outputId": "fbc36a05-e12b-4924-8bbb-de5e3d1fa04b"
      },
      "execution_count": 3,
      "outputs": [
        {
          "output_type": "display_data",
          "data": {
            "text/plain": [
              "<PIL.Image.Image image mode=L size=180x180>"
            ],
            "image/png": "[encoded data removed]"
          },
          "metadata": {}
        }
      ]
    },
    {
      "cell_type": "code",
      "source": [
        "def draw_antennas(image, antennas, attenuation):\n",
        "    # Convertir la imagen a escala de grises\n",
        "    gray_image = cv2.cvtColor(image, cv2.COLOR_BGR2GRAY)\n",
        "\n",
        "    # Iterar sobre las coordenadas de las antenas\n",
        "    for (x, y), azimuth, amplitude in antennas:\n",
        "        # Dibujar el sector circular para cada antena\n",
        "        for angle in range(azimuth - amplitude, azimuth + amplitude + 1):\n",
        "            # Calcular el desplazamiento en x e y basado en el ángulo\n",
        "            dx = math.cos(math.radians(angle))\n",
        "            dy = math.sin(math.radians(angle))\n",
        "\n",
        "            # Dibujar el vector desde la antena hasta el límite definido por la atenuación\n",
        "            for i in range(attenuation):\n",
        "                # Calcular las coordenadas del punto a lo largo del vector\n",
        "                px = int(x + dx * i)\n",
        "                py = int(y + dy * i)\n",
        "\n",
        "                # Asegurarse de que las coordenadas estén dentro de la imagen\n",
        "                if 0 <= px < image.shape[1] and 0 <= py < image.shape[0]:\n",
        "                    # Colorear el píxel en escala de grises\n",
        "                    gray_image[py, px] = 0  # Negro\n",
        "                    # Puedes ajustar el valor (0) para obtener diferentes tonos de gris\n",
        "\n",
        "    return gray_image\n",
        "\n",
        "# Definir las coordenadas de las antenas, sus direcciones de azimuth y amplitudes de ángulo\n",
        "antennas = [\n",
        "    ((50, 50), 45, 30),   # Antena 1\n",
        "    ((100, 100), 135, 45),   # Antena 2\n",
        "    ((150, 50), 225, 60)   # Antena 3\n",
        "    # Puedes agregar más antenas según sea necesario\n",
        "]\n",
        "\n",
        "# Tamaño de la imagen\n",
        "image_size = (180, 180)\n",
        "\n",
        "# Crear una imagen en blanco\n",
        "image = np.ones((image_size[0], image_size[1], 3), dtype=np.uint8) * 255\n",
        "\n",
        "# Definir la atenuación\n",
        "attenuation = 50  # Puedes ajustar este valor según sea necesario\n",
        "\n",
        "# Dibujar las antenas en la imagen\n",
        "result_image = draw_antennas(image, antennas, attenuation)\n",
        "\n",
        "# Mostrar la imagen resultante\n",
        "cv2_imshow(result_image)\n"
      ],
      "metadata": {
        "colab": {
          "base_uri": "https://localhost:8080/",
          "height": 197
        },
        "id": "7ibgoglr5l6n",
        "outputId": "f85bedb1-8d36-487e-813d-337096c99332"
      },
      "execution_count": 4,
      "outputs": [
        {
          "output_type": "display_data",
          "data": {
            "text/plain": [
              "<PIL.Image.Image image mode=L size=180x180>"
            ],
            "image/png": "[encoded data removed]"
          },
          "metadata": {}
        }
      ]
    },
    {
      "cell_type": "code",
      "source": [
        "def draw_antennas(image, antennas, attenuation):\n",
        "    # Convertir la imagen a escala de grises\n",
        "    gray_image = cv2.cvtColor(image, cv2.COLOR_BGR2GRAY)\n",
        "\n",
        "    # Iterar sobre las coordenadas de las antenas\n",
        "    for (x, y), azimuth, amplitude in antennas:\n",
        "        # Dibujar el sector circular para cada antena\n",
        "        for angle in range(azimuth - amplitude, azimuth + amplitude + 1):\n",
        "            # Calcular el desplazamiento en x e y basado en el ángulo\n",
        "            dx = math.cos(math.radians(angle))\n",
        "            dy = math.sin(math.radians(angle))\n",
        "\n",
        "            # Dibujar el vector desde la antena hasta el límite definido por la atenuación\n",
        "            for i in range(attenuation):\n",
        "                # Calcular las coordenadas del punto a lo largo del vector\n",
        "                px = int(x + dx * i)\n",
        "                py = int(y + dy * i)\n",
        "\n",
        "                # Asegurarse de que las coordenadas estén dentro de la imagen\n",
        "                if 0 <= px < image.shape[1] and 0 <= py < image.shape[0]:\n",
        "                    # Calcular la intensidad del píxel basada en la distancia al origen de la antena\n",
        "                    intensity = int(255 * (i / attenuation))  # Atenuación gradual inversa\n",
        "\n",
        "                    # Colorear el píxel en escala de grises\n",
        "                    gray_image[py, px] = intensity\n",
        "\n",
        "    return gray_image\n",
        "\n",
        "# Definir las coordenadas de las antenas, sus direcciones de azimuth y amplitudes de ángulo\n",
        "antennas = [\n",
        "    ((20, 30), 45, 30),   # Antena 1\n",
        "    ((50, 70), 90, 20),   # Antena 2\n",
        "    ((80, 110), 135, 40), # Antena 3\n",
        "    ((110, 150), 180, 25),# Antena 4\n",
        "    ((140, 30), 225, 30), # Antena 5\n",
        "    ((170, 70), 270, 35), # Antena 6\n",
        "    ((200, 110), 315, 20),# Antena 7\n",
        "    ((230, 150), 0, 45),  # Antena 8\n",
        "    ((100, 60), 45, 25),  # Antena 9\n",
        "    ((180, 120), 180, 30) # Antena 10\n",
        "]\n",
        "\n",
        "# Tamaño de la imagen\n",
        "image_size = (180, 180)\n",
        "\n",
        "# Crear una imagen en blanco\n",
        "image = np.ones((image_size[0], image_size[1], 3), dtype=np.uint8) * 255\n",
        "\n",
        "# Definir la atenuación\n",
        "attenuation = 25  # Puedes ajustar este valor según sea necesario\n",
        "\n",
        "# Dibujar las antenas en la imagen\n",
        "result_image = draw_antennas(image, antennas, attenuation)\n",
        "\n",
        "# Mostrar la imagen resultante\n",
        "cv2_imshow(result_image)\n"
      ],
      "metadata": {
        "colab": {
          "base_uri": "https://localhost:8080/",
          "height": 197
        },
        "id": "QX8eQf8A5ugu",
        "outputId": "aff67713-ad51-4dbc-da2f-54f42518ba25"
      },
      "execution_count": 5,
      "outputs": [
        {
          "output_type": "display_data",
          "data": {
            "text/plain": [
              "<PIL.Image.Image image mode=L size=180x180>"
            ],
            "image/png": "[encoded data removed]"
          },
          "metadata": {}
        }
      ]
    },
    {
      "cell_type": "code",
      "source": [
        "def draw_antennas(image, antenna_data, attenuation):\n",
        "    # Convertir la imagen a escala de grises\n",
        "    gray_image = cv2.cvtColor(image, cv2.COLOR_BGR2GRAY)\n",
        "\n",
        "    # Parsear la información de las antenas\n",
        "    antennas = parse_antennas(antenna_data)\n",
        "\n",
        "    # Iterar sobre las antenas\n",
        "    for (x, y), azimuth, amplitude in antennas:\n",
        "        # Dibujar el sector circular para cada antena\n",
        "        for angle in range(azimuth - amplitude, azimuth + amplitude + 1):\n",
        "            # Calcular el desplazamiento en x e y basado en el ángulo\n",
        "            dx = math.cos(math.radians(angle))\n",
        "            dy = math.sin(math.radians(angle))\n",
        "\n",
        "            # Dibujar el vector desde la antena hasta el límite definido por la atenuación\n",
        "            for i in range(attenuation):\n",
        "                # Calcular las coordenadas del punto a lo largo del vector\n",
        "                px = int(x + dx * i)\n",
        "                py = int(y + dy * i)\n",
        "\n",
        "                # Asegurarse de que las coordenadas estén dentro de la imagen\n",
        "                if 0 <= px < image.shape[1] and 0 <= py < image.shape[0]:\n",
        "                    # Calcular la intensidad del píxel basada en la distancia al origen de la antena\n",
        "                    intensity = int(255 * (i / attenuation))  # Atenuación gradual inversa\n",
        "\n",
        "                    # Colorear el píxel en escala de grises\n",
        "                    gray_image[py, px] = intensity\n",
        "\n",
        "    return gray_image\n",
        "\n",
        "def parse_antennas(antenna_list):\n",
        "    antennas = []\n",
        "    for i in range(0, len(antenna_list), 4):\n",
        "        x = antenna_list[i]\n",
        "        y = antenna_list[i + 1]\n",
        "        azimuth = antenna_list[i + 2]\n",
        "        amplitude = antenna_list[i + 3]\n",
        "        antennas.append(((x, y), azimuth, amplitude))\n",
        "    return antennas\n",
        "\n",
        "# Tamaño de la imagen\n",
        "image_size = (180, 180)\n",
        "\n",
        "# Crear una imagen en blanco\n",
        "image = np.ones((image_size[0], image_size[1], 3), dtype=np.uint8) * 255\n",
        "\n",
        "# Lista de antenas en formato cíclico (x, y, azimuth, amplitud)\n",
        "antenna_data = [\n",
        "    20, 30, 45, 30,\n",
        "    50, 70, 90, 20,\n",
        "    80, 110, 135, 40,\n",
        "    110, 150, 180, 25,\n",
        "    140, 30, 225, 30,\n",
        "    170, 70, 270, 35,\n",
        "    200, 110, 315, 20,\n",
        "    230, 150, 0, 45,\n",
        "    100, 60, 45, 25,\n",
        "    180, 120, 180, 30\n",
        "]\n",
        "\n",
        "# Definir la atenuación\n",
        "attenuation = 30  # Puedes ajustar este valor según sea necesario\n",
        "\n",
        "# Dibujar las antenas en la imagen\n",
        "result_image = draw_antennas(image, antenna_data, attenuation)\n",
        "\n",
        "# Mostrar la imagen resultante\n",
        "cv2_imshow(result_image)\n",
        "\n"
      ],
      "metadata": {
        "colab": {
          "base_uri": "https://localhost:8080/",
          "height": 197
        },
        "id": "7ABTUU2N-CJG",
        "outputId": "2738ac04-532f-47a4-c2aa-42e390092e02"
      },
      "execution_count": 6,
      "outputs": [
        {
          "output_type": "display_data",
          "data": {
            "text/plain": [
              "<PIL.Image.Image image mode=L size=180x180>"
            ],
            "image/png": "[encoded data removed]"
          },
          "metadata": {}
        }
      ]
    },
    {
      "cell_type": "code",
      "source": [],
      "metadata": {
        "id": "hUy_MtlB-qYJ"
      },
      "execution_count": 6,
      "outputs": []
    },
    {
      "cell_type": "markdown",
      "source": [
        "## Arrays"
      ],
      "metadata": {
        "id": "w0IQaZoy9oJW"
      }
    },
    {
      "cell_type": "code",
      "source": [
        "from tensorflow.keras.preprocessing.image import load_img, img_to_array\n",
        "import numpy as np\n",
        "\n",
        "def load_and_preprocess_images(image_paths, target_size=(180, 180)):\n",
        "    images = []\n",
        "    for img_path in image_paths:\n",
        "        img = load_img(img_path, target_size=target_size)  # Cargar imagen y redimensionar\n",
        "        img_array = img_to_array(img)  # Convertir imagen a array NumPy\n",
        "        images.append(img_array)\n",
        "\n",
        "    # Convertir lista de arrays a un array 4D\n",
        "    input_data = np.array(images)\n",
        "    return input_data\n",
        "\n",
        "# Ejemplo de uso\n",
        "image_paths = [\"path_to_image1.png\", \"path_to_image2.png\", ..., \"path_to_image10.png\"]\n",
        "input_data = load_and_preprocess_images(image_paths)\n",
        "\n",
        "print(input_data.shape)\n",
        "# Salida esperada: (10, 180, 180, 4)\n"
      ],
      "metadata": {
        "id": "3WMgYJ-m9q2V"
      },
      "execution_count": null,
      "outputs": []
    },
    {
      "cell_type": "code",
      "source": [
        "import numpy as np\n",
        "\n",
        "# Crear un array 3x3x4 con valores específicos para cada canal\n",
        "image_example = np.array([\n",
        "    [[0, 1, 2, 3], [4, 5, 6, 7], [8, 9, 10, 11]],   # Primera fila\n",
        "    [[12, 13, 14, 15], [16, 17, 18, 19], [20, 21, 22, 23]], # Segunda fila\n",
        "    [[24, 25, 26, 27], [28, 29, 30, 31], [32, 33, 34, 35]]  # Tercera fila\n",
        "])\n",
        "\n",
        "print(image_example.shape)\n",
        "# Salida esperada: (3, 3, 4)\n",
        "\n",
        "print(image_example)\n",
        "# Salida esperada:\n",
        "# [[[ 0  1  2  3]\n",
        "#   [ 4  5  6  7]\n",
        "#   [ 8  9 10 11]]\n",
        "#\n",
        "#  [[12 13 14 15]\n",
        "#   [16 17 18 19]\n",
        "#   [20 21 22 23]]\n",
        "#\n",
        "#  [[24 25 26 27]\n",
        "#   [28 29 30 31]\n",
        "#   [32 33 34 35]]]\n"
      ],
      "metadata": {
        "id": "Yg-M_vMI9zD9",
        "outputId": "38e1c766-2ad8-4778-e87c-746ef4035b72",
        "colab": {
          "base_uri": "https://localhost:8080/"
        }
      },
      "execution_count": 10,
      "outputs": [
        {
          "output_type": "stream",
          "name": "stdout",
          "text": [
            "(3, 3, 4)\n",
            "[[[ 0  1  2  3]\n",
            "  [ 4  5  6  7]\n",
            "  [ 8  9 10 11]]\n",
            "\n",
            " [[12 13 14 15]\n",
            "  [16 17 18 19]\n",
            "  [20 21 22 23]]\n",
            "\n",
            " [[24 25 26 27]\n",
            "  [28 29 30 31]\n",
            "  [32 33 34 35]]]\n"
          ]
        }
      ]
    },
    {
      "cell_type": "code",
      "source": [
        "import numpy as np\n",
        "\n",
        "# Crear el degradado diagonal para cada canal\n",
        "c_channel = np.array([\n",
        "    [0, 0, 0],\n",
        "    [0, 127, 0],\n",
        "    [0, 0, 255]\n",
        "])\n",
        "\n",
        "m_channel = np.array([\n",
        "    [0, 0, 0],\n",
        "    [0, 127, 0],\n",
        "    [0, 0, 255]\n",
        "])\n",
        "\n",
        "y_channel = np.array([\n",
        "    [0, 0, 0],\n",
        "    [0, 127, 0],\n",
        "    [0, 0, 255]\n",
        "])\n",
        "\n",
        "k_channel = np.array([\n",
        "    [0, 0, 0],\n",
        "    [0, 127, 0],\n",
        "    [0, 0, 255]\n",
        "])\n",
        "\n",
        "# Combinar los canales en una sola imagen 3x3x4\n",
        "image_example = np.stack((c_channel, m_channel, y_channel, k_channel), axis=-1)\n",
        "\n",
        "print(image_example.shape)\n",
        "# Salida esperada: (3, 3, 4)\n",
        "\n",
        "print(image_example)\n",
        "# Salida esperada:\n",
        "# [[[  0   0   0   0]\n",
        "#   [  0   0   0   0]\n",
        "#   [  0   0   0   0]]\n",
        "#\n",
        "#  [[  0   0   0   0]\n",
        "#   [127 127 127 127]\n",
        "#   [  0   0   0   0]]\n",
        "#\n",
        "#  [[  0   0   0   0]\n",
        "#   [  0   0   0   0]\n",
        "#   [255 255 255 255]]]\n"
      ],
      "metadata": {
        "id": "dMuZj6Ua94X8",
        "outputId": "7fe973df-7e8b-4b96-bc6e-da2d6d909f61",
        "colab": {
          "base_uri": "https://localhost:8080/"
        }
      },
      "execution_count": 11,
      "outputs": [
        {
          "output_type": "stream",
          "name": "stdout",
          "text": [
            "(3, 3, 4)\n",
            "[[[  0   0   0   0]\n",
            "  [  0   0   0   0]\n",
            "  [  0   0   0   0]]\n",
            "\n",
            " [[  0   0   0   0]\n",
            "  [127 127 127 127]\n",
            "  [  0   0   0   0]]\n",
            "\n",
            " [[  0   0   0   0]\n",
            "  [  0   0   0   0]\n",
            "  [255 255 255 255]]]\n"
          ]
        }
      ]
    },
    {
      "cell_type": "code",
      "source": [
        "import numpy as np\n",
        "\n",
        "# Crear valores para cada canal\n",
        "c_channel = np.array([\n",
        "    [0, 85, 170],\n",
        "    [0, 85, 170],\n",
        "    [0, 85, 170]\n",
        "])\n",
        "\n",
        "m_channel = np.array([\n",
        "    [0, 0, 0],\n",
        "    [85, 85, 85],\n",
        "    [170, 170, 170]\n",
        "])\n",
        "\n",
        "y_channel = np.array([\n",
        "    [0, 0, 255],\n",
        "    [0, 127, 0],\n",
        "    [255, 0, 0]\n",
        "])\n",
        "\n",
        "k_channel = np.array([\n",
        "    [64, 64, 64],\n",
        "    [128, 128, 128],\n",
        "    [192, 192, 192]\n",
        "])\n",
        "\n",
        "# Combinar los canales en una sola imagen 3x3x4\n",
        "image_example = np.stack((c_channel, m_channel, y_channel, k_channel), axis=-1)\n",
        "\n",
        "print(image_example.shape)\n",
        "# Salida esperada: (3, 3, 4)\n",
        "\n",
        "print(image_example)\n",
        "# Salida esperada:\n",
        "# [[[  0   0   0  64]\n",
        "#   [ 85   0   0  64]\n",
        "#   [170   0 255  64]]\n",
        "#\n",
        "#  [[  0  85   0 128]\n",
        "#   [ 85  85 127 128]\n",
        "#   [170  85   0 128]]\n",
        "#\n",
        "#  [[  0 170 255 192]\n",
        "#   [ 85 170   0 192]\n",
        "#   [170 170   0 192]]]\n"
      ],
      "metadata": {
        "id": "UT6bg97699F1",
        "outputId": "362485a1-adbd-4c22-d5ee-4c8218a661d2",
        "colab": {
          "base_uri": "https://localhost:8080/"
        }
      },
      "execution_count": 12,
      "outputs": [
        {
          "output_type": "stream",
          "name": "stdout",
          "text": [
            "(3, 3, 4)\n",
            "[[[  0   0   0  64]\n",
            "  [ 85   0   0  64]\n",
            "  [170   0 255  64]]\n",
            "\n",
            " [[  0  85   0 128]\n",
            "  [ 85  85 127 128]\n",
            "  [170  85   0 128]]\n",
            "\n",
            " [[  0 170 255 192]\n",
            "  [ 85 170   0 192]\n",
            "  [170 170   0 192]]]\n"
          ]
        }
      ]
    },
    {
      "cell_type": "markdown",
      "source": [
        "# CNN"
      ],
      "metadata": {
        "id": "eitZUcZn8gCW"
      }
    },
    {
      "cell_type": "code",
      "source": [
        "def build_model(image_height=180, image_width=180, num_channels=4):\n",
        "    input_shape = (image_height, image_width, num_channels)\n",
        "    inputs = Input(shape=input_shape)\n",
        "\n",
        "    # Primera capa convolucional\n",
        "    x = Conv2D(32, (3, 3), activation='relu', padding='same')(inputs)\n",
        "    x = MaxPooling2D((2, 2))(x)\n",
        "    x = BatchNormalization()(x)\n",
        "\n",
        "    # Segunda capa convolucional\n",
        "    x = Conv2D(64, (3, 3), activation='relu', padding='same')(x)\n",
        "    x = MaxPooling2D((2, 2))(x)\n",
        "    x = BatchNormalization()(x)\n",
        "\n",
        "    # Tercera capa convolucional\n",
        "    x = Conv2D(128, (3, 3), activation='relu', padding='same')(x)\n",
        "    x = MaxPooling2D((2, 2))(x)\n",
        "    x = BatchNormalization()(x)\n",
        "\n",
        "    # Cuarta capa convolucional\n",
        "    x = Conv2D(256, (3, 3), activation='relu', padding='same')(x)\n",
        "    x = MaxPooling2D((2, 2))(x)\n",
        "    x = BatchNormalization()(x)\n",
        "\n",
        "    # Capa completamente conectada\n",
        "    x = Flatten()(x)\n",
        "    x = Dense(512, activation='relu')(x)\n",
        "    x = Dropout(0.5)(x)\n",
        "\n",
        "    # Capa de salida con 3 unidades (R1, R2, R3)\n",
        "    outputs = Dense(3, activation='linear')(x)\n",
        "\n",
        "    model = Model(inputs, outputs)\n",
        "\n",
        "    return model"
      ],
      "metadata": {
        "id": "0vUqskvw8fh-"
      },
      "execution_count": 7,
      "outputs": []
    },
    {
      "cell_type": "code",
      "source": [
        "# Ejemplo de cómo construir el modelo con diferentes parámetros\n",
        "model = build_model(image_height=180, image_width=180, num_channels=4)\n",
        "model.summary()"
      ],
      "metadata": {
        "id": "vXt8d5SN9QC9",
        "outputId": "6d613e9c-232c-4aa4-f913-d95da15d0deb",
        "colab": {
          "base_uri": "https://localhost:8080/"
        }
      },
      "execution_count": 8,
      "outputs": [
        {
          "output_type": "stream",
          "name": "stdout",
          "text": [
            "Model: \"model\"\n",
            "_________________________________________________________________\n",
            " Layer (type)                Output Shape              Param #   \n",
            "=================================================================\n",
            " input_1 (InputLayer)        [(None, 180, 180, 4)]     0         \n",
            "                                                                 \n",
            " conv2d (Conv2D)             (None, 180, 180, 32)      1184      \n",
            "                                                                 \n",
            " max_pooling2d (MaxPooling2  (None, 90, 90, 32)        0         \n",
            " D)                                                              \n",
            "                                                                 \n",
            " batch_normalization (Batch  (None, 90, 90, 32)        128       \n",
            " Normalization)                                                  \n",
            "                                                                 \n",
            " conv2d_1 (Conv2D)           (None, 90, 90, 64)        18496     \n",
            "                                                                 \n",
            " max_pooling2d_1 (MaxPoolin  (None, 45, 45, 64)        0         \n",
            " g2D)                                                            \n",
            "                                                                 \n",
            " batch_normalization_1 (Bat  (None, 45, 45, 64)        256       \n",
            " chNormalization)                                                \n",
            "                                                                 \n",
            " conv2d_2 (Conv2D)           (None, 45, 45, 128)       73856     \n",
            "                                                                 \n",
            " max_pooling2d_2 (MaxPoolin  (None, 22, 22, 128)       0         \n",
            " g2D)                                                            \n",
            "                                                                 \n",
            " batch_normalization_2 (Bat  (None, 22, 22, 128)       512       \n",
            " chNormalization)                                                \n",
            "                                                                 \n",
            " conv2d_3 (Conv2D)           (None, 22, 22, 256)       295168    \n",
            "                                                                 \n",
            " max_pooling2d_3 (MaxPoolin  (None, 11, 11, 256)       0         \n",
            " g2D)                                                            \n",
            "                                                                 \n",
            " batch_normalization_3 (Bat  (None, 11, 11, 256)       1024      \n",
            " chNormalization)                                                \n",
            "                                                                 \n",
            " flatten (Flatten)           (None, 30976)             0         \n",
            "                                                                 \n",
            " dense (Dense)               (None, 512)               15860224  \n",
            "                                                                 \n",
            " dropout (Dropout)           (None, 512)               0         \n",
            "                                                                 \n",
            " dense_1 (Dense)             (None, 3)                 1539      \n",
            "                                                                 \n",
            "=================================================================\n",
            "Total params: 16252387 (62.00 MB)\n",
            "Trainable params: 16251427 (61.99 MB)\n",
            "Non-trainable params: 960 (3.75 KB)\n",
            "_________________________________________________________________\n"
          ]
        }
      ]
    }
  ]
}