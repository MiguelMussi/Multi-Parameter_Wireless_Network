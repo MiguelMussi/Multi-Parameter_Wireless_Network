{
  "nbformat": 4,
  "nbformat_minor": 0,
  "metadata": {
    "colab": {
      "provenance": []
    },
    "kernelspec": {
      "name": "python3",
      "display_name": "Python 3"
    },
    "language_info": {
      "name": "python"
    }
  },
  "cells": [
    {
      "cell_type": "markdown",
      "source": [
        "# Intro"
      ],
      "metadata": {
        "id": "3fcNZawl79Ot"
      }
    },
    {
      "cell_type": "markdown",
      "source": [
        "## Librerías"
      ],
      "metadata": {
        "id": "suHpURwM7_ZF"
      }
    },
    {
      "cell_type": "code",
      "source": [
        "# Data\n",
        "import cv2\n",
        "import numpy as np\n",
        "import math\n",
        "from google.colab.patches import cv2_imshow\n",
        "\n",
        "# Redes Neuronales\n",
        "import tensorflow as tf\n",
        "from tensorflow.keras.models import Model\n",
        "from tensorflow.keras.layers import Input, Conv2D, MaxPooling2D, Flatten, Dense, Dropout, BatchNormalization\n",
        "\n",
        "# Import/Export\n",
        "import pickle\n",
        "import joblib"
      ],
      "metadata": {
        "id": "99nt9KiL8Dod"
      },
      "execution_count": 1,
      "outputs": []
    },
    {
      "cell_type": "markdown",
      "source": [
        "## Representación Gráfica"
      ],
      "metadata": {
        "id": "-MvhNQFU8F4N"
      }
    },
    {
      "cell_type": "markdown",
      "source": [
        "### Pruebas"
      ],
      "metadata": {
        "id": "chu9-ZN-8NLV"
      }
    },
    {
      "cell_type": "code",
      "execution_count": 2,
      "metadata": {
        "colab": {
          "base_uri": "https://localhost:8080/",
          "height": 197
        },
        "id": "TvoLS3KJ2aDP",
        "outputId": "7d3b4aa2-7ad8-4438-c0c9-a712e46054c0"
      },
      "outputs": [
        {
          "output_type": "display_data",
          "data": {
            "text/plain": [
              "<PIL.Image.Image image mode=L size=180x180>"
            ],
            "image/png": "[encoded data removed]"
          },
          "metadata": {}
        }
      ],
      "source": [
        "def draw_antennas(image, antennas, attenuation):\n",
        "    # Convertir la imagen a escala de grises\n",
        "    gray_image = cv2.cvtColor(image, cv2.COLOR_BGR2GRAY)\n",
        "\n",
        "    # Iterar sobre las coordenadas de las antenas\n",
        "    for (x, y), azimuth in antennas:\n",
        "        # Origen del vector\n",
        "        origin = (x, y)\n",
        "\n",
        "        # Calcular el desplazamiento en x e y basado en el ángulo y la atenuación\n",
        "        dx = math.cos(math.radians(azimuth))\n",
        "        dy = math.sin(math.radians(azimuth))\n",
        "\n",
        "        # Dibujar el vector desde la antena hasta el límite definido por la atenuación\n",
        "        for i in range(attenuation):\n",
        "            # Calcular las coordenadas del punto a lo largo del vector\n",
        "            px = int(x + dx * i)\n",
        "            py = int(y + dy * i)\n",
        "\n",
        "            # Asegurarse de que las coordenadas estén dentro de la imagen\n",
        "            if 0 <= px < image.shape[1] and 0 <= py < image.shape[0]:\n",
        "                # Colorear el píxel en escala de grises\n",
        "                gray_image[py, px] = 0  # Negro\n",
        "                # Puedes ajustar el valor (0) para obtener diferentes tonos de gris\n",
        "\n",
        "    return gray_image\n",
        "\n",
        "# Definir las coordenadas de las antenas y sus direcciones de azimuth\n",
        "antennas = [((50, 50), 45), ((100, 100), 135), ((150, 50), 225)]\n",
        "\n",
        "# Tamaño de la imagen\n",
        "image_size = (180, 180)\n",
        "\n",
        "# Crear una imagen en blanco\n",
        "image = np.ones((image_size[0], image_size[1], 3), dtype=np.uint8) * 255\n",
        "\n",
        "# Definir la atenuación\n",
        "attenuation = 20  # Puedes ajustar este valor según sea necesario\n",
        "\n",
        "# Dibujar las antenas en la imagen\n",
        "result_image = draw_antennas(image, antennas, attenuation)\n",
        "\n",
        "# Mostrar la imagen resultante\n",
        "cv2_imshow(result_image)\n"
      ]
    },
    {
      "cell_type": "code",
      "source": [
        "def draw_antennas(image, antennas, attenuation):\n",
        "    # Convertir la imagen a escala de grises\n",
        "    gray_image = cv2.cvtColor(image, cv2.COLOR_BGR2GRAY)\n",
        "\n",
        "    # Iterar sobre las coordenadas de las antenas\n",
        "    for (x, y), azimuth in antennas:\n",
        "        # Origen del vector\n",
        "        origin = (x, y)\n",
        "\n",
        "        # Calcular el desplazamiento en x e y basado en el ángulo y la atenuación\n",
        "        dx = math.cos(math.radians(azimuth))\n",
        "        dy = math.sin(math.radians(azimuth))\n",
        "\n",
        "        # Dibujar el vector desde la antena hasta el límite definido por la atenuación\n",
        "        for i in range(attenuation):\n",
        "            # Calcular las coordenadas del punto a lo largo del vector\n",
        "            px = int(x + dx * i)\n",
        "            py = int(y + dy * i)\n",
        "\n",
        "            # Asegurarse de que las coordenadas estén dentro de la imagen\n",
        "            if 0 <= px < image.shape[1] and 0 <= py < image.shape[0]:\n",
        "                # Calcular la intensidad del píxel basada en la distancia al origen de la antena\n",
        "                intensity = int(255 * (1 - i / attenuation))  # Atenuación gradual\n",
        "\n",
        "                # Colorear el píxel en escala de grises\n",
        "                gray_image[py, px] = intensity\n",
        "\n",
        "    return gray_image\n",
        "\n",
        "# Definir las coordenadas de las antenas y sus direcciones de azimuth\n",
        "\n",
        "antennas = [\n",
        "    ((20, 30), 45),   # Antena 1\n",
        "    ((50, 70), 90),   # Antena 2\n",
        "    ((80, 110), 135), # Antena 3\n",
        "    ((110, 150), 180),# Antena 4\n",
        "    ((140, 30), 225), # Antena 5\n",
        "    ((170, 70), 270), # Antena 6\n",
        "    ((200, 110), 315),# Antena 7\n",
        "    ((230, 150), 0),  # Antena 8\n",
        "    ((100, 60), 45),  # Antena 9\n",
        "    ((180, 120), 180) # Antena 10\n",
        "]\n",
        "\n",
        "# Tamaño de la imagen\n",
        "image_size = (180, 180)\n",
        "\n",
        "# Crear una imagen en blanco\n",
        "image = np.ones((image_size[0], image_size[1], 3), dtype=np.uint8) * 255\n",
        "\n",
        "# Definir la atenuación\n",
        "attenuation = 50  # Puedes ajustar este valor según sea necesario\n",
        "\n",
        "# Dibujar las antenas en la imagen\n",
        "result_image = draw_antennas(image, antennas, attenuation)\n",
        "\n",
        "# Mostrar la imagen resultante\n",
        "cv2_imshow(result_image)\n"
      ],
      "metadata": {
        "colab": {
          "base_uri": "https://localhost:8080/",
          "height": 197
        },
        "id": "Pjyca5tx3Mqy",
        "outputId": "fbc36a05-e12b-4924-8bbb-de5e3d1fa04b"
      },
      "execution_count": 3,
      "outputs": [
        {
          "output_type": "display_data",
          "data": {
            "text/plain": [
              "<PIL.Image.Image image mode=L size=180x180>"
            ],
            "image/png": "[encoded data removed]"
          },
          "metadata": {}
        }
      ]
    },
    {
      "cell_type": "code",
      "source": [
        "def draw_antennas(image, antennas, attenuation):\n",
        "    # Convertir la imagen a escala de grises\n",
        "    gray_image = cv2.cvtColor(image, cv2.COLOR_BGR2GRAY)\n",
        "\n",
        "    # Iterar sobre las coordenadas de las antenas\n",
        "    for (x, y), azimuth, amplitude in antennas:\n",
        "        # Dibujar el sector circular para cada antena\n",
        "        for angle in range(azimuth - amplitude, azimuth + amplitude + 1):\n",
        "            # Calcular el desplazamiento en x e y basado en el ángulo\n",
        "            dx = math.cos(math.radians(angle))\n",
        "            dy = math.sin(math.radians(angle))\n",
        "\n",
        "            # Dibujar el vector desde la antena hasta el límite definido por la atenuación\n",
        "            for i in range(attenuation):\n",
        "                # Calcular las coordenadas del punto a lo largo del vector\n",
        "                px = int(x + dx * i)\n",
        "                py = int(y + dy * i)\n",
        "\n",
        "                # Asegurarse de que las coordenadas estén dentro de la imagen\n",
        "                if 0 <= px < image.shape[1] and 0 <= py < image.shape[0]:\n",
        "                    # Colorear el píxel en escala de grises\n",
        "                    gray_image[py, px] = 0  # Negro\n",
        "                    # Puedes ajustar el valor (0) para obtener diferentes tonos de gris\n",
        "\n",
        "    return gray_image\n",
        "\n",
        "# Definir las coordenadas de las antenas, sus direcciones de azimuth y amplitudes de ángulo\n",
        "antennas = [\n",
        "    ((50, 50), 45, 30),   # Antena 1\n",
        "    ((100, 100), 135, 45),   # Antena 2\n",
        "    ((150, 50), 225, 60)   # Antena 3\n",
        "    # Puedes agregar más antenas según sea necesario\n",
        "]\n",
        "\n",
        "# Tamaño de la imagen\n",
        "image_size = (180, 180)\n",
        "\n",
        "# Crear una imagen en blanco\n",
        "image = np.ones((image_size[0], image_size[1], 3), dtype=np.uint8) * 255\n",
        "\n",
        "# Definir la atenuación\n",
        "attenuation = 50  # Puedes ajustar este valor según sea necesario\n",
        "\n",
        "# Dibujar las antenas en la imagen\n",
        "result_image = draw_antennas(image, antennas, attenuation)\n",
        "\n",
        "# Mostrar la imagen resultante\n",
        "cv2_imshow(result_image)\n"
      ],
      "metadata": {
        "colab": {
          "base_uri": "https://localhost:8080/",
          "height": 197
        },
        "id": "7ibgoglr5l6n",
        "outputId": "f85bedb1-8d36-487e-813d-337096c99332"
      },
      "execution_count": 4,
      "outputs": [
        {
          "output_type": "display_data",
          "data": {
            "text/plain": [
              "<PIL.Image.Image image mode=L size=180x180>"
            ],
            "image/png": "[encoded data removed]"
          },
          "metadata": {}
        }
      ]
    },
    {
      "cell_type": "code",
      "source": [
        "def draw_antennas(image, antennas, attenuation):\n",
        "    # Convertir la imagen a escala de grises\n",
        "    gray_image = cv2.cvtColor(image, cv2.COLOR_BGR2GRAY)\n",
        "\n",
        "    # Iterar sobre las coordenadas de las antenas\n",
        "    for (x, y), azimuth, amplitude in antennas:\n",
        "        # Dibujar el sector circular para cada antena\n",
        "        for angle in range(azimuth - amplitude, azimuth + amplitude + 1):\n",
        "            # Calcular el desplazamiento en x e y basado en el ángulo\n",
        "            dx = math.cos(math.radians(angle))\n",
        "            dy = math.sin(math.radians(angle))\n",
        "\n",
        "            # Dibujar el vector desde la antena hasta el límite definido por la atenuación\n",
        "            for i in range(attenuation):\n",
        "                # Calcular las coordenadas del punto a lo largo del vector\n",
        "                px = int(x + dx * i)\n",
        "                py = int(y + dy * i)\n",
        "\n",
        "                # Asegurarse de que las coordenadas estén dentro de la imagen\n",
        "                if 0 <= px < image.shape[1] and 0 <= py < image.shape[0]:\n",
        "                    # Calcular la intensidad del píxel basada en la distancia al origen de la antena\n",
        "                    intensity = int(255 * (i / attenuation))  # Atenuación gradual inversa\n",
        "\n",
        "                    # Colorear el píxel en escala de grises\n",
        "                    gray_image[py, px] = intensity\n",
        "\n",
        "    return gray_image\n",
        "\n",
        "# Definir las coordenadas de las antenas, sus direcciones de azimuth y amplitudes de ángulo\n",
        "antennas = [\n",
        "    ((20, 30), 45, 30),   # Antena 1\n",
        "    ((50, 70), 90, 20),   # Antena 2\n",
        "    ((80, 110), 135, 40), # Antena 3\n",
        "    ((110, 150), 180, 25),# Antena 4\n",
        "    ((140, 30), 225, 30), # Antena 5\n",
        "    ((170, 70), 270, 35), # Antena 6\n",
        "    ((200, 110), 315, 20),# Antena 7\n",
        "    ((230, 150), 0, 45),  # Antena 8\n",
        "    ((100, 60), 45, 25),  # Antena 9\n",
        "    ((180, 120), 180, 30) # Antena 10\n",
        "]\n",
        "\n",
        "# Tamaño de la imagen\n",
        "image_size = (180, 180)\n",
        "\n",
        "# Crear una imagen en blanco\n",
        "image = np.ones((image_size[0], image_size[1], 3), dtype=np.uint8) * 255\n",
        "\n",
        "# Definir la atenuación\n",
        "attenuation = 25  # Puedes ajustar este valor según sea necesario\n",
        "\n",
        "# Dibujar las antenas en la imagen\n",
        "result_image = draw_antennas(image, antennas, attenuation)\n",
        "\n",
        "# Mostrar la imagen resultante\n",
        "cv2_imshow(result_image)\n"
      ],
      "metadata": {
        "colab": {
          "base_uri": "https://localhost:8080/",
          "height": 197
        },
        "id": "QX8eQf8A5ugu",
        "outputId": "aff67713-ad51-4dbc-da2f-54f42518ba25"
      },
      "execution_count": 5,
      "outputs": [
        {
          "output_type": "display_data",
          "data": {
            "text/plain": [
              "<PIL.Image.Image image mode=L size=180x180>"
            ],
            "image/png": "[encoded data removed]"
          },
          "metadata": {}
        }
      ]
    },
    {
      "cell_type": "code",
      "source": [
        "def draw_antennas(image, antenna_data, attenuation):\n",
        "    # Convertir la imagen a escala de grises\n",
        "    gray_image = cv2.cvtColor(image, cv2.COLOR_BGR2GRAY)\n",
        "\n",
        "    # Parsear la información de las antenas\n",
        "    antennas = parse_antennas(antenna_data)\n",
        "\n",
        "    # Iterar sobre las antenas\n",
        "    for (x, y), azimuth, amplitude in antennas:\n",
        "        # Dibujar el sector circular para cada antena\n",
        "        for angle in range(azimuth - amplitude, azimuth + amplitude + 1):\n",
        "            # Calcular el desplazamiento en x e y basado en el ángulo\n",
        "            dx = math.cos(math.radians(angle))\n",
        "            dy = math.sin(math.radians(angle))\n",
        "\n",
        "            # Dibujar el vector desde la antena hasta el límite definido por la atenuación\n",
        "            for i in range(attenuation):\n",
        "                # Calcular las coordenadas del punto a lo largo del vector\n",
        "                px = int(x + dx * i)\n",
        "                py = int(y + dy * i)\n",
        "\n",
        "                # Asegurarse de que las coordenadas estén dentro de la imagen\n",
        "                if 0 <= px < image.shape[1] and 0 <= py < image.shape[0]:\n",
        "                    # Calcular la intensidad del píxel basada en la distancia al origen de la antena\n",
        "                    intensity = int(255 * (i / attenuation))  # Atenuación gradual inversa\n",
        "\n",
        "                    # Colorear el píxel en escala de grises\n",
        "                    gray_image[py, px] = intensity\n",
        "\n",
        "    return gray_image\n",
        "\n",
        "def parse_antennas(antenna_list):\n",
        "    antennas = []\n",
        "    for i in range(0, len(antenna_list), 4):\n",
        "        x = antenna_list[i]\n",
        "        y = antenna_list[i + 1]\n",
        "        azimuth = antenna_list[i + 2]\n",
        "        amplitude = antenna_list[i + 3]\n",
        "        antennas.append(((x, y), azimuth, amplitude))\n",
        "    return antennas\n",
        "\n",
        "# Tamaño de la imagen\n",
        "image_size = (180, 180)\n",
        "\n",
        "# Crear una imagen en blanco\n",
        "image = np.ones((image_size[0], image_size[1], 3), dtype=np.uint8) * 255\n",
        "\n",
        "# Lista de antenas en formato cíclico (x, y, azimuth, amplitud)\n",
        "antenna_data = [\n",
        "    20, 30, 45, 30,\n",
        "    50, 70, 90, 20,\n",
        "    80, 110, 135, 40,\n",
        "    110, 150, 180, 25,\n",
        "    140, 30, 225, 30,\n",
        "    170, 70, 270, 35,\n",
        "    200, 110, 315, 20,\n",
        "    230, 150, 0, 45,\n",
        "    100, 60, 45, 25,\n",
        "    180, 120, 180, 30\n",
        "]\n",
        "\n",
        "# Definir la atenuación\n",
        "attenuation = 30  # Puedes ajustar este valor según sea necesario\n",
        "\n",
        "# Dibujar las antenas en la imagen\n",
        "result_image = draw_antennas(image, antenna_data, attenuation)\n",
        "\n",
        "# Mostrar la imagen resultante\n",
        "cv2_imshow(result_image)\n",
        "\n"
      ],
      "metadata": {
        "colab": {
          "base_uri": "https://localhost:8080/",
          "height": 197
        },
        "id": "7ABTUU2N-CJG",
        "outputId": "2738ac04-532f-47a4-c2aa-42e390092e02"
      },
      "execution_count": 6,
      "outputs": [
        {
          "output_type": "display_data",
          "data": {
            "text/plain": [
              "<PIL.Image.Image image mode=L size=180x180>"
            ],
            "image/png": "[encoded data removed]"
          },
          "metadata": {}
        }
      ]
    },
    {
      "cell_type": "code",
      "source": [],
      "metadata": {
        "id": "hUy_MtlB-qYJ"
      },
      "execution_count": 6,
      "outputs": []
    },
    {
      "cell_type": "markdown",
      "source": [
        "## Arrays"
      ],
      "metadata": {
        "id": "w0IQaZoy9oJW"
      }
    },
    {
      "cell_type": "code",
      "source": [
        "from tensorflow.keras.preprocessing.image import load_img, img_to_array\n",
        "\n",
        "def load_and_preprocess_images(image_paths, target_size=(180, 180)):\n",
        "    images = []\n",
        "    for img_path in image_paths:\n",
        "        img = load_img(img_path, target_size=target_size)  # Cargar imagen y redimensionar\n",
        "        img_array = img_to_array(img)  # Convertir imagen a array NumPy\n",
        "        images.append(img_array)\n",
        "\n",
        "    # Convertir lista de arrays a un array 4D\n",
        "    input_data = np.array(images)\n",
        "    return input_data\n",
        "\n",
        "# Ejemplo de uso\n",
        "image_paths = [\"path_to_image1.png\", \"path_to_image2.png\", ..., \"path_to_image10.png\"]\n",
        "input_data = load_and_preprocess_images(image_paths)\n",
        "\n",
        "print(input_data.shape)\n",
        "# Salida esperada: (10, 180, 180, 4)\n"
      ],
      "metadata": {
        "id": "3WMgYJ-m9q2V"
      },
      "execution_count": null,
      "outputs": []
    },
    {
      "cell_type": "code",
      "source": [
        "# Crear un array 3x3x4 con valores específicos para cada canal\n",
        "image_example = np.array([\n",
        "    [[0, 1, 2, 3], [4, 5, 6, 7], [8, 9, 10, 11]],   # Primera fila\n",
        "    [[12, 13, 14, 15], [16, 17, 18, 19], [20, 21, 22, 23]], # Segunda fila\n",
        "    [[24, 25, 26, 27], [28, 29, 30, 31], [32, 33, 34, 35]]  # Tercera fila\n",
        "])\n",
        "\n",
        "print(image_example.shape)\n",
        "# Salida esperada: (3, 3, 4)\n",
        "\n",
        "print(image_example)\n",
        "# Salida esperada:\n",
        "# [[[ 0  1  2  3]\n",
        "#   [ 4  5  6  7]\n",
        "#   [ 8  9 10 11]]\n",
        "#\n",
        "#  [[12 13 14 15]\n",
        "#   [16 17 18 19]\n",
        "#   [20 21 22 23]]\n",
        "#\n",
        "#  [[24 25 26 27]\n",
        "#   [28 29 30 31]\n",
        "#   [32 33 34 35]]]\n",
        "\n",
        "\n",
        "# Cian (C) Channel:\n",
        "# [[ 0  4  8]\n",
        "#  [12 16 20]\n",
        "#  [24 28 32]]\n",
        "\n",
        "# Magenta (M) Channel:\n",
        "# [[ 1  5  9]\n",
        "#  [13 17 21]\n",
        "#  [25 29 33]]\n",
        "\n",
        "# Amarillo (Y) Channel:\n",
        "# [[ 2  6 10]\n",
        "#  [14 18 22]\n",
        "#  [26 30 34]]\n",
        "\n",
        "# Negro (K) Channel:\n",
        "# [[ 3  7 11]\n",
        "#  [15 19 23]\n",
        "#  [27 31 35]]"
      ],
      "metadata": {
        "colab": {
          "base_uri": "https://localhost:8080/"
        },
        "id": "Yg-M_vMI9zD9",
        "outputId": "38e1c766-2ad8-4778-e87c-746ef4035b72"
      },
      "execution_count": 10,
      "outputs": [
        {
          "output_type": "stream",
          "name": "stdout",
          "text": [
            "(3, 3, 4)\n",
            "[[[ 0  1  2  3]\n",
            "  [ 4  5  6  7]\n",
            "  [ 8  9 10 11]]\n",
            "\n",
            " [[12 13 14 15]\n",
            "  [16 17 18 19]\n",
            "  [20 21 22 23]]\n",
            "\n",
            " [[24 25 26 27]\n",
            "  [28 29 30 31]\n",
            "  [32 33 34 35]]]\n"
          ]
        }
      ]
    },
    {
      "cell_type": "code",
      "source": [
        "import numpy as np\n",
        "\n",
        "# Crear valores para cada canal\n",
        "c_channel = np.array([\n",
        "    [1, 2, 3],\n",
        "    [4, 5, 6],\n",
        "    [7, 8, 9]\n",
        "])\n",
        "\n",
        "m_channel = np.array([\n",
        "    [11, 12, 13],\n",
        "    [14, 15, 16],\n",
        "    [17, 18, 19]\n",
        "])\n",
        "\n",
        "y_channel = np.array([\n",
        "    [21, 22, 23],\n",
        "    [24, 25, 26],\n",
        "    [27, 28, 29]\n",
        "])\n",
        "\n",
        "k_channel = np.array([\n",
        "    [31, 32, 33],\n",
        "    [34, 35, 36],\n",
        "    [37, 38, 39]\n",
        "])\n",
        "\n",
        "# Combinar los canales en una sola imagen 3x3x4\n",
        "image_example = np.stack((c_channel, m_channel, y_channel, k_channel), axis=-1)\n",
        "\n",
        "print(image_example.shape)\n",
        "print(image_example)"
      ],
      "metadata": {
        "colab": {
          "base_uri": "https://localhost:8080/"
        },
        "id": "UT6bg97699F1",
        "outputId": "70970f37-9376-46f0-ee37-f9e478b32a3a"
      },
      "execution_count": 15,
      "outputs": [
        {
          "output_type": "stream",
          "name": "stdout",
          "text": [
            "(3, 3, 4)\n",
            "[[[ 1 11 21 31]\n",
            "  [ 2 12 22 32]\n",
            "  [ 3 13 23 33]]\n",
            "\n",
            " [[ 4 14 24 34]\n",
            "  [ 5 15 25 35]\n",
            "  [ 6 16 26 36]]\n",
            "\n",
            " [[ 7 17 27 37]\n",
            "  [ 8 18 28 38]\n",
            "  [ 9 19 29 39]]]\n"
          ]
        }
      ]
    },
    {
      "cell_type": "code",
      "source": [
        "# Definir dos imágenes de ejemplo\n",
        "image1 = np.array([\n",
        "    [[0, 1, 2, 3], [4, 5, 6, 7], [8, 9, 10, 11]],   # Primera fila\n",
        "    [[12, 13, 14, 15], [16, 17, 18, 19], [20, 21, 22, 23]],  # Segunda fila\n",
        "    [[24, 25, 26, 27], [28, 29, 30, 31], [32, 33, 34, 35]]   # Tercera fila\n",
        "])\n",
        "\n",
        "image2 = np.array([\n",
        "    [[100, 101, 102, 103], [104, 105, 106, 107], [108, 109, 110, 111]],  # Primera fila\n",
        "    [[112, 113, 114, 115], [116, 117, 118, 119], [120, 121, 122, 123]],  # Segunda fila\n",
        "    [[124, 125, 126, 127], [128, 129, 130, 131], [132, 133, 134, 135]]   # Tercera fila\n",
        "])\n",
        "\n",
        "# Crear el dataset combinando las dos imágenes\n",
        "dataset = np.array([image1, image2])\n",
        "\n",
        "print(dataset.shape)\n",
        "# Salida esperada: (2, 3, 3, 4)\n",
        "\n",
        "print(dataset)"
      ],
      "metadata": {
        "id": "4b7APsWMRHg6",
        "outputId": "657c7b5a-051e-472b-87c1-3d3d23c041cc",
        "colab": {
          "base_uri": "https://localhost:8080/"
        }
      },
      "execution_count": 16,
      "outputs": [
        {
          "output_type": "stream",
          "name": "stdout",
          "text": [
            "(2, 3, 3, 4)\n",
            "[[[[  0   1   2   3]\n",
            "   [  4   5   6   7]\n",
            "   [  8   9  10  11]]\n",
            "\n",
            "  [[ 12  13  14  15]\n",
            "   [ 16  17  18  19]\n",
            "   [ 20  21  22  23]]\n",
            "\n",
            "  [[ 24  25  26  27]\n",
            "   [ 28  29  30  31]\n",
            "   [ 32  33  34  35]]]\n",
            "\n",
            "\n",
            " [[[100 101 102 103]\n",
            "   [104 105 106 107]\n",
            "   [108 109 110 111]]\n",
            "\n",
            "  [[112 113 114 115]\n",
            "   [116 117 118 119]\n",
            "   [120 121 122 123]]\n",
            "\n",
            "  [[124 125 126 127]\n",
            "   [128 129 130 131]\n",
            "   [132 133 134 135]]]]\n"
          ]
        }
      ]
    },
    {
      "cell_type": "markdown",
      "source": [
        "# CNN"
      ],
      "metadata": {
        "id": "eitZUcZn8gCW"
      }
    },
    {
      "cell_type": "code",
      "source": [
        "# Crear dos imágenes de ejemplo con valores aleatorios\n",
        "image1 = np.random.randint(0, 256, size=(180, 180, 4), dtype=np.uint8)\n",
        "image2 = np.random.randint(0, 256, size=(180, 180, 4), dtype=np.uint8)\n",
        "\n",
        "# Crear el dataset combinando las dos imágenes\n",
        "dataset = np.array([image1, image2])\n",
        "\n",
        "print(dataset.shape)\n",
        "# Salida esperada: (2, 180, 180, 4)\n",
        "\n",
        "# Mostrar una parte del contenido del dataset para verificar la estructura\n",
        "print(dataset[0, :2, :2, :])  # Mostrar una pequeña porción de la primera imagen\n"
      ],
      "metadata": {
        "id": "GRpqSGxVTPyd",
        "outputId": "9f94b119-2f5d-4519-86c6-d4ca954106b6",
        "colab": {
          "base_uri": "https://localhost:8080/"
        }
      },
      "execution_count": 17,
      "outputs": [
        {
          "output_type": "stream",
          "name": "stdout",
          "text": [
            "(2, 180, 180, 4)\n",
            "[[[151 100 254  49]\n",
            "  [240 145  20   3]]\n",
            "\n",
            " [[ 65  78 185 107]\n",
            "  [159 119 111  16]]]\n"
          ]
        }
      ]
    },
    {
      "cell_type": "code",
      "source": [
        "# Crear etiquetas dummy (por ejemplo, R1, R2, R3 para cada imagen)\n",
        "labels = np.array([\n",
        "    [50, 20, 10],  # Etiquetas para la primera imagen\n",
        "    [40, 15, 7]   # Etiquetas para la segunda imagen\n",
        "])"
      ],
      "metadata": {
        "id": "owjf2P93S76V"
      },
      "execution_count": 19,
      "outputs": []
    },
    {
      "cell_type": "code",
      "source": [
        "def build_model(image_height=180, image_width=180, num_channels=4):\n",
        "    input_shape = (image_height, image_width, num_channels)\n",
        "    inputs = Input(shape=input_shape)\n",
        "\n",
        "    # Primera capa convolucional\n",
        "    x = Conv2D(32, (3, 3), activation='relu', padding='same')(inputs)\n",
        "    x = MaxPooling2D((2, 2))(x)\n",
        "    x = BatchNormalization()(x)\n",
        "\n",
        "    # Segunda capa convolucional\n",
        "    x = Conv2D(64, (3, 3), activation='relu', padding='same')(x)\n",
        "    x = MaxPooling2D((2, 2))(x)\n",
        "    x = BatchNormalization()(x)\n",
        "\n",
        "    # Tercera capa convolucional\n",
        "    x = Conv2D(128, (3, 3), activation='relu', padding='same')(x)\n",
        "    x = MaxPooling2D((2, 2))(x)\n",
        "    x = BatchNormalization()(x)\n",
        "\n",
        "    # Cuarta capa convolucional\n",
        "    x = Conv2D(256, (3, 3), activation='relu', padding='same')(x)\n",
        "    x = MaxPooling2D((2, 2))(x)\n",
        "    x = BatchNormalization()(x)\n",
        "\n",
        "    # Capa completamente conectada\n",
        "    x = Flatten()(x)\n",
        "    x = Dense(512, activation='relu')(x)\n",
        "    x = Dropout(0.5)(x)\n",
        "\n",
        "    # Capa de salida con 3 unidades (R1, R2, R3)\n",
        "    outputs = Dense(3, activation='linear')(x)\n",
        "\n",
        "    model = Model(inputs, outputs)\n",
        "\n",
        "    return model"
      ],
      "metadata": {
        "id": "0vUqskvw8fh-"
      },
      "execution_count": 7,
      "outputs": []
    },
    {
      "cell_type": "code",
      "source": [
        "# Ejemplo de cómo construir el modelo con diferentes parámetros\n",
        "model = build_model(image_height=180, image_width=180, num_channels=4)\n",
        "model.summary()"
      ],
      "metadata": {
        "colab": {
          "base_uri": "https://localhost:8080/"
        },
        "id": "vXt8d5SN9QC9",
        "outputId": "b9c4e1f6-3dee-496a-80ff-8945bbec29c1"
      },
      "execution_count": 20,
      "outputs": [
        {
          "output_type": "stream",
          "name": "stdout",
          "text": [
            "Model: \"model_1\"\n",
            "_________________________________________________________________\n",
            " Layer (type)                Output Shape              Param #   \n",
            "=================================================================\n",
            " input_2 (InputLayer)        [(None, 180, 180, 4)]     0         \n",
            "                                                                 \n",
            " conv2d_4 (Conv2D)           (None, 180, 180, 32)      1184      \n",
            "                                                                 \n",
            " max_pooling2d_4 (MaxPoolin  (None, 90, 90, 32)        0         \n",
            " g2D)                                                            \n",
            "                                                                 \n",
            " batch_normalization_4 (Bat  (None, 90, 90, 32)        128       \n",
            " chNormalization)                                                \n",
            "                                                                 \n",
            " conv2d_5 (Conv2D)           (None, 90, 90, 64)        18496     \n",
            "                                                                 \n",
            " max_pooling2d_5 (MaxPoolin  (None, 45, 45, 64)        0         \n",
            " g2D)                                                            \n",
            "                                                                 \n",
            " batch_normalization_5 (Bat  (None, 45, 45, 64)        256       \n",
            " chNormalization)                                                \n",
            "                                                                 \n",
            " conv2d_6 (Conv2D)           (None, 45, 45, 128)       73856     \n",
            "                                                                 \n",
            " max_pooling2d_6 (MaxPoolin  (None, 22, 22, 128)       0         \n",
            " g2D)                                                            \n",
            "                                                                 \n",
            " batch_normalization_6 (Bat  (None, 22, 22, 128)       512       \n",
            " chNormalization)                                                \n",
            "                                                                 \n",
            " conv2d_7 (Conv2D)           (None, 22, 22, 256)       295168    \n",
            "                                                                 \n",
            " max_pooling2d_7 (MaxPoolin  (None, 11, 11, 256)       0         \n",
            " g2D)                                                            \n",
            "                                                                 \n",
            " batch_normalization_7 (Bat  (None, 11, 11, 256)       1024      \n",
            " chNormalization)                                                \n",
            "                                                                 \n",
            " flatten_1 (Flatten)         (None, 30976)             0         \n",
            "                                                                 \n",
            " dense_2 (Dense)             (None, 512)               15860224  \n",
            "                                                                 \n",
            " dropout_1 (Dropout)         (None, 512)               0         \n",
            "                                                                 \n",
            " dense_3 (Dense)             (None, 3)                 1539      \n",
            "                                                                 \n",
            "=================================================================\n",
            "Total params: 16252387 (62.00 MB)\n",
            "Trainable params: 16251427 (61.99 MB)\n",
            "Non-trainable params: 960 (3.75 KB)\n",
            "_________________________________________________________________\n"
          ]
        }
      ]
    },
    {
      "cell_type": "code",
      "source": [
        "# Compilar el modelo\n",
        "model.compile(optimizer='adam', loss='mean_squared_error')"
      ],
      "metadata": {
        "id": "tbwWoO3PS5-A"
      },
      "execution_count": 21,
      "outputs": []
    },
    {
      "cell_type": "code",
      "source": [
        "# Entrenar el modelo\n",
        "model.fit(dataset, labels, epochs=10)"
      ],
      "metadata": {
        "id": "mePNtMojS_io",
        "outputId": "d3de8aed-0ce6-4879-8faf-fc514787f167",
        "colab": {
          "base_uri": "https://localhost:8080/"
        }
      },
      "execution_count": 22,
      "outputs": [
        {
          "output_type": "stream",
          "name": "stdout",
          "text": [
            "Epoch 1/10\n",
            "1/1 [==============================] - 3s 3s/step - loss: 864.5172\n",
            "Epoch 2/10\n",
            "1/1 [==============================] - 1s 570ms/step - loss: 1108.9570\n",
            "Epoch 3/10\n",
            "1/1 [==============================] - 1s 507ms/step - loss: 522.7142\n",
            "Epoch 4/10\n",
            "1/1 [==============================] - 1s 512ms/step - loss: 1077.1577\n",
            "Epoch 5/10\n",
            "1/1 [==============================] - 0s 486ms/step - loss: 1219.7446\n",
            "Epoch 6/10\n",
            "1/1 [==============================] - 1s 514ms/step - loss: 573.1901\n",
            "Epoch 7/10\n",
            "1/1 [==============================] - 1s 502ms/step - loss: 512.9535\n",
            "Epoch 8/10\n",
            "1/1 [==============================] - 1s 512ms/step - loss: 1675.8489\n",
            "Epoch 9/10\n",
            "1/1 [==============================] - 1s 519ms/step - loss: 1240.0569\n",
            "Epoch 10/10\n",
            "1/1 [==============================] - 1s 524ms/step - loss: 1517.7410\n"
          ]
        },
        {
          "output_type": "execute_result",
          "data": {
            "text/plain": [
              "<keras.src.callbacks.History at 0x7e5b25b11db0>"
            ]
          },
          "metadata": {},
          "execution_count": 22
        }
      ]
    },
    {
      "cell_type": "code",
      "source": [
        "# Crear tres imágenes de prueba con valores aleatorios\n",
        "test_image1 = np.random.randint(0, 256, size=(180, 180, 4), dtype=np.uint8)\n",
        "test_image2 = np.random.randint(0, 256, size=(180, 180, 4), dtype=np.uint8)\n",
        "test_image3 = np.random.randint(0, 256, size=(180, 180, 4), dtype=np.uint8)\n",
        "\n",
        "# Crear el dataset de prueba combinando las tres imágenes\n",
        "test_dataset = np.array([test_image1, test_image2, test_image3])\n",
        "\n",
        "print(test_dataset.shape)\n",
        "# Salida esperada: (3, 180, 180, 4)\n",
        "\n",
        "# Mostrar una parte del contenido del dataset de prueba para verificar la estructura\n",
        "print(test_dataset[0, :2, :2, :])  # Mostrar una pequeña porción de la primera imagen de prueba"
      ],
      "metadata": {
        "id": "7-gvnMOlUKBF",
        "outputId": "e00b5f42-9bb4-4144-ac6d-19e8f65d9215",
        "colab": {
          "base_uri": "https://localhost:8080/"
        }
      },
      "execution_count": 24,
      "outputs": [
        {
          "output_type": "stream",
          "name": "stdout",
          "text": [
            "(3, 180, 180, 4)\n",
            "[[[ 19 241 161 236]\n",
            "  [227 225 181  62]]\n",
            "\n",
            " [[133 147 180  87]\n",
            "  [206 254 139  83]]]\n"
          ]
        }
      ]
    },
    {
      "cell_type": "code",
      "source": [
        "# Realizar predicciones con el dataset de prueba\n",
        "predictions = model.predict(test_dataset)\n",
        "\n",
        "# Mostrar las predicciones\n",
        "print(predictions)"
      ],
      "metadata": {
        "id": "aCsh3-lmUl6-",
        "outputId": "45d82854-ae93-448a-c241-7c3694b36255",
        "colab": {
          "base_uri": "https://localhost:8080/"
        }
      },
      "execution_count": 25,
      "outputs": [
        {
          "output_type": "stream",
          "name": "stdout",
          "text": [
            "1/1 [==============================] - 0s 410ms/step\n",
            "[[-160.45331   -27.11175   -14.85105 ]\n",
            " [-158.05544   -28.564264  -13.943055]\n",
            " [-158.1717    -27.177637  -14.160987]]\n"
          ]
        }
      ]
    }
  ]
}