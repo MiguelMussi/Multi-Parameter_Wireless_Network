{
  "nbformat": 4,
  "nbformat_minor": 0,
  "metadata": {
    "colab": {
      "provenance": []
    },
    "kernelspec": {
      "name": "python3",
      "display_name": "Python 3"
    },
    "language_info": {
      "name": "python"
    }
  },
  "cells": [
    {
      "cell_type": "code",
      "execution_count": 3,
      "metadata": {
        "colab": {
          "base_uri": "https://localhost:8080/",
          "height": 197
        },
        "id": "TvoLS3KJ2aDP",
        "outputId": "7415c469-5b38-4d56-844b-cb3cb125cdf1"
      },
      "outputs": [
        {
          "output_type": "display_data",
          "data": {
            "text/plain": [
              "<PIL.Image.Image image mode=L size=180x180>"
            ],
            "image/png": "[encoded data removed]"
          },
          "metadata": {}
        }
      ],
      "source": [
        "import cv2\n",
        "import numpy as np\n",
        "import math\n",
        "from google.colab.patches import cv2_imshow\n",
        "\n",
        "def draw_antennas(image, antennas, attenuation):\n",
        "    # Convertir la imagen a escala de grises\n",
        "    gray_image = cv2.cvtColor(image, cv2.COLOR_BGR2GRAY)\n",
        "\n",
        "    # Iterar sobre las coordenadas de las antenas\n",
        "    for (x, y), azimuth in antennas:\n",
        "        # Origen del vector\n",
        "        origin = (x, y)\n",
        "\n",
        "        # Calcular el desplazamiento en x e y basado en el ángulo y la atenuación\n",
        "        dx = math.cos(math.radians(azimuth))\n",
        "        dy = math.sin(math.radians(azimuth))\n",
        "\n",
        "        # Dibujar el vector desde la antena hasta el límite definido por la atenuación\n",
        "        for i in range(attenuation):\n",
        "            # Calcular las coordenadas del punto a lo largo del vector\n",
        "            px = int(x + dx * i)\n",
        "            py = int(y + dy * i)\n",
        "\n",
        "            # Asegurarse de que las coordenadas estén dentro de la imagen\n",
        "            if 0 <= px < image.shape[1] and 0 <= py < image.shape[0]:\n",
        "                # Colorear el píxel en escala de grises\n",
        "                gray_image[py, px] = 0  # Negro\n",
        "                # Puedes ajustar el valor (0) para obtener diferentes tonos de gris\n",
        "\n",
        "    return gray_image\n",
        "\n",
        "# Definir las coordenadas de las antenas y sus direcciones de azimuth\n",
        "antennas = [((50, 50), 45), ((100, 100), 135), ((150, 50), 225)]\n",
        "\n",
        "# Tamaño de la imagen\n",
        "image_size = (180, 180)\n",
        "\n",
        "# Crear una imagen en blanco\n",
        "image = np.ones((image_size[0], image_size[1], 3), dtype=np.uint8) * 255\n",
        "\n",
        "# Definir la atenuación\n",
        "attenuation = 20  # Puedes ajustar este valor según sea necesario\n",
        "\n",
        "# Dibujar las antenas en la imagen\n",
        "result_image = draw_antennas(image, antennas, attenuation)\n",
        "\n",
        "# Mostrar la imagen resultante\n",
        "cv2_imshow(result_image)\n"
      ]
    },
    {
      "cell_type": "code",
      "source": [
        "import cv2\n",
        "import numpy as np\n",
        "import math\n",
        "from google.colab.patches import cv2_imshow\n",
        "\n",
        "def draw_antennas(image, antennas, attenuation):\n",
        "    # Convertir la imagen a escala de grises\n",
        "    gray_image = cv2.cvtColor(image, cv2.COLOR_BGR2GRAY)\n",
        "\n",
        "    # Iterar sobre las coordenadas de las antenas\n",
        "    for (x, y), azimuth in antennas:\n",
        "        # Origen del vector\n",
        "        origin = (x, y)\n",
        "\n",
        "        # Calcular el desplazamiento en x e y basado en el ángulo y la atenuación\n",
        "        dx = math.cos(math.radians(azimuth))\n",
        "        dy = math.sin(math.radians(azimuth))\n",
        "\n",
        "        # Dibujar el vector desde la antena hasta el límite definido por la atenuación\n",
        "        for i in range(attenuation):\n",
        "            # Calcular las coordenadas del punto a lo largo del vector\n",
        "            px = int(x + dx * i)\n",
        "            py = int(y + dy * i)\n",
        "\n",
        "            # Asegurarse de que las coordenadas estén dentro de la imagen\n",
        "            if 0 <= px < image.shape[1] and 0 <= py < image.shape[0]:\n",
        "                # Calcular la intensidad del píxel basada en la distancia al origen de la antena\n",
        "                intensity = int(255 * (1 - i / attenuation))  # Atenuación gradual\n",
        "\n",
        "                # Colorear el píxel en escala de grises\n",
        "                gray_image[py, px] = intensity\n",
        "\n",
        "    return gray_image\n",
        "\n",
        "# Definir las coordenadas de las antenas y sus direcciones de azimuth\n",
        "\n",
        "antennas = [\n",
        "    ((20, 30), 45),   # Antena 1\n",
        "    ((50, 70), 90),   # Antena 2\n",
        "    ((80, 110), 135), # Antena 3\n",
        "    ((110, 150), 180),# Antena 4\n",
        "    ((140, 30), 225), # Antena 5\n",
        "    ((170, 70), 270), # Antena 6\n",
        "    ((200, 110), 315),# Antena 7\n",
        "    ((230, 150), 0),  # Antena 8\n",
        "    ((100, 60), 45),  # Antena 9\n",
        "    ((180, 120), 180) # Antena 10\n",
        "]\n",
        "\n",
        "# Tamaño de la imagen\n",
        "image_size = (180, 180)\n",
        "\n",
        "# Crear una imagen en blanco\n",
        "image = np.ones((image_size[0], image_size[1], 3), dtype=np.uint8) * 255\n",
        "\n",
        "# Definir la atenuación\n",
        "attenuation = 50  # Puedes ajustar este valor según sea necesario\n",
        "\n",
        "# Dibujar las antenas en la imagen\n",
        "result_image = draw_antennas(image, antennas, attenuation)\n",
        "\n",
        "# Mostrar la imagen resultante\n",
        "cv2_imshow(result_image)\n"
      ],
      "metadata": {
        "colab": {
          "base_uri": "https://localhost:8080/",
          "height": 197
        },
        "id": "Pjyca5tx3Mqy",
        "outputId": "6cc84d5a-1796-4607-bf2c-961cf7af3130"
      },
      "execution_count": 6,
      "outputs": [
        {
          "output_type": "display_data",
          "data": {
            "text/plain": [
              "<PIL.Image.Image image mode=L size=180x180>"
            ],
            "image/png": "[encoded data removed]"
          },
          "metadata": {}
        }
      ]
    },
    {
      "cell_type": "code",
      "source": [
        "import cv2\n",
        "import numpy as np\n",
        "import math\n",
        "from google.colab.patches import cv2_imshow\n",
        "\n",
        "def draw_antennas(image, antennas, attenuation):\n",
        "    # Convertir la imagen a escala de grises\n",
        "    gray_image = cv2.cvtColor(image, cv2.COLOR_BGR2GRAY)\n",
        "\n",
        "    # Iterar sobre las coordenadas de las antenas\n",
        "    for (x, y), azimuth, amplitude in antennas:\n",
        "        # Dibujar el sector circular para cada antena\n",
        "        for angle in range(azimuth - amplitude, azimuth + amplitude + 1):\n",
        "            # Calcular el desplazamiento en x e y basado en el ángulo\n",
        "            dx = math.cos(math.radians(angle))\n",
        "            dy = math.sin(math.radians(angle))\n",
        "\n",
        "            # Dibujar el vector desde la antena hasta el límite definido por la atenuación\n",
        "            for i in range(attenuation):\n",
        "                # Calcular las coordenadas del punto a lo largo del vector\n",
        "                px = int(x + dx * i)\n",
        "                py = int(y + dy * i)\n",
        "\n",
        "                # Asegurarse de que las coordenadas estén dentro de la imagen\n",
        "                if 0 <= px < image.shape[1] and 0 <= py < image.shape[0]:\n",
        "                    # Colorear el píxel en escala de grises\n",
        "                    gray_image[py, px] = 0  # Negro\n",
        "                    # Puedes ajustar el valor (0) para obtener diferentes tonos de gris\n",
        "\n",
        "    return gray_image\n",
        "\n",
        "# Definir las coordenadas de las antenas, sus direcciones de azimuth y amplitudes de ángulo\n",
        "antennas = [\n",
        "    ((50, 50), 45, 30),   # Antena 1\n",
        "    ((100, 100), 135, 45),   # Antena 2\n",
        "    ((150, 50), 225, 60)   # Antena 3\n",
        "    # Puedes agregar más antenas según sea necesario\n",
        "]\n",
        "\n",
        "# Tamaño de la imagen\n",
        "image_size = (180, 180)\n",
        "\n",
        "# Crear una imagen en blanco\n",
        "image = np.ones((image_size[0], image_size[1], 3), dtype=np.uint8) * 255\n",
        "\n",
        "# Definir la atenuación\n",
        "attenuation = 50  # Puedes ajustar este valor según sea necesario\n",
        "\n",
        "# Dibujar las antenas en la imagen\n",
        "result_image = draw_antennas(image, antennas, attenuation)\n",
        "\n",
        "# Mostrar la imagen resultante\n",
        "cv2_imshow(result_image)\n"
      ],
      "metadata": {
        "colab": {
          "base_uri": "https://localhost:8080/",
          "height": 197
        },
        "id": "7ibgoglr5l6n",
        "outputId": "89077471-d6b8-46e4-9cb1-a9fe6c74a429"
      },
      "execution_count": 7,
      "outputs": [
        {
          "output_type": "display_data",
          "data": {
            "text/plain": [
              "<PIL.Image.Image image mode=L size=180x180>"
            ],
            "image/png": "[encoded data removed]"
          },
          "metadata": {}
        }
      ]
    },
    {
      "cell_type": "code",
      "source": [
        "import cv2\n",
        "import numpy as np\n",
        "import math\n",
        "from google.colab.patches import cv2_imshow\n",
        "\n",
        "def draw_antennas(image, antennas, attenuation):\n",
        "    # Convertir la imagen a escala de grises\n",
        "    gray_image = cv2.cvtColor(image, cv2.COLOR_BGR2GRAY)\n",
        "\n",
        "    # Iterar sobre las coordenadas de las antenas\n",
        "    for (x, y), azimuth, amplitude in antennas:\n",
        "        # Dibujar el sector circular para cada antena\n",
        "        for angle in range(azimuth - amplitude, azimuth + amplitude + 1):\n",
        "            # Calcular el desplazamiento en x e y basado en el ángulo\n",
        "            dx = math.cos(math.radians(angle))\n",
        "            dy = math.sin(math.radians(angle))\n",
        "\n",
        "            # Dibujar el vector desde la antena hasta el límite definido por la atenuación\n",
        "            for i in range(attenuation):\n",
        "                # Calcular las coordenadas del punto a lo largo del vector\n",
        "                px = int(x + dx * i)\n",
        "                py = int(y + dy * i)\n",
        "\n",
        "                # Asegurarse de que las coordenadas estén dentro de la imagen\n",
        "                if 0 <= px < image.shape[1] and 0 <= py < image.shape[0]:\n",
        "                    # Calcular la intensidad del píxel basada en la distancia al origen de la antena\n",
        "                    intensity = int(255 * (i / attenuation))  # Atenuación gradual inversa\n",
        "\n",
        "                    # Colorear el píxel en escala de grises\n",
        "                    gray_image[py, px] = intensity\n",
        "\n",
        "    return gray_image\n",
        "\n",
        "# Definir las coordenadas de las antenas, sus direcciones de azimuth y amplitudes de ángulo\n",
        "antennas = [\n",
        "    ((20, 30), 45, 30),   # Antena 1\n",
        "    ((50, 70), 90, 20),   # Antena 2\n",
        "    ((80, 110), 135, 40), # Antena 3\n",
        "    ((110, 150), 180, 25),# Antena 4\n",
        "    ((140, 30), 225, 30), # Antena 5\n",
        "    ((170, 70), 270, 35), # Antena 6\n",
        "    ((200, 110), 315, 20),# Antena 7\n",
        "    ((230, 150), 0, 45),  # Antena 8\n",
        "    ((100, 60), 45, 25),  # Antena 9\n",
        "    ((180, 120), 180, 30) # Antena 10\n",
        "]\n",
        "\n",
        "# Tamaño de la imagen\n",
        "image_size = (180, 180)\n",
        "\n",
        "# Crear una imagen en blanco\n",
        "image = np.ones((image_size[0], image_size[1], 3), dtype=np.uint8) * 255\n",
        "\n",
        "# Definir la atenuación\n",
        "attenuation = 25  # Puedes ajustar este valor según sea necesario\n",
        "\n",
        "# Dibujar las antenas en la imagen\n",
        "result_image = draw_antennas(image, antennas, attenuation)\n",
        "\n",
        "# Mostrar la imagen resultante\n",
        "cv2_imshow(result_image)\n"
      ],
      "metadata": {
        "colab": {
          "base_uri": "https://localhost:8080/",
          "height": 197
        },
        "id": "QX8eQf8A5ugu",
        "outputId": "1db87259-b5f1-490f-cbc0-3b6b662ba0f5"
      },
      "execution_count": 13,
      "outputs": [
        {
          "output_type": "display_data",
          "data": {
            "text/plain": [
              "<PIL.Image.Image image mode=L size=180x180>"
            ],
            "image/png": "[encoded data removed]"
          },
          "metadata": {}
        }
      ]
    },
    {
      "cell_type": "code",
      "source": [
        "import cv2\n",
        "import numpy as np\n",
        "import math\n",
        "from google.colab.patches import cv2_imshow\n",
        "\n",
        "def draw_antennas(image, antenna_data, attenuation):\n",
        "    # Convertir la imagen a escala de grises\n",
        "    gray_image = cv2.cvtColor(image, cv2.COLOR_BGR2GRAY)\n",
        "\n",
        "    # Parsear la información de las antenas\n",
        "    antennas = parse_antennas(antenna_data)\n",
        "\n",
        "    # Iterar sobre las antenas\n",
        "    for (x, y), azimuth, amplitude in antennas:\n",
        "        # Dibujar el sector circular para cada antena\n",
        "        for angle in range(azimuth - amplitude, azimuth + amplitude + 1):\n",
        "            # Calcular el desplazamiento en x e y basado en el ángulo\n",
        "            dx = math.cos(math.radians(angle))\n",
        "            dy = math.sin(math.radians(angle))\n",
        "\n",
        "            # Dibujar el vector desde la antena hasta el límite definido por la atenuación\n",
        "            for i in range(attenuation):\n",
        "                # Calcular las coordenadas del punto a lo largo del vector\n",
        "                px = int(x + dx * i)\n",
        "                py = int(y + dy * i)\n",
        "\n",
        "                # Asegurarse de que las coordenadas estén dentro de la imagen\n",
        "                if 0 <= px < image.shape[1] and 0 <= py < image.shape[0]:\n",
        "                    # Calcular la intensidad del píxel basada en la distancia al origen de la antena\n",
        "                    intensity = int(255 * (i / attenuation))  # Atenuación gradual inversa\n",
        "\n",
        "                    # Colorear el píxel en escala de grises\n",
        "                    gray_image[py, px] = intensity\n",
        "\n",
        "    return gray_image\n",
        "\n",
        "def parse_antennas(antenna_list):\n",
        "    antennas = []\n",
        "    for i in range(0, len(antenna_list), 4):\n",
        "        x = antenna_list[i]\n",
        "        y = antenna_list[i + 1]\n",
        "        azimuth = antenna_list[i + 2]\n",
        "        amplitude = antenna_list[i + 3]\n",
        "        antennas.append(((x, y), azimuth, amplitude))\n",
        "    return antennas\n",
        "\n",
        "# Tamaño de la imagen\n",
        "image_size = (180, 180)\n",
        "\n",
        "# Crear una imagen en blanco\n",
        "image = np.ones((image_size[0], image_size[1], 3), dtype=np.uint8) * 255\n",
        "\n",
        "# Lista de antenas en formato cíclico (x, y, azimuth, amplitud)\n",
        "antenna_data = [\n",
        "    20, 30, 45, 30,\n",
        "    50, 70, 90, 20,\n",
        "    80, 110, 135, 40,\n",
        "    110, 150, 180, 25,\n",
        "    140, 30, 225, 30,\n",
        "    170, 70, 270, 35,\n",
        "    200, 110, 315, 20,\n",
        "    230, 150, 0, 45,\n",
        "    100, 60, 45, 25,\n",
        "    180, 120, 180, 30\n",
        "]\n",
        "\n",
        "# Definir la atenuación\n",
        "attenuation = 30  # Puedes ajustar este valor según sea necesario\n",
        "\n",
        "# Dibujar las antenas en la imagen\n",
        "result_image = draw_antennas(image, antenna_data, attenuation)\n",
        "\n",
        "# Mostrar la imagen resultante\n",
        "cv2_imshow(result_image)\n",
        "\n"
      ],
      "metadata": {
        "colab": {
          "base_uri": "https://localhost:8080/",
          "height": 197
        },
        "id": "7ABTUU2N-CJG",
        "outputId": "94fe0b2c-79c6-431c-fe99-02247bdcbd46"
      },
      "execution_count": 5,
      "outputs": [
        {
          "output_type": "display_data",
          "data": {
            "text/plain": [
              "<PIL.Image.Image image mode=L size=180x180>"
            ],
            "image/png": "[encoded data removed]"
          },
          "metadata": {}
        }
      ]
    },
    {
      "cell_type": "code",
      "source": [],
      "metadata": {
        "id": "hUy_MtlB-qYJ"
      },
      "execution_count": null,
      "outputs": []
    }
  ]
}